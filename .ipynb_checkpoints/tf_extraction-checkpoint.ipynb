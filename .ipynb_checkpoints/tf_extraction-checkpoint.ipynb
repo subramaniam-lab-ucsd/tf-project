{
 "cells": [
  {
   "cell_type": "markdown",
   "id": "3bf44edb-d5d6-4455-a30b-49a4cc6b57fd",
   "metadata": {},
   "source": [
    "Transcription Factor Extraction\n",
    "\n",
    "Robin Anwyl\n",
    "\n",
    "Goal: open Mali lab dataset .h5mu file and extract all ~2k transcription factors from the set of ~11k genes"
   ]
  }
 ],
 "metadata": {
  "kernelspec": {
   "display_name": "Python 3.10 (bioenv)",
   "language": "python",
   "name": "bioenv"
  },
  "language_info": {
   "codemirror_mode": {
    "name": "ipython",
    "version": 3
   },
   "file_extension": ".py",
   "mimetype": "text/x-python",
   "name": "python",
   "nbconvert_exporter": "python",
   "pygments_lexer": "ipython3",
   "version": "3.10.5"
  }
 },
 "nbformat": 4,
 "nbformat_minor": 5
}
