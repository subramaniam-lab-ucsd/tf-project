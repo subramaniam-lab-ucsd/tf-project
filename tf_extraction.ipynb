{
 "cells": [
  {
   "cell_type": "markdown",
   "id": "3bf44edb-d5d6-4455-a30b-49a4cc6b57fd",
   "metadata": {},
   "source": [
    "# Transcription Factor Extraction\n",
    "**Author:** Robin Anwyl\n",
    "\n",
    "**Objective:** Read in Perturb-Seq hiPSC CRISPR KO scRNA-seq dataset from Mali Lab and extract the transcription factors from the full list of gene knockouts\n",
    "***"
   ]
  },
  {
   "cell_type": "markdown",
   "id": "30e3e29b",
   "metadata": {},
   "source": [
    "Read in the scRNA-seq dataset, which is a .h5mu file, and assign it to the variable `mdata`"
   ]
  },
  {
   "cell_type": "code",
   "execution_count": null,
   "id": "1ec76ce5",
   "metadata": {},
   "outputs": [],
   "source": [
    "import mudata\n",
    "mdata = mudata.read_h5mu(\"/home/data/Mali_project/KOLF_Pan_Genome_Aggregate.h5mu\")"
   ]
  },
  {
   "cell_type": "markdown",
   "id": "ad436414",
   "metadata": {},
   "source": [
    "Rich representation of `mdata`, which is a `MuData` object"
   ]
  },
  {
   "cell_type": "code",
   "execution_count": null,
   "id": "c4468968",
   "metadata": {},
   "outputs": [
    {
     "data": {
      "text/html": [
       "<style>\n",
       ".scv-mudata-repr-html {\n",
       "    .hl-dim, .hl-size, .hl-values, .hl-types, .hl-dims {\n",
       "    color: #777777;\n",
       "    }\n",
       "    .hl-dim::before, .hl-size::before {\n",
       "    content: \"\\00a0\\00a0\\00a0\";\n",
       "    }\n",
       "    .hl-values {\n",
       "    font-family: monospace;\n",
       "    }\n",
       "    .hl-file {\n",
       "    background-color: #EEEEEE;\n",
       "    border-radius: .5rem;\n",
       "    padding: .2rem .4rem;\n",
       "    color: #555555;\n",
       "    }\n",
       "    .hl-empty {\n",
       "    color: #999999;\n",
       "    }\n",
       "    .hl-import {\n",
       "    color: #777777;\n",
       "    }\n",
       "    .block-mod {\n",
       "    display: block;\n",
       "    margin: 0 2rem;\n",
       "    }\n",
       "    .title {\n",
       "    display: inline-block;\n",
       "    font-weight: 600;\n",
       "    color: #555555;\n",
       "    }\n",
       "    .title-mod {\n",
       "    font-size: 1.2rem;\n",
       "    color: #04b374;\n",
       "    padding: 0 .5rem;\n",
       "    }\n",
       "    .title-attr {\n",
       "    font-size: 1.0rem;\n",
       "    padding-top: .2rem;\n",
       "    }\n",
       "    summary {\n",
       "    cursor: pointer;\n",
       "    list-style: none;\n",
       "    }\n",
       "    summary::-webkit-details-marker {\n",
       "    display: none;\n",
       "    }\n",
       "    details > summary::before {\n",
       "    content: '⊕';\n",
       "    }\n",
       "    details[open] > summary::before {\n",
       "    content: '⊖';\n",
       "    }\n",
       "    table tr {\n",
       "    background-color: transparent !important;\n",
       "    }\n",
       "    table tr:hover {\n",
       "    background-color: #04b37433 !important;\n",
       "    }\n",
       "    .col-index {\n",
       "    text-align: left !important;\n",
       "    }\n",
       "    .summary-mod {\n",
       "    margin-left: -2rem;\n",
       "    }\n",
       "    .summary-mod:hover {\n",
       "    background-color: #04b37411;\n",
       "    }\n",
       "    .summary-mod::before {\n",
       "    color: #04b374;\n",
       "    content: '●';\n",
       "    }\n",
       "    details[open] > .summary-mod::before {\n",
       "    content: '○';\n",
       "    }\n",
       "}\n",
       "</style><div class='scv-mudata-repr-html'><span>MuData object <span class='hl-dim'>5386783 obs &times; 74595 var in 2 modalities</span></span><br><details><summary><div class='title title-attr'>Metadata</div><span class='hl-dim'>.obs</span><span class='hl-size'>0 elements</span></summary><span class='hl-empty'>No metadata</span></details><details><summary><div class='title title-attr'>Embeddings & mappings</div><span class='hl-dim'>.obsm</span><span class='hl-size'>2 elements</span></summary><div><table><tr>\n",
       "                                       <td class='col-index'>crispr</td>  <td class='hl-types'>bool</td>  <td><span class='hl-import'>numpy.</span>ndarray</td>  <td class='hl-dims'></td>\n",
       "                                   </tr>\n",
       "<tr>\n",
       "                                       <td class='col-index'>rna</td>  <td class='hl-types'>bool</td>  <td><span class='hl-import'>numpy.</span>ndarray</td>  <td class='hl-dims'></td>\n",
       "                                   </tr></table></div></details><details><summary><div class='title title-attr'>Distances</div><span class='hl-dim'>.obsp</span><span class='hl-size'>0 elements</span></summary><span class='hl-empty'>No distances</span></details><div class='block-mod'><div><details><summary class='summary-mod'><div class='title title-mod'>rna</div><span class='hl-dim'>5386783 &times 38606</span></summary><span>AnnData object <span class='hl-dim'>5386783 obs &times; 38606 var</span></span><br><div class='title title-attr'>Matrix</div><span class='hl-dim'>.X</span><div>\n",
       "            <span class='hl-types'>float32</span> <span>&nbsp;&nbsp;&nbsp;<span class='hl-import'>scipy.sparse._csc.</span>csc_matrix</span>\n",
       "         </table></div><details><summary><div class='title title-attr'>Layers</div><span class='hl-dim'>.layers</span><span class='hl-size'>0 elements</span></summary><span class='hl-empty'>No layers</span></details><details><summary><div class='title title-attr'>Metadata</div><span class='hl-dim'>.obs</span><span class='hl-size'>0 elements</span></summary><span class='hl-empty'>No metadata</span></details><details><summary><div class='title title-attr'>Embeddings</div><span class='hl-dim'>.obsm</span><span class='hl-size'>0 elements</span></summary><span class='hl-empty'>No embeddings</span></details><details><summary><div class='title title-attr'>Distances</div><span class='hl-dim'>.obsp</span><span class='hl-size'>0 elements</span></summary><span class='hl-empty'>No distances</span></details><details><summary><div class='title title-attr'>Miscellaneous</div><span class='hl-dim'>.uns</span><span class='hl-size'>0 elements</span></summary><span class='hl-empty'>No miscellaneous</span></details></details></div></div><div class='block-mod'><div><details><summary class='summary-mod'><div class='title title-mod'>crispr</div><span class='hl-dim'>5386783 &times 35989</span></summary><span>AnnData object <span class='hl-dim'>5386783 obs &times; 35989 var</span></span><br><div class='title title-attr'>Matrix</div><span class='hl-dim'>.X</span><div>\n",
       "            <span class='hl-types'>float32</span> <span>&nbsp;&nbsp;&nbsp;<span class='hl-import'>scipy.sparse._csc.</span>csc_matrix</span>\n",
       "         </table></div><details><summary><div class='title title-attr'>Layers</div><span class='hl-dim'>.layers</span><span class='hl-size'>0 elements</span></summary><span class='hl-empty'>No layers</span></details><details><summary><div class='title title-attr'>Metadata</div><span class='hl-dim'>.obs</span><span class='hl-size'>0 elements</span></summary><span class='hl-empty'>No metadata</span></details><details><summary><div class='title title-attr'>Embeddings</div><span class='hl-dim'>.obsm</span><span class='hl-size'>0 elements</span></summary><span class='hl-empty'>No embeddings</span></details><details><summary><div class='title title-attr'>Distances</div><span class='hl-dim'>.obsp</span><span class='hl-size'>0 elements</span></summary><span class='hl-empty'>No distances</span></details><details><summary><div class='title title-attr'>Miscellaneous</div><span class='hl-dim'>.uns</span><span class='hl-size'>0 elements</span></summary><span class='hl-empty'>No miscellaneous</span></details></details></div></div><br/></div>"
      ],
      "text/plain": [
       "MuData object with n_obs × n_vars = 5386783 × 74595\n",
       "  var:\t'gene_ids', 'feature_types'\n",
       "  2 modalities\n",
       "    rna:\t5386783 x 38606\n",
       "      var:\t'gene_ids', 'feature_types'\n",
       "    crispr:\t5386783 x 35989\n",
       "      var:\t'gene_ids', 'feature_types'"
      ]
     },
     "metadata": {},
     "output_type": "display_data"
    }
   ],
   "source": [
    "with mudata.set_options(display_style = \"html\", display_html_expand = 0b000):\n",
    "    display(mdata)"
   ]
  },
  {
   "cell_type": "markdown",
   "id": "7c2c0993",
   "metadata": {},
   "source": [
    "Access the `rna` cell-by-gene matrix and `crispr` cell-by-knockout matrix, which are `AnnData` objects.\n",
    "- `rna`: 5386783 cells x 38606 features  \n",
    "    - Features = expression of each gene in the human genome\n",
    "- `crispr`: 5386783 cells x 35989 features\n",
    "    - Features = CRISPR sgRNAs (3 sgRNAs per gene target * 11739 gene targets, plus 478 non-targeting control sgRNAs)"
   ]
  },
  {
   "cell_type": "code",
   "execution_count": null,
   "id": "75411864",
   "metadata": {},
   "outputs": [],
   "source": [
    "rna_adata = mdata['rna']\n",
    "crispr_adata = mdata['crispr']"
   ]
  },
  {
   "cell_type": "markdown",
   "id": "70b7f562",
   "metadata": {},
   "source": [
    "`rna` and `crispr` both have `obs` and `var` attributes. \n",
    "\n",
    "- `obs` = cell barcodes associated with single cells; same for both `rna` and `crispr`  \n",
    "- `rna.var` = human genes, `crispr.var` = gene knockouts"
   ]
  },
  {
   "cell_type": "code",
   "execution_count": null,
   "id": "24eecaa0",
   "metadata": {},
   "outputs": [
    {
     "data": {
      "text/html": [
       "<div>\n",
       "<style scoped>\n",
       "    .dataframe tbody tr th:only-of-type {\n",
       "        vertical-align: middle;\n",
       "    }\n",
       "\n",
       "    .dataframe tbody tr th {\n",
       "        vertical-align: top;\n",
       "    }\n",
       "\n",
       "    .dataframe thead th {\n",
       "        text-align: right;\n",
       "    }\n",
       "</style>\n",
       "<table border=\"1\" class=\"dataframe\">\n",
       "  <thead>\n",
       "    <tr style=\"text-align: right;\">\n",
       "      <th></th>\n",
       "      <th>gene_ids</th>\n",
       "      <th>feature_types</th>\n",
       "    </tr>\n",
       "  </thead>\n",
       "  <tbody>\n",
       "    <tr>\n",
       "      <th>DDX11L2</th>\n",
       "      <td>ENSG00000290825</td>\n",
       "      <td>Gene Expression</td>\n",
       "    </tr>\n",
       "    <tr>\n",
       "      <th>MIR1302-2HG</th>\n",
       "      <td>ENSG00000243485</td>\n",
       "      <td>Gene Expression</td>\n",
       "    </tr>\n",
       "    <tr>\n",
       "      <th>FAM138A</th>\n",
       "      <td>ENSG00000237613</td>\n",
       "      <td>Gene Expression</td>\n",
       "    </tr>\n",
       "    <tr>\n",
       "      <th>ENSG00000290826</th>\n",
       "      <td>ENSG00000290826</td>\n",
       "      <td>Gene Expression</td>\n",
       "    </tr>\n",
       "    <tr>\n",
       "      <th>OR4F5</th>\n",
       "      <td>ENSG00000186092</td>\n",
       "      <td>Gene Expression</td>\n",
       "    </tr>\n",
       "    <tr>\n",
       "      <th>...</th>\n",
       "      <td>...</td>\n",
       "      <td>...</td>\n",
       "    </tr>\n",
       "    <tr>\n",
       "      <th>ENSG00000277836</th>\n",
       "      <td>ENSG00000277836</td>\n",
       "      <td>Gene Expression</td>\n",
       "    </tr>\n",
       "    <tr>\n",
       "      <th>ENSG00000278633</th>\n",
       "      <td>ENSG00000278633</td>\n",
       "      <td>Gene Expression</td>\n",
       "    </tr>\n",
       "    <tr>\n",
       "      <th>ENSG00000276017</th>\n",
       "      <td>ENSG00000276017</td>\n",
       "      <td>Gene Expression</td>\n",
       "    </tr>\n",
       "    <tr>\n",
       "      <th>ENSG00000278817</th>\n",
       "      <td>ENSG00000278817</td>\n",
       "      <td>Gene Expression</td>\n",
       "    </tr>\n",
       "    <tr>\n",
       "      <th>ENSG00000277196</th>\n",
       "      <td>ENSG00000277196</td>\n",
       "      <td>Gene Expression</td>\n",
       "    </tr>\n",
       "  </tbody>\n",
       "</table>\n",
       "<p>38606 rows × 2 columns</p>\n",
       "</div>"
      ],
      "text/plain": [
       "                        gene_ids    feature_types\n",
       "DDX11L2          ENSG00000290825  Gene Expression\n",
       "MIR1302-2HG      ENSG00000243485  Gene Expression\n",
       "FAM138A          ENSG00000237613  Gene Expression\n",
       "ENSG00000290826  ENSG00000290826  Gene Expression\n",
       "OR4F5            ENSG00000186092  Gene Expression\n",
       "...                          ...              ...\n",
       "ENSG00000277836  ENSG00000277836  Gene Expression\n",
       "ENSG00000278633  ENSG00000278633  Gene Expression\n",
       "ENSG00000276017  ENSG00000276017  Gene Expression\n",
       "ENSG00000278817  ENSG00000278817  Gene Expression\n",
       "ENSG00000277196  ENSG00000277196  Gene Expression\n",
       "\n",
       "[38606 rows x 2 columns]"
      ]
     },
     "execution_count": 7,
     "metadata": {},
     "output_type": "execute_result"
    }
   ],
   "source": [
    "rna_adata.var"
   ]
  },
  {
   "cell_type": "code",
   "execution_count": null,
   "id": "5132651a",
   "metadata": {},
   "outputs": [
    {
     "data": {
      "text/html": [
       "<div>\n",
       "<style scoped>\n",
       "    .dataframe tbody tr th:only-of-type {\n",
       "        vertical-align: middle;\n",
       "    }\n",
       "\n",
       "    .dataframe tbody tr th {\n",
       "        vertical-align: top;\n",
       "    }\n",
       "\n",
       "    .dataframe thead th {\n",
       "        text-align: right;\n",
       "    }\n",
       "</style>\n",
       "<table border=\"1\" class=\"dataframe\">\n",
       "  <thead>\n",
       "    <tr style=\"text-align: right;\">\n",
       "      <th></th>\n",
       "      <th>gene_ids</th>\n",
       "      <th>feature_types</th>\n",
       "    </tr>\n",
       "  </thead>\n",
       "  <tbody>\n",
       "    <tr>\n",
       "      <th>A1BG_1</th>\n",
       "      <td>A1BG_1</td>\n",
       "      <td>CRISPR Guide Capture</td>\n",
       "    </tr>\n",
       "    <tr>\n",
       "      <th>A1BG_2</th>\n",
       "      <td>A1BG_2</td>\n",
       "      <td>CRISPR Guide Capture</td>\n",
       "    </tr>\n",
       "    <tr>\n",
       "      <th>A1BG_3</th>\n",
       "      <td>A1BG_3</td>\n",
       "      <td>CRISPR Guide Capture</td>\n",
       "    </tr>\n",
       "    <tr>\n",
       "      <th>A1CF_1</th>\n",
       "      <td>A1CF_1</td>\n",
       "      <td>CRISPR Guide Capture</td>\n",
       "    </tr>\n",
       "    <tr>\n",
       "      <th>A1CF_2</th>\n",
       "      <td>A1CF_2</td>\n",
       "      <td>CRISPR Guide Capture</td>\n",
       "    </tr>\n",
       "    <tr>\n",
       "      <th>...</th>\n",
       "      <td>...</td>\n",
       "      <td>...</td>\n",
       "    </tr>\n",
       "    <tr>\n",
       "      <th>ZZEF1_2</th>\n",
       "      <td>ZZEF1_2</td>\n",
       "      <td>CRISPR Guide Capture</td>\n",
       "    </tr>\n",
       "    <tr>\n",
       "      <th>ZZEF1_3</th>\n",
       "      <td>ZZEF1_3</td>\n",
       "      <td>CRISPR Guide Capture</td>\n",
       "    </tr>\n",
       "    <tr>\n",
       "      <th>ZZZ3_1</th>\n",
       "      <td>ZZZ3_1</td>\n",
       "      <td>CRISPR Guide Capture</td>\n",
       "    </tr>\n",
       "    <tr>\n",
       "      <th>ZZZ3_2</th>\n",
       "      <td>ZZZ3_2</td>\n",
       "      <td>CRISPR Guide Capture</td>\n",
       "    </tr>\n",
       "    <tr>\n",
       "      <th>ZZZ3_3</th>\n",
       "      <td>ZZZ3_3</td>\n",
       "      <td>CRISPR Guide Capture</td>\n",
       "    </tr>\n",
       "  </tbody>\n",
       "</table>\n",
       "<p>35989 rows × 2 columns</p>\n",
       "</div>"
      ],
      "text/plain": [
       "        gene_ids         feature_types\n",
       "A1BG_1    A1BG_1  CRISPR Guide Capture\n",
       "A1BG_2    A1BG_2  CRISPR Guide Capture\n",
       "A1BG_3    A1BG_3  CRISPR Guide Capture\n",
       "A1CF_1    A1CF_1  CRISPR Guide Capture\n",
       "A1CF_2    A1CF_2  CRISPR Guide Capture\n",
       "...          ...                   ...\n",
       "ZZEF1_2  ZZEF1_2  CRISPR Guide Capture\n",
       "ZZEF1_3  ZZEF1_3  CRISPR Guide Capture\n",
       "ZZZ3_1    ZZZ3_1  CRISPR Guide Capture\n",
       "ZZZ3_2    ZZZ3_2  CRISPR Guide Capture\n",
       "ZZZ3_3    ZZZ3_3  CRISPR Guide Capture\n",
       "\n",
       "[35989 rows x 2 columns]"
      ]
     },
     "execution_count": 8,
     "metadata": {},
     "output_type": "execute_result"
    }
   ],
   "source": [
    "crispr_adata.var"
   ]
  },
  {
   "cell_type": "markdown",
   "id": "31ac6da8",
   "metadata": {},
   "source": [
    "Get the list of all gene KOs (which can then be compared to a database of human TFs and narrowed down to only the TF KOs)"
   ]
  },
  {
   "cell_type": "code",
   "execution_count": 22,
   "id": "4a7cccb7",
   "metadata": {},
   "outputs": [
    {
     "name": "stdout",
     "output_type": "stream",
     "text": [
      "['A1BG', 'A1CF', 'A4GALT', 'AAAS', 'AACS', 'AADAT', 'AAGAB', 'AAMP', 'AAR2', 'AARD']\n"
     ]
    }
   ],
   "source": [
    "crispr_sgrnas = crispr_adata.var.index.tolist()\n",
    "crispr_genes = {crispr_sgrnas[i][:-2] for i in range(len(crispr_sgrnas))}\n",
    "crispr_genes = sorted(list(crispr_genes))\n",
    "print(crispr_genes[:10])\n",
    "# with open(\"gene_knockouts.txt\", \"w\") as f:\n",
    "#     for gene in crispr_genes:\n",
    "#         f.write(gene + \"\\n\")"
   ]
  }
 ],
 "metadata": {
  "kernelspec": {
   "display_name": "condaenv310",
   "language": "python",
   "name": "python3"
  },
  "language_info": {
   "codemirror_mode": {
    "name": "ipython",
    "version": 3
   },
   "file_extension": ".py",
   "mimetype": "text/x-python",
   "name": "python",
   "nbconvert_exporter": "python",
   "pygments_lexer": "ipython3",
   "version": "3.10.16"
  }
 },
 "nbformat": 4,
 "nbformat_minor": 5
}
