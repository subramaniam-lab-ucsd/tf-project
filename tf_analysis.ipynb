{
 "cells": [
  {
   "cell_type": "markdown",
   "metadata": {},
   "source": [
    "# Transcription Factor Analysis - TF Project Part 2\n",
    "\n",
    "**Author:** Robin Anwyl\n",
    "\n",
    "**Objective:** 1610 transcription factors were identified from the set of Perturb-Seq gene knockouts. The next broad goal of the project is to build a transcription factor interaction network. The methodology for building the TF interaction network will depend on what information is specifically included in the Perturb-seq dataset. In this notebook, we will take a closer look at the dataset.\n",
    "***"
   ]
  },
  {
   "cell_type": "markdown",
   "metadata": {},
   "source": [
    "Import packages"
   ]
  },
  {
   "cell_type": "code",
   "execution_count": null,
   "metadata": {},
   "outputs": [],
   "source": [
    "import mudata\n",
    "import pandas as pd\n",
    "import re"
   ]
  },
  {
   "cell_type": "markdown",
   "metadata": {},
   "source": [
    "Read in Perturb-seq dataset"
   ]
  },
  {
   "cell_type": "code",
   "execution_count": null,
   "metadata": {},
   "outputs": [
    {
     "name": "stderr",
     "output_type": "stream",
     "text": [
      "/home/ranwyl/.conda/envs/condaenv310/lib/python3.10/site-packages/mudata/_core/mudata.py:1531: FutureWarning: From 0.4 .update() will not pull obs/var columns from individual modalities by default anymore. Set mudata.set_options(pull_on_update=False) to adopt the new behaviour, which will become the default. Use new pull_obs/pull_var and push_obs/push_var methods for more flexibility.\n",
      "  self._update_attr(\"var\", axis=0, join_common=join_common)\n",
      "/home/ranwyl/.conda/envs/condaenv310/lib/python3.10/site-packages/mudata/_core/mudata.py:1429: FutureWarning: From 0.4 .update() will not pull obs/var columns from individual modalities by default anymore. Set mudata.set_options(pull_on_update=False) to adopt the new behaviour, which will become the default. Use new pull_obs/pull_var and push_obs/push_var methods for more flexibility.\n",
      "  self._update_attr(\"obs\", axis=1, join_common=join_common)\n"
     ]
    },
    {
     "data": {
      "text/html": [
       "<style>\n",
       ".scv-mudata-repr-html {\n",
       "    .hl-dim, .hl-size, .hl-values, .hl-types, .hl-dims {\n",
       "    color: #777777;\n",
       "    }\n",
       "    .hl-dim::before, .hl-size::before {\n",
       "    content: \"\\00a0\\00a0\\00a0\";\n",
       "    }\n",
       "    .hl-values {\n",
       "    font-family: monospace;\n",
       "    }\n",
       "    .hl-file {\n",
       "    background-color: #EEEEEE;\n",
       "    border-radius: .5rem;\n",
       "    padding: .2rem .4rem;\n",
       "    color: #555555;\n",
       "    }\n",
       "    .hl-empty {\n",
       "    color: #999999;\n",
       "    }\n",
       "    .hl-import {\n",
       "    color: #777777;\n",
       "    }\n",
       "    .block-mod {\n",
       "    display: block;\n",
       "    margin: 0 2rem;\n",
       "    }\n",
       "    .title {\n",
       "    display: inline-block;\n",
       "    font-weight: 600;\n",
       "    color: #555555;\n",
       "    }\n",
       "    .title-mod {\n",
       "    font-size: 1.2rem;\n",
       "    color: #04b374;\n",
       "    padding: 0 .5rem;\n",
       "    }\n",
       "    .title-attr {\n",
       "    font-size: 1.0rem;\n",
       "    padding-top: .2rem;\n",
       "    }\n",
       "    summary {\n",
       "    cursor: pointer;\n",
       "    list-style: none;\n",
       "    }\n",
       "    summary::-webkit-details-marker {\n",
       "    display: none;\n",
       "    }\n",
       "    details > summary::before {\n",
       "    content: '⊕';\n",
       "    }\n",
       "    details[open] > summary::before {\n",
       "    content: '⊖';\n",
       "    }\n",
       "    table tr {\n",
       "    background-color: transparent !important;\n",
       "    }\n",
       "    table tr:hover {\n",
       "    background-color: #04b37433 !important;\n",
       "    }\n",
       "    .col-index {\n",
       "    text-align: left !important;\n",
       "    }\n",
       "    .summary-mod {\n",
       "    margin-left: -2rem;\n",
       "    }\n",
       "    .summary-mod:hover {\n",
       "    background-color: #04b37411;\n",
       "    }\n",
       "    .summary-mod::before {\n",
       "    color: #04b374;\n",
       "    content: '●';\n",
       "    }\n",
       "    details[open] > .summary-mod::before {\n",
       "    content: '○';\n",
       "    }\n",
       "}\n",
       "</style><div class='scv-mudata-repr-html'><span>MuData object <span class='hl-dim'>5386783 obs &times; 74595 var in 2 modalities</span></span><br><details><summary><div class='title title-attr'>Metadata</div><span class='hl-dim'>.obs</span><span class='hl-size'>0 elements</span></summary><span class='hl-empty'>No metadata</span></details><details><summary><div class='title title-attr'>Embeddings & mappings</div><span class='hl-dim'>.obsm</span><span class='hl-size'>2 elements</span></summary><div><table><tr>\n",
       "                                       <td class='col-index'>crispr</td>  <td class='hl-types'>bool</td>  <td><span class='hl-import'>numpy.</span>ndarray</td>  <td class='hl-dims'></td>\n",
       "                                   </tr>\n",
       "<tr>\n",
       "                                       <td class='col-index'>rna</td>  <td class='hl-types'>bool</td>  <td><span class='hl-import'>numpy.</span>ndarray</td>  <td class='hl-dims'></td>\n",
       "                                   </tr></table></div></details><details><summary><div class='title title-attr'>Distances</div><span class='hl-dim'>.obsp</span><span class='hl-size'>0 elements</span></summary><span class='hl-empty'>No distances</span></details><div class='block-mod'><div><details><summary class='summary-mod'><div class='title title-mod'>rna</div><span class='hl-dim'>5386783 &times 38606</span></summary><span>AnnData object <span class='hl-dim'>5386783 obs &times; 38606 var</span></span><br><div class='title title-attr'>Matrix</div><span class='hl-dim'>.X</span><div>\n",
       "            <span class='hl-types'>float32</span> <span>&nbsp;&nbsp;&nbsp;<span class='hl-import'>scipy.sparse._csc.</span>csc_matrix</span>\n",
       "         </table></div><details><summary><div class='title title-attr'>Layers</div><span class='hl-dim'>.layers</span><span class='hl-size'>0 elements</span></summary><span class='hl-empty'>No layers</span></details><details><summary><div class='title title-attr'>Metadata</div><span class='hl-dim'>.obs</span><span class='hl-size'>0 elements</span></summary><span class='hl-empty'>No metadata</span></details><details><summary><div class='title title-attr'>Embeddings</div><span class='hl-dim'>.obsm</span><span class='hl-size'>0 elements</span></summary><span class='hl-empty'>No embeddings</span></details><details><summary><div class='title title-attr'>Distances</div><span class='hl-dim'>.obsp</span><span class='hl-size'>0 elements</span></summary><span class='hl-empty'>No distances</span></details><details><summary><div class='title title-attr'>Miscellaneous</div><span class='hl-dim'>.uns</span><span class='hl-size'>0 elements</span></summary><span class='hl-empty'>No miscellaneous</span></details></details></div></div><div class='block-mod'><div><details><summary class='summary-mod'><div class='title title-mod'>crispr</div><span class='hl-dim'>5386783 &times 35989</span></summary><span>AnnData object <span class='hl-dim'>5386783 obs &times; 35989 var</span></span><br><div class='title title-attr'>Matrix</div><span class='hl-dim'>.X</span><div>\n",
       "            <span class='hl-types'>float32</span> <span>&nbsp;&nbsp;&nbsp;<span class='hl-import'>scipy.sparse._csc.</span>csc_matrix</span>\n",
       "         </table></div><details><summary><div class='title title-attr'>Layers</div><span class='hl-dim'>.layers</span><span class='hl-size'>0 elements</span></summary><span class='hl-empty'>No layers</span></details><details><summary><div class='title title-attr'>Metadata</div><span class='hl-dim'>.obs</span><span class='hl-size'>0 elements</span></summary><span class='hl-empty'>No metadata</span></details><details><summary><div class='title title-attr'>Embeddings</div><span class='hl-dim'>.obsm</span><span class='hl-size'>0 elements</span></summary><span class='hl-empty'>No embeddings</span></details><details><summary><div class='title title-attr'>Distances</div><span class='hl-dim'>.obsp</span><span class='hl-size'>0 elements</span></summary><span class='hl-empty'>No distances</span></details><details><summary><div class='title title-attr'>Miscellaneous</div><span class='hl-dim'>.uns</span><span class='hl-size'>0 elements</span></summary><span class='hl-empty'>No miscellaneous</span></details></details></div></div><br/></div>"
      ],
      "text/plain": [
       "MuData object with n_obs × n_vars = 5386783 × 74595\n",
       "  var:\t'gene_ids', 'feature_types'\n",
       "  2 modalities\n",
       "    rna:\t5386783 x 38606\n",
       "      var:\t'gene_ids', 'feature_types'\n",
       "    crispr:\t5386783 x 35989\n",
       "      var:\t'gene_ids', 'feature_types'"
      ]
     },
     "metadata": {},
     "output_type": "display_data"
    }
   ],
   "source": [
    "mdata = mudata.read_h5mu(\"/home/data/Mali_project/KOLF_Pan_Genome_Aggregate.h5mu\")\n",
    "with mudata.set_options(display_style = \"html\", display_html_expand = 0b000):\n",
    "    display(mdata)"
   ]
  },
  {
   "cell_type": "markdown",
   "metadata": {},
   "source": [
    "Read in list of 1610 TFs in the Perturb-seq dataset"
   ]
  },
  {
   "cell_type": "code",
   "execution_count": 67,
   "metadata": {},
   "outputs": [
    {
     "name": "stdout",
     "output_type": "stream",
     "text": [
      "['ADNP', 'ADNP2', 'AEBP1', 'AEBP2', 'AHCTF1', 'AHDC1', 'AHR', 'AHRR', 'AIRE', 'AKAP8', 'AKAP8L', 'AKNA', 'ALX1', 'ALX3', 'ALX4', 'ANHX', 'ANKZF1', 'AR', 'ARGFX', 'ARHGAP35', 'ARID2', 'ARID3A', 'ARID3B', 'ARID3C', 'ARID5A', 'ARID5B', 'ARNT', 'ARNT2', 'ARX', 'ASCL1', 'ASCL2', 'ASCL3', 'ASCL4', 'ASCL5', 'ASH1L', 'ATF1', 'ATF2', 'ATF3', 'ATF4', 'ATF5', 'ATF6', 'ATF6B', 'ATF7', 'ATMIN', 'ATOH1', 'ATOH7', 'ATOH8', 'BACH1', 'BACH2', 'BARHL1', 'BARHL2', 'BARX1', 'BARX2', 'BATF', 'BATF2', 'BATF3', 'BAZ2A', 'BAZ2B', 'BBX', 'BCL11A', 'BCL11B', 'BCL6', 'BCL6B', 'BHLHA15', 'BHLHA9', 'BHLHE22', 'BHLHE23', 'BHLHE40', 'BHLHE41', 'BNC1', 'BNC2', 'BPTF', 'BRF2', 'BSX', 'CAMTA1', 'CAMTA2', 'CARF', 'CASZ1', 'CBX2', 'CC2D1A', 'CCDC17', 'CDC5L', 'CDX1', 'CDX2', 'CDX4', 'CEBPA', 'CEBPB', 'CEBPD', 'CEBPE', 'CEBPG', 'CEBPZ', 'CENPA', 'CENPB', 'CENPS', 'CENPT', 'CENPX', 'CGGBP1', 'CHAMP1', 'CHCHD3', 'CIC']\n",
      "1610\n"
     ]
    }
   ],
   "source": [
    "with open(\"tfs_1610.txt\") as f:\n",
    "    tfs = f.read().split()\n",
    "print(tfs[:100])\n",
    "print(len(tfs))"
   ]
  },
  {
   "cell_type": "markdown",
   "metadata": {},
   "source": [
    "For this project, we only want to consider single-TF knockout and non-targeting control (NTC) samples. The CRISPR perturbation metadata file \"protospacer_calls_per_cell.csv\" contains information on which CRISPR guide RNA(s) each cell received. First, we will read in and view the file."
   ]
  },
  {
   "cell_type": "code",
   "execution_count": null,
   "metadata": {},
   "outputs": [
    {
     "data": {
      "text/html": [
       "<div>\n",
       "<style scoped>\n",
       "    .dataframe tbody tr th:only-of-type {\n",
       "        vertical-align: middle;\n",
       "    }\n",
       "\n",
       "    .dataframe tbody tr th {\n",
       "        vertical-align: top;\n",
       "    }\n",
       "\n",
       "    .dataframe thead th {\n",
       "        text-align: right;\n",
       "    }\n",
       "</style>\n",
       "<table border=\"1\" class=\"dataframe\">\n",
       "  <thead>\n",
       "    <tr style=\"text-align: right;\">\n",
       "      <th></th>\n",
       "      <th>cell_barcode</th>\n",
       "      <th>num_features</th>\n",
       "      <th>feature_call</th>\n",
       "      <th>num_umis</th>\n",
       "    </tr>\n",
       "  </thead>\n",
       "  <tbody>\n",
       "    <tr>\n",
       "      <th>108885</th>\n",
       "      <td>TGCGACGTCAACTCTT-24</td>\n",
       "      <td>1</td>\n",
       "      <td>ADNP2-1</td>\n",
       "      <td>20</td>\n",
       "    </tr>\n",
       "    <tr>\n",
       "      <th>108886</th>\n",
       "      <td>AACGTCACATAATCCG-25</td>\n",
       "      <td>2</td>\n",
       "      <td>ADNP2-1|MACROH2A2-1</td>\n",
       "      <td>11|11</td>\n",
       "    </tr>\n",
       "    <tr>\n",
       "      <th>108887</th>\n",
       "      <td>ACGCACGAGCCTATTG-25</td>\n",
       "      <td>2</td>\n",
       "      <td>ADNP2-1|Non-Targeting-498</td>\n",
       "      <td>21|22</td>\n",
       "    </tr>\n",
       "    <tr>\n",
       "      <th>108888</th>\n",
       "      <td>AGAGCCCCACGCTGCA-25</td>\n",
       "      <td>1</td>\n",
       "      <td>ADNP2-1</td>\n",
       "      <td>44</td>\n",
       "    </tr>\n",
       "    <tr>\n",
       "      <th>108889</th>\n",
       "      <td>AGGGTTTGTTACCCAA-25</td>\n",
       "      <td>2</td>\n",
       "      <td>ADNP2-1|ZNF33A-3</td>\n",
       "      <td>7|19</td>\n",
       "    </tr>\n",
       "  </tbody>\n",
       "</table>\n",
       "</div>"
      ],
      "text/plain": [
       "               cell_barcode  num_features               feature_call num_umis\n",
       "108885  TGCGACGTCAACTCTT-24             1                    ADNP2-1       20\n",
       "108886  AACGTCACATAATCCG-25             2        ADNP2-1|MACROH2A2-1    11|11\n",
       "108887  ACGCACGAGCCTATTG-25             2  ADNP2-1|Non-Targeting-498    21|22\n",
       "108888  AGAGCCCCACGCTGCA-25             1                    ADNP2-1       44\n",
       "108889  AGGGTTTGTTACCCAA-25             2           ADNP2-1|ZNF33A-3     7|19"
      ]
     },
     "metadata": {},
     "output_type": "display_data"
    }
   ],
   "source": [
    "protospacer_df = pd.read_csv(\"/home/data/Mali_project/protospacer_calls_per_cell.csv\")\n",
    "display(protospacer_df[108885:108890]) # Representative subset of file"
   ]
  },
  {
   "cell_type": "markdown",
   "metadata": {},
   "source": [
    "Next, we will use the sgRNA-per-cell information and the list of 1610 TFs to generate a subset of cell barcodes corresponding to single-TF KO and NTC cell samples only."
   ]
  },
  {
   "cell_type": "code",
   "execution_count": null,
   "metadata": {},
   "outputs": [
    {
     "data": {
      "text/html": [
       "<div>\n",
       "<style scoped>\n",
       "    .dataframe tbody tr th:only-of-type {\n",
       "        vertical-align: middle;\n",
       "    }\n",
       "\n",
       "    .dataframe tbody tr th {\n",
       "        vertical-align: top;\n",
       "    }\n",
       "\n",
       "    .dataframe thead th {\n",
       "        text-align: right;\n",
       "    }\n",
       "</style>\n",
       "<table border=\"1\" class=\"dataframe\">\n",
       "  <thead>\n",
       "    <tr style=\"text-align: right;\">\n",
       "      <th></th>\n",
       "      <th>cell_barcode</th>\n",
       "      <th>num_features</th>\n",
       "      <th>feature_call</th>\n",
       "      <th>num_umis</th>\n",
       "    </tr>\n",
       "  </thead>\n",
       "  <tbody>\n",
       "    <tr>\n",
       "      <th>108885</th>\n",
       "      <td>TGCGACGTCAACTCTT-24</td>\n",
       "      <td>1</td>\n",
       "      <td>ADNP2-1</td>\n",
       "      <td>20</td>\n",
       "    </tr>\n",
       "    <tr>\n",
       "      <th>108887</th>\n",
       "      <td>ACGCACGAGCCTATTG-25</td>\n",
       "      <td>2</td>\n",
       "      <td>ADNP2-1|Non-Targeting-498</td>\n",
       "      <td>21|22</td>\n",
       "    </tr>\n",
       "    <tr>\n",
       "      <th>108888</th>\n",
       "      <td>AGAGCCCCACGCTGCA-25</td>\n",
       "      <td>1</td>\n",
       "      <td>ADNP2-1</td>\n",
       "      <td>44</td>\n",
       "    </tr>\n",
       "    <tr>\n",
       "      <th>108891</th>\n",
       "      <td>ATTACTCGTCCACGCA-25</td>\n",
       "      <td>1</td>\n",
       "      <td>ADNP2-1</td>\n",
       "      <td>9</td>\n",
       "    </tr>\n",
       "    <tr>\n",
       "      <th>108894</th>\n",
       "      <td>CACTGAATCAAAGAAC-25</td>\n",
       "      <td>1</td>\n",
       "      <td>ADNP2-1</td>\n",
       "      <td>24</td>\n",
       "    </tr>\n",
       "    <tr>\n",
       "      <th>...</th>\n",
       "      <td>...</td>\n",
       "      <td>...</td>\n",
       "      <td>...</td>\n",
       "      <td>...</td>\n",
       "    </tr>\n",
       "    <tr>\n",
       "      <th>109976</th>\n",
       "      <td>TGAGGGAAGCGCCTCA-28</td>\n",
       "      <td>1</td>\n",
       "      <td>ADNP2-3</td>\n",
       "      <td>40</td>\n",
       "    </tr>\n",
       "    <tr>\n",
       "      <th>109979</th>\n",
       "      <td>TTCTAGTGTCACTTCC-28</td>\n",
       "      <td>1</td>\n",
       "      <td>ADNP2-3</td>\n",
       "      <td>49</td>\n",
       "    </tr>\n",
       "    <tr>\n",
       "      <th>109989</th>\n",
       "      <td>GACTTCCAGCACTCTA-29</td>\n",
       "      <td>2</td>\n",
       "      <td>ADNP2-3|Non-Targeting-923</td>\n",
       "      <td>4|5</td>\n",
       "    </tr>\n",
       "    <tr>\n",
       "      <th>109992</th>\n",
       "      <td>GGATGTTTCTTACGTT-29</td>\n",
       "      <td>1</td>\n",
       "      <td>ADNP2-3</td>\n",
       "      <td>77</td>\n",
       "    </tr>\n",
       "    <tr>\n",
       "      <th>109999</th>\n",
       "      <td>TTCCTCTAGCATCCTA-29</td>\n",
       "      <td>1</td>\n",
       "      <td>ADNP2-3</td>\n",
       "      <td>4</td>\n",
       "    </tr>\n",
       "  </tbody>\n",
       "</table>\n",
       "<p>485 rows × 4 columns</p>\n",
       "</div>"
      ],
      "text/plain": [
       "               cell_barcode  num_features               feature_call num_umis\n",
       "108885  TGCGACGTCAACTCTT-24             1                    ADNP2-1       20\n",
       "108887  ACGCACGAGCCTATTG-25             2  ADNP2-1|Non-Targeting-498    21|22\n",
       "108888  AGAGCCCCACGCTGCA-25             1                    ADNP2-1       44\n",
       "108891  ATTACTCGTCCACGCA-25             1                    ADNP2-1        9\n",
       "108894  CACTGAATCAAAGAAC-25             1                    ADNP2-1       24\n",
       "...                     ...           ...                        ...      ...\n",
       "109976  TGAGGGAAGCGCCTCA-28             1                    ADNP2-3       40\n",
       "109979  TTCTAGTGTCACTTCC-28             1                    ADNP2-3       49\n",
       "109989  GACTTCCAGCACTCTA-29             2  ADNP2-3|Non-Targeting-923      4|5\n",
       "109992  GGATGTTTCTTACGTT-29             1                    ADNP2-3       77\n",
       "109999  TTCCTCTAGCATCCTA-29             1                    ADNP2-3        4\n",
       "\n",
       "[485 rows x 4 columns]"
      ]
     },
     "metadata": {},
     "output_type": "display_data"
    }
   ],
   "source": [
    "tfs = set(tfs)\n",
    "# Filter function\n",
    "def is_single_tf_or_ntc(feature_call):\n",
    "    # Return True if feature_call is a single TF KO or single non-targeting gRNA\n",
    "    if \"|\" not in feature_call:\n",
    "        if re.match(r\"Non-Targeting-\\d+\", feature_call) or feature_call[:-2] in tfs:\n",
    "            return True\n",
    "    # Return True if feature_call is a single TF KO and one or more non-targeting gRNAs\n",
    "    guide_rnas = set(feature_call.split(\"|\"))\n",
    "    tf_kos, nt_rnas = set(), set()\n",
    "    for g in guide_rnas:\n",
    "        if re.match(r\"Non-Targeting-\\d+\", g):\n",
    "            nt_rnas.add(g)\n",
    "        elif g[:-2] in tfs:\n",
    "            tf_kos.add(g)\n",
    "    if (guide_rnas - tf_kos - nt_rnas): # Return False if any gRNAs are not TFs or NTs\n",
    "        return False\n",
    "    if len(tf_kos) == 1:\n",
    "        return True\n",
    "    else:\n",
    "        return False\n",
    "# Test the filter function on a representative subset of file\n",
    "test_df = protospacer_df[108885:110000]\n",
    "filter_test = test_df[test_df[\"feature_call\"].apply(is_single_tf_or_ntc)]\n",
    "display(filter_test)"
   ]
  },
  {
   "cell_type": "markdown",
   "metadata": {},
   "source": [
    "Save the list of cell barcodes in \"filtered_barcodes.txt\""
   ]
  },
  {
   "cell_type": "code",
   "execution_count": null,
   "metadata": {},
   "outputs": [],
   "source": [
    "# Run filter function and save list of cell barcodes as .txt file\n",
    "# filtered_df = protospacer_df[protospacer_df[\"feature_call\"].apply(is_single_tf_or_ntc)]\n",
    "# filtered_barcodes = filtered_df[\"cell_barcode\"]\n",
    "# with open(\"filtered_barcodes.txt\", \"w\") as f:\n",
    "#     for barcode in filtered_barcodes:\n",
    "#         f.write(f\"{barcode}\\n\")"
   ]
  },
  {
   "cell_type": "markdown",
   "metadata": {},
   "source": [
    "Read in \"filtered_barcodes.txt\" to get the list of cell barcodes corresponding to single-TF KO or NTC samples."
   ]
  },
  {
   "cell_type": "code",
   "execution_count": 85,
   "metadata": {},
   "outputs": [
    {
     "name": "stdout",
     "output_type": "stream",
     "text": [
      "['CATTGTTCACAGTGAG-1', 'CCCTCTCAGGTTCATC-1', 'CCTTTGGGTAACCCTA-2', 'CGCCATTGTTCGTTCC-2', 'GATGCTACATCGCCTT-2', 'GGTGTTAAGGTCGTGA-3', 'TGAATCGAGTATCTGC-3', 'GAGGGTATCCGCTGTT-4', 'GCTCAAATCGAGCACC-7', 'GGGCGTTTCGATTTCT-7']\n",
      "628136\n"
     ]
    }
   ],
   "source": [
    "with open(\"filtered_barcodes.txt\") as f:\n",
    "    barcodes = f.read().split()\n",
    "print(barcodes[:10])\n",
    "print(len(barcodes))\n"
   ]
  },
  {
   "cell_type": "markdown",
   "metadata": {},
   "source": [
    "Out of the 5,386,783 cells in the dataset, 628,136 correspond to single-TF knockouts or NTC samples."
   ]
  }
 ],
 "metadata": {
  "kernelspec": {
   "display_name": "condaenv310",
   "language": "python",
   "name": "python3"
  },
  "language_info": {
   "codemirror_mode": {
    "name": "ipython",
    "version": 3
   },
   "file_extension": ".py",
   "mimetype": "text/x-python",
   "name": "python",
   "nbconvert_exporter": "python",
   "pygments_lexer": "ipython3",
   "version": "3.10.16"
  }
 },
 "nbformat": 4,
 "nbformat_minor": 2
}
