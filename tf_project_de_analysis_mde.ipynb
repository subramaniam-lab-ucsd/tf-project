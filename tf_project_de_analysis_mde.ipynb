{
 "cells": [
  {
   "cell_type": "markdown",
   "id": "f7201e00",
   "metadata": {},
   "source": [
    "# Transcription Factor Project - Differential Expression Analysis and Minimum Distortion Embedding (Pipeline Steps G-I)\n",
    "**Robin Anwyl, UCSD Subramaniam Lab**\n",
    "\n",
    "**Project Goal:** Analyze the hiPSC Perturb-seq dataset from the Mali lab (Nourreddine et al preprint) to investigate the effects of transcription factor knockouts (TF KOs)\n",
    "\n",
    "**Notebook Description:** \n",
    "-  Dataset: QC'd TF KO (and NTC) dataset\n",
    "-  Analysis: pseudobulk differential expression analysis (DEA), pairwise Pearson correlation matrix, minimum distortion embedding (MDE)\n",
    "***"
   ]
  },
  {
   "cell_type": "markdown",
   "id": "c5f7d6e8",
   "metadata": {},
   "source": [
    "# Import statements"
   ]
  },
  {
   "cell_type": "code",
   "execution_count": null,
   "id": "e68dd532",
   "metadata": {},
   "outputs": [],
   "source": [
    "# Using psp_env virtual environment\n",
    "import sys\n",
    "import os\n",
    "repo_root = \"/home/ranwyl/KOLF2.1J_Perturbation_Cell_Atlas/\"\n",
    "if repo_root not in sys.path:\n",
    "    sys.path.insert(0, \"/home/ranwyl/KOLF2.1J_Perturbation_Cell_Atlas/\")\n",
    "\n",
    "import psp\n",
    "import gc\n",
    "import matplotlib.pyplot as plt\n",
    "plt.rcParams['font.family'] = 'DejaVu Sans'"
   ]
  },
  {
   "cell_type": "markdown",
   "id": "55d47009",
   "metadata": {},
   "source": [
    "# Differential expression analysis - partitioning method"
   ]
  },
  {
   "cell_type": "markdown",
   "id": "123a3b9c",
   "metadata": {},
   "source": [
    "We will carry out differential expression analysis at the gRNA level with PyDESeq2 using a pseudobulk method. The cells for each gRNA are partitioned evenly into pseudoreplicates and compared to an equal number of NTC cells."
   ]
  },
  {
   "cell_type": "code",
   "execution_count": null,
   "id": "cefc2410",
   "metadata": {},
   "outputs": [],
   "source": [
    "import anndata as ad\n",
    "import numpy as np\n",
    "import pandas as pd\n",
    "from scipy import sparse\n",
    "from tqdm_joblib import tqdm_joblib\n",
    "from joblib import Parallel, delayed\n",
    "from pydeseq2.dds import DeseqDataSet\n",
    "from pydeseq2.ds import DeseqStats\n",
    "from pydeseq2.default_inference import DefaultInference\n",
    "import gc\n",
    "\n",
    "def generate_pseudoreplicates_for_DE(adata: ad.AnnData, \n",
    "                                     target_value: str, \n",
    "                                     ntc_cell_indices: pd.Index, \n",
    "                                     rng: np.random.Generator, \n",
    "                                     target_column: str = \"perturbation\", \n",
    "                                     layer: str = \"counts\"):\n",
    "    \"\"\"\n",
    "    Generate independent pseudoreplicates for a given target (gRNA or gene target) \n",
    "    and matched NTC cells. Manually set NTC as reference for DE analysis.\n",
    "    \"\"\"\n",
    "    # Create views for target and NTC cells\n",
    "    if target_column not in adata.obs:\n",
    "        print(f\"Error: {target_column} not in adata.obs\")\n",
    "        return\n",
    "    target_mask = adata.obs[target_column] == target_value\n",
    "    target_view = adata[target_mask]\n",
    "    ntc_view = adata[ntc_cell_indices]\n",
    "\n",
    "    # Get data matrices from counts layer\n",
    "    if layer in adata.layers:\n",
    "        target_data = target_view.layers[layer]\n",
    "        ntc_data = ntc_view.layers[layer]\n",
    "    else:\n",
    "        target_data = target_view.X\n",
    "        ntc_data = ntc_view.X        \n",
    "    \n",
    "    # Convert to dense if sparse\n",
    "    if sparse.issparse(target_data):\n",
    "        target_data = target_data.toarray()\n",
    "    if sparse.issparse(ntc_data):\n",
    "        ntc_data = ntc_data.toarray()\n",
    "\n",
    "    # Calculate number of cells to sample\n",
    "    n_target_cells = target_data.shape[0]\n",
    "    n_ntc_cells = ntc_data.shape[0]\n",
    "    n_reps = 2 if n_target_cells <= 35 else 3\n",
    "    target_rep_size = n_target_cells // n_reps\n",
    "    ntc_rep_size = min(target_rep_size, n_ntc_cells // n_reps)\n",
    "    if ntc_rep_size < target_rep_size:\n",
    "        print(\"Warning: Unmatched number of target and NTC cells\")\n",
    "\n",
    "    # Pre-allocate arrays for results\n",
    "    target_bulk = np.zeros((n_reps, target_data.shape[1]), dtype=np.int64)\n",
    "    ntc_bulk = np.zeros((n_reps, ntc_data.shape[1]), dtype=np.int64)\n",
    "\n",
    "    # Sample cells for all replicates\n",
    "    target_sample_size = target_rep_size * n_reps\n",
    "    ntc_sample_size = ntc_rep_size * n_reps\n",
    "    sampled_target_indices = \\\n",
    "        rng.choice(n_target_cells, target_sample_size, replace=False)\n",
    "    sampled_ntc_indices = \\\n",
    "        rng.choice(n_ntc_cells, ntc_sample_size, replace=False)\n",
    "    # Generate replicates using vectorized operations\n",
    "    for i in range(n_reps):\n",
    "        # Sample indices\n",
    "        target_start, target_stop = i*target_rep_size, (i+1)*target_rep_size\n",
    "        target_rep_indices = sampled_target_indices[target_start:target_stop]\n",
    "        ntc_start, ntc_stop = i*ntc_rep_size, (i+1)*ntc_rep_size\n",
    "        ntc_rep_indices = sampled_ntc_indices[ntc_start:ntc_stop]\n",
    "\n",
    "        # Calculate sums using vectorized operations\n",
    "        target_bulk[i] = np.sum(target_data[target_rep_indices], axis=0).astype(np.int64)\n",
    "        ntc_bulk[i] = np.sum(ntc_data[ntc_rep_indices], axis=0).astype(np.int64)  \n",
    "\n",
    "    # Create sample names\n",
    "    if \"_\" in target_value:\n",
    "        target_value = target_value.replace(\"_\", \"-\")\n",
    "    sample_names = [f\"{target_value}-rep{i+1}\" for i in range(n_reps)]\n",
    "    control_names = [f\"NTC-rep{i+1}\" for i in range(n_reps)]\n",
    "    \n",
    "    # Combine data\n",
    "    combined_data = np.vstack([target_bulk, ntc_bulk])\n",
    "    combined_names = sample_names + control_names\n",
    "    \n",
    "    # Create metadata DF\n",
    "    metadata_df = pd.DataFrame({\n",
    "        'condition': [target_value] * n_reps + ['NTC'] * n_reps\n",
    "    }, index=combined_names)\n",
    "    # Set NTC as reference for DESeq2\n",
    "    metadata_df[\"condition\"] = pd.Categorical(\n",
    "        metadata_df[\"condition\"],\n",
    "        categories=[\"NTC\", target_value],\n",
    "        ordered=True\n",
    "        )\n",
    "    \n",
    "    # Create counts DF\n",
    "    counts_df = pd.DataFrame(\n",
    "        combined_data,\n",
    "        index=combined_names,\n",
    "        columns=adata.var_names\n",
    "    )\n",
    "\n",
    "    return counts_df, metadata_df\n",
    "\n",
    "def differential_expression(adata: ad.AnnData, \n",
    "                    target_column: str = \"perturbation\", \n",
    "                    ntc_cells_delimiter: str = \"NTC\", \n",
    "                    alpha: float = 0.05, n_cpus: int = 20, \n",
    "                    layer: str = \"counts\", de_rng=None, \n",
    "                    debug: bool = False):\n",
    "    \"\"\"\n",
    "    Run differential expression analysis on each perturbation in the dataset.\n",
    "    de_rng takes a numpy random Generator object.\n",
    "    \"\"\"\n",
    "    # Identify KD and NTC cells\n",
    "    perturbations = list(adata.obs[target_column].unique())\n",
    "    perturbations.remove(ntc_cells_delimiter) # Remove NTC group\n",
    "    if debug == True: # Debug mode: run with 5 perturbations\n",
    "        print(f\"Running in debug mode with 5 perturbations\")\n",
    "        perturbations = perturbations[:5]\n",
    "    ntc_cell_indices = np.where(adata.obs[perturbations] == ntc_cells_delimiter)[0]\n",
    "\n",
    "    # Create RNG object to handle case where one is not provided\n",
    "    if de_rng is None:\n",
    "        hard_coded_seed = 42\n",
    "        de_rng = np.random.default_rng(hard_coded_seed)\n",
    "    # Create one child RNG object per perturbation\n",
    "    streams = de_rng.spawn(len(perturbations))\n",
    "\n",
    "    # Determine how many CPUs to use per joblib Parallel job\n",
    "    #   and per DE analysis run\n",
    "    if n_cpus < 3:\n",
    "        n_cpus_for_DE = n_cpus\n",
    "    elif n_cpus <= 10:\n",
    "        n_cpus_for_DE = 3\n",
    "    elif 20 <= n_cpus < 30:\n",
    "        n_cpus_for_DE = 4\n",
    "    elif 30 <= n_cpus < 50:\n",
    "        n_cpus_for_DE = 5\n",
    "    else:\n",
    "        n_cpus_for_DE = 6\n",
    "    n_jobs = max(1, n_cpus // n_cpus_for_DE)\n",
    "\n",
    "    # Warning if given layer not found\n",
    "    if layer not in adata.layers:\n",
    "         print(f\"Warning: {layer} not in adata.layers, using adata.X instead\")\n",
    "\n",
    "    # Function to run DE analysis on a single perturbation\n",
    "    def process_perturbation(target_value: str, rng: np.random.Generator):\n",
    "        # Generate pseudoreplicates\n",
    "        pseudo_bulk_df, metadata_df = generate_pseudoreplicates_for_DE(\n",
    "            adata, target_value, ntc_cell_indices, rng, \n",
    "            target_column=target_column, layer=layer\n",
    "        )\n",
    "\n",
    "        # Set number of CPUs to use for each DE run\n",
    "        inference = DefaultInference(n_cpus=n_cpus_for_DE) \n",
    "\n",
    "        # Read counts modeling and fitting dispersions\n",
    "        dds = DeseqDataSet(\n",
    "            counts = pseudo_bulk_df, \n",
    "            metadata = metadata_df,\n",
    "            refit_cooks=True,\n",
    "            inference=inference,\n",
    "            quiet=True\n",
    "            )\n",
    "        dds.deseq2()\n",
    "        \n",
    "        # Statistical testing\n",
    "        target_hyphenated = target_value.replace('_', '-')\n",
    "        contrast = [\"condition\", target_hyphenated, ntc_cells_delimiter]\n",
    "        stat_res = DeseqStats(\n",
    "            dds, \n",
    "            contrast=contrast, \n",
    "            alpha=alpha,\n",
    "            inference=inference,\n",
    "            quiet=True)\n",
    "        stat_res.summary()\n",
    "        results_no_shrink = stat_res.results_df\n",
    "        # Shrink LFCs for downstream analysis\n",
    "        stat_res.lfc_shrink(coeff=f\"condition[T.{contrast[1]}]\", adapt=False)\n",
    "        results_shrink = stat_res.results_df\n",
    "\n",
    "        # Clean up memory\n",
    "        del pseudo_bulk_df, metadata_df, dds, stat_res\n",
    "        gc.collect()\n",
    "\n",
    "        # Return results with and without LFC shrinkage\n",
    "        return results_no_shrink, results_shrink\n",
    "\n",
    "    # Run DE analysis on all perturbations in parallel\n",
    "    with tqdm_joblib(desc=\"Running DE analysis\", total=len(perturbations)):\n",
    "        results_no_shrink, results_shrink = Parallel(n_jobs=n_jobs)(\n",
    "            delayed(process_perturbation)(target_value, rng)\n",
    "            for target_value, rng in zip(perturbations, streams))\n",
    "    \n",
    "    results_no_shrink_dict = dict(zip(perturbations, results_no_shrink))\n",
    "    results_shrink_dict = dict(zip(perturbations, results_shrink))\n",
    "    \n",
    "    return results_no_shrink_dict, results_shrink_dict\n",
    "\n",
    "def build_de_df(results_dict: dict):\n",
    "    \"\"\"\n",
    "    Build DF of all DE results: baseMean, log2FoldChange, lfcSE, \n",
    "    stat (LFC divided by LFC SE), pvalue, padj.\n",
    "    \"\"\"\n",
    "    df_list = list()\n",
    "    for gene_target, df in results_dict.items():\n",
    "        # Sort genes alphabetically\n",
    "        df = df.sort_index()\n",
    "        # Prepend perturbation name to each column label\n",
    "        new_col_names = {col: f\"{gene_target}_{col}\" for col in df}\n",
    "        df = df.rename(columns=new_col_names)\n",
    "        df_list.append(df)\n",
    "    if len(df_list) > 1:\n",
    "        # Concatenate all DE result DataFrames (using intersection of genes)\n",
    "        de_df = pd.concat(df_list, axis=1)\n",
    "        de_df = de_df.sort_index()\n",
    "    return de_df\n",
    "\n",
    "def build_deg_df(de_df: pd.DataFrame, \n",
    "                 perturbation: str, \n",
    "                 lfc_threshold: float = 0, \n",
    "                 padj_threshold: float = 0.05):\n",
    "    \"\"\"\n",
    "    Return DE results filtered to only the given perturbation and only\n",
    "    genes that pass LFC and p-adj thresholds.\n",
    "    \"\"\"\n",
    "    perturbation_cols = de_df.columns[de_df.columns.str.contains(perturbation)]\n",
    "    perturbation_df = de_df[perturbation_cols]\n",
    "    perturbation_deg_df = \\\n",
    "        perturbation_df[\n",
    "            (abs(perturbation_df[f\"{perturbation}_log2FoldChange\"]) > lfc_threshold) \n",
    "            & (perturbation_df[f\"{perturbation}_padj\"] < padj_threshold)\n",
    "            ]\n",
    "    return perturbation_deg_df\n",
    "\n",
    "def benchmark_NTC_FDR(\n",
    "    adata: ad.AnnData,\n",
    "    gRNA_column: str = \"gRNA\",\n",
    "    ntc_cells_delimiter: str = \"Non-Targeting\",\n",
    "    layer: str = \"counts\",\n",
    "    alpha: float = 0.05,\n",
    "    n_cpus: int = 16,\n",
    "    debug: bool = True\n",
    "):\n",
    "    \"\"\"\n",
    "    Benchmark FDR control by comparing NTC sgRNAs against each other.\n",
    "    For each NTC sgRNA, run DE analysis against all other NTC sgRNAs.\n",
    "    Calculate distribution of DEGs (FDR < 0.05) per NTC sgRNA. \n",
    "    Determine threshold at which 95% of NTC sgRNAs have fewer DEGs.\n",
    "    Add a column to adata.obs indicating if each perturbation exceeds\n",
    "    the NTC FDR threshold. Not batch-aware. No results stored in adata.\n",
    "\n",
    "    gRNA_column: adata.obs column with identifier for each sgRNA, default \"gRNA\"\n",
    "    ntc_cells_delimiter: prefix of NTC sgRNA in gRNA column, default \"Non-Targeting\"\n",
    "    layer: AnnData object layer to use for DE analysis, default \"counts\"\n",
    "    alpha: significance threshold for DESeq2, default 0.05\n",
    "    \"\"\"\n",
    "    # Get AnnData with only NTC cells based on gRNA_column and delimiter\n",
    "    ntc_mask = adata.obs[gRNA_column].astype(str).str.contains(ntc_cells_delimiter)\n",
    "    if not ntc_mask.any():\n",
    "        raise ValueError(f\"No NTC cells found in {gRNA_column} containing \"\n",
    "                         f\"'{ntc_cells_delimiter}'\")\n",
    "    ntc_adata = adata[ntc_mask].copy()\n",
    "\n",
    "    # Get unique NTC sgRNAs\n",
    "    if gRNA_column not in ntc_adata.obs.columns:\n",
    "        raise ValueError(f\"Column '{gRNA_column}' not found in adata.obs\")\n",
    "    ntc_sgRNAs = list(ntc_adata.obs[gRNA_column].unique())\n",
    "    if len(ntc_sgRNAs) < 3:\n",
    "        print(f\"Not enough unique NTC sgRNAs for benchmarking (need at least 3, found {len(ntc_sgRNAs)})\")\n",
    "        return\n",
    "    if debug == True:\n",
    "        print(\"Running in debug mode with 5 NTC sgRNA\")\n",
    "        ntc_sgRNAs = ntc_sgRNAs[:5]\n",
    "\n",
    "    # Create RNG object to handle case where one is not provided\n",
    "    if de_rng is None:\n",
    "        hard_coded_seed = 42\n",
    "        de_rng = np.random.default_rng(hard_coded_seed)\n",
    "    # Create one child RNG object per NTC sgRNA\n",
    "    streams = de_rng.spawn(len(ntc_sgRNAs))\n",
    "\n",
    "    # Determine how many CPUs to use per joblib Parallel job\n",
    "    #   and per DE analysis run\n",
    "    if n_cpus < 3:\n",
    "        n_cpus_for_DE = n_cpus\n",
    "    elif n_cpus <= 10:\n",
    "        n_cpus_for_DE = 3\n",
    "    elif 20 <= n_cpus < 30:\n",
    "        n_cpus_for_DE = 4\n",
    "    elif 30 <= n_cpus < 50:\n",
    "        n_cpus_for_DE = 5\n",
    "    else:\n",
    "        n_cpus_for_DE = 6\n",
    "    n_jobs = max(1, n_cpus // n_cpus_for_DE)\n",
    "    \n",
    "    # Warning if given layer not found\n",
    "    if layer not in adata.layers:\n",
    "        print(f\"Warning: {layer} not found in adata.layers, using adata.X instead\")\n",
    "\n",
    "    # Helper function\n",
    "    def process_ntc_gRNA(target_ntc_gRNA: str,\n",
    "                         rng: np.random.Generator):\n",
    "        # Check if there are enough target cells\n",
    "        target_cells = ntc_adata[ntc_adata.obs[gRNA_column] == target_ntc_gRNA].obs.index\n",
    "        if len(target_cells) < 10:\n",
    "            print(f\"Skipping {target_ntc_gRNA}: too few cells ({len(target_cells)})\")\n",
    "            return\n",
    "        \n",
    "        # Get other NTC cells (excluding the target gRNA)\n",
    "        other_ntc_cells = ntc_adata[ntc_adata.obs[gRNA_column] != target_ntc_gRNA].obs.index\n",
    "        if len(other_ntc_cells) < 10:\n",
    "            print(f\"Skipping {target_ntc_gRNA}: too few other NTC cells ({len(other_ntc_cells)})\")\n",
    "            return\n",
    "        \n",
    "        # Temporarily create \"perturbation\" column to use with generate_pseudoreplicates_for_DE\n",
    "        # This labels target gRNA cells as the \"perturbation\" and other NTC cells as \"NTC\"\n",
    "        ntc_adata_temp = ntc_adata.copy()\n",
    "        ntc_adata_temp.obs[\"temp_pert\"] = \"NTC\"\n",
    "        ntc_adata_temp.obs.loc[ntc_adata_temp.obs[gRNA_column] == target_ntc_gRNA, 'temp_pert'] = target_ntc_gRNA\n",
    "        \n",
    "        # Generate pseudoreplicates\n",
    "        pseudo_bulk_df, metadata_df = generate_pseudoreplicates_for_DE(\n",
    "            ntc_adata_temp, target_ntc_gRNA, other_ntc_cells, rng, \n",
    "            target_column=\"temp_pert\", layer=layer\n",
    "        )\n",
    "\n",
    "        # Set number of CPUs to use for each DE run\n",
    "        inference = DefaultInference(n_cpus=n_cpus_for_DE) \n",
    "\n",
    "        # Read counts modeling and fitting dispersions\n",
    "        dds = DeseqDataSet(\n",
    "            counts = pseudo_bulk_df, \n",
    "            metadata = metadata_df,\n",
    "            refit_cooks=True,\n",
    "            inference=inference,\n",
    "            quiet=True\n",
    "            )\n",
    "        dds.deseq2()\n",
    "        \n",
    "        # Statistical testing\n",
    "        target_hyphenated = target_ntc_gRNA.replace('_', '-')\n",
    "        contrast = [\"condition\", target_hyphenated, ntc_cells_delimiter]\n",
    "        stat_res = DeseqStats(\n",
    "            dds, \n",
    "            contrast=contrast, \n",
    "            alpha=alpha,\n",
    "            inference=inference,\n",
    "            quiet=True)\n",
    "        stat_res.summary()\n",
    "        de_results = stat_res.results_df\n",
    "\n",
    "        # Clean up memory\n",
    "        del pseudo_bulk_df, metadata_df, dds, res, ntc_adata_temp\n",
    "        gc.collect()\n",
    "\n",
    "        return de_results\n",
    "\n",
    "    # Run DE analysis on all NTC sgRNA in parallel\n",
    "    with tqdm_joblib(desc=\"Running DE analysis\", total=len(ntc_sgRNAs)):\n",
    "        de_results = Parallel(n_jobs=n_jobs)(\n",
    "            delayed(process_ntc_gRNA)(target_value, rng) \n",
    "            for target_value, rng in zip(ntc_sgRNAs, streams))\n",
    "    results_dict = dict(zip(ntc_sgRNAs, de_results))\n",
    "\n",
    "    # Check for successful comparisons\n",
    "    if not results_dict:\n",
    "        print(\"No successful comparisons. Check if the data layer contains integer counts.\")\n",
    "        return\n",
    "    \n",
    "    # Calculate DEGs per sgRNA-batch (handles sgRNA names with underscores)\n",
    "    deg_counts = {}\n",
    "    for key, result_df in results_dict.items():\n",
    "        if result_df is None:\n",
    "            continue\n",
    "        count_key = key\n",
    "        # Count DEGs for this comparison\n",
    "        deg_count = sum((result_df['padj'] < alpha) & pd.notna(result_df['padj']))\n",
    "        deg_counts[count_key] = deg_count\n",
    "\n",
    "    # Check if we have any DEG counts\n",
    "    if not deg_counts:\n",
    "        print(\"No DEGs found in any comparison.\")\n",
    "        return\n",
    "\n",
    "    # Create results DataFrame\n",
    "    benchmark_results = pd.DataFrame.from_dict(deg_counts, orient='index', columns=['n_DEGs'])\n",
    "    benchmark_results['sgRNA'] = benchmark_results.index\n",
    "\n",
    "    benchmark_results.index.name = 'key'\n",
    "    benchmark_results = benchmark_results.sort_values('n_DEGs', ascending=False)\n",
    "    \n",
    "    # Calculate 95th percentile threshold (FDR 0.05)\n",
    "    if len(benchmark_results) > 0:\n",
    "        deg_threshold = np.percentile(benchmark_results['n_DEGs'].values, 95)\n",
    "    else:\n",
    "        print(\"No results to calculate percentile.\")\n",
    "        return\n",
    "    \n",
    "    # Print statistics\n",
    "    print(f\"NTC Benchmark Statistics:\")\n",
    "    print(f\"  • FDR 0.05 threshold: {int(deg_threshold)} DEGs\")\n",
    "    print(f\"  • NTC comparisons analyzed: {len(benchmark_results)}\")\n",
    "    print(f\"  • Mean DEGs per comparison: {benchmark_results['n_DEGs'].mean():.1f}\")\n",
    "    print(f\"  • Median DEGs per comparison: {benchmark_results['n_DEGs'].median():.1f}\")\n",
    "    print(f\"  • 95% of comparisons have < {int(deg_threshold)} DEGs\")\n",
    "\n",
    "    return int(deg_threshold), benchmark_results\n"
   ]
  },
  {
   "cell_type": "markdown",
   "id": "7462311a",
   "metadata": {},
   "source": [
    "### Test"
   ]
  },
  {
   "cell_type": "code",
   "execution_count": null,
   "id": "23595540",
   "metadata": {},
   "outputs": [
    {
     "data": {
      "text/plain": [
       "AnnData object with n_obs × n_vars = 14034 × 20200\n",
       "    obs: 'gRNA', 'n_gRNA', 'n_gRNA_UMIs', 'gene_target', 'celltype', 'perturbation_type', 'n_UMI_counts', 'n_genes', 'perturbed', 'channel', 'n_genes_by_counts', 'log1p_n_genes_by_counts', 'total_counts', 'log1p_total_counts', 'pct_counts_in_top_20_genes', 'total_counts_mt', 'log1p_total_counts_mt', 'pct_counts_mt', 'total_counts_ribo', 'log1p_total_counts_ribo', 'pct_counts_ribo', 'total_counts_hb', 'log1p_total_counts_hb', 'pct_counts_hb', 'outlier', 'run', 'gene_target_ensembl_id', 'gene_target_expression (CPM)', 'NTC_target_gene_expression (CPM)', 'target_knockdown', 'target_knockdown_z_score', 'ed_category', 'anomaly_score'\n",
       "    var: 'gene_ids', 'feature_types', 'n_UMI_counts', 'n_cells', 'mt', 'ribo', 'hb', 'n_cells_by_counts', 'mean_counts', 'log1p_mean_counts', 'pct_dropout_by_counts', 'total_counts', 'log1p_total_counts', 'mean', 'std', 'highly_variable', 'highly_variable_rank', 'means', 'variances', 'variances_norm'\n",
       "    uns: 'hvg', 'log1p', 'pca'\n",
       "    obsm: 'X_pca'\n",
       "    varm: 'PCs'\n",
       "    layers: 'counts', 'normalized_counts'"
      ]
     },
     "metadata": {},
     "output_type": "display_data"
    }
   ],
   "source": [
    "test_gene_targets = [\"POU5F1\", \"NANOG\", \"NTC\"]\n",
    "adata_test = adata_alpha[adata_alpha.obs.gene_target.isin(test_gene_targets)].copy()\n",
    "adata_test"
   ]
  },
  {
   "cell_type": "code",
   "execution_count": null,
   "id": "e389314a",
   "metadata": {},
   "outputs": [
    {
     "data": {
      "text/plain": [
       "['NTC', 'POU5F1', 'NANOG']"
      ]
     },
     "metadata": {},
     "output_type": "display_data"
    }
   ],
   "source": [
    "adata_test.obs.gene_target.unique().tolist()"
   ]
  },
  {
   "cell_type": "code",
   "execution_count": null,
   "id": "592affcf",
   "metadata": {},
   "outputs": [
    {
     "data": {
      "text/plain": [
       "96"
      ]
     },
     "metadata": {},
     "output_type": "display_data"
    }
   ],
   "source": [
    "adata_test[adata_test.obs.gene_target == \"POU5F1\"].shape[0]"
   ]
  },
  {
   "cell_type": "code",
   "execution_count": null,
   "id": "6ff0bacd",
   "metadata": {},
   "outputs": [
    {
     "data": {
      "text/plain": [
       "96"
      ]
     },
     "metadata": {},
     "output_type": "display_data"
    }
   ],
   "source": [
    "adata_test[adata_test.obs.gene_target == \"NANOG\"].shape[0]"
   ]
  },
  {
   "cell_type": "code",
   "execution_count": null,
   "id": "a4b7c9be",
   "metadata": {},
   "outputs": [
    {
     "data": {
      "application/vnd.jupyter.widget-view+json": {
       "model_id": "7b470a1486054750a1803fdd8d274d50",
       "version_major": 2,
       "version_minor": 0
      },
      "text/plain": [
       "Running DE analysis:   0%|          | 0/2 [00:00<?, ?it/s]"
      ]
     },
     "metadata": {},
     "output_type": "display_data"
    },
    {
     "name": "stderr",
     "output_type": "stream",
     "text": [
      "/home/ranwyl/pymde_env/lib64/python3.11/site-packages/pydeseq2/dds.py:804: UserWarning: The dispersion trend curve fitting did not converge. Switching to a mean-based dispersion trend.\n",
      "  self._fit_parametric_dispersion_trend(vst)\n",
      "/home/ranwyl/pymde_env/lib64/python3.11/site-packages/pydeseq2/dds.py:541: UserWarning: As the residual degrees of freedom is less than 3, the distribution of log dispersions is especially asymmetric and likely to be poorly estimated by the MAD.\n",
      "  self.fit_dispersion_prior()\n",
      "/home/ranwyl/pymde_env/lib64/python3.11/site-packages/pydeseq2/dds.py:541: UserWarning: As the residual degrees of freedom is less than 3, the distribution of log dispersions is especially asymmetric and likely to be poorly estimated by the MAD.\n",
      "  self.fit_dispersion_prior()\n"
     ]
    }
   ],
   "source": [
    "results_dict_test_2reps = de_analysis_dataset(adata_test, n_cpus=25, n_reps=2)"
   ]
  },
  {
   "cell_type": "code",
   "execution_count": null,
   "id": "4aed6f4f",
   "metadata": {},
   "outputs": [
    {
     "data": {
      "text/html": [
       "<div>\n",
       "<style scoped>\n",
       "    .dataframe tbody tr th:only-of-type {\n",
       "        vertical-align: middle;\n",
       "    }\n",
       "\n",
       "    .dataframe tbody tr th {\n",
       "        vertical-align: top;\n",
       "    }\n",
       "\n",
       "    .dataframe thead th {\n",
       "        text-align: right;\n",
       "    }\n",
       "</style>\n",
       "<table border=\"1\" class=\"dataframe\">\n",
       "  <thead>\n",
       "    <tr style=\"text-align: right;\">\n",
       "      <th></th>\n",
       "      <th>POU5F1_baseMean</th>\n",
       "      <th>POU5F1_log2FoldChange</th>\n",
       "      <th>POU5F1_lfcSE</th>\n",
       "      <th>POU5F1_stat</th>\n",
       "      <th>POU5F1_pvalue</th>\n",
       "      <th>POU5F1_padj</th>\n",
       "      <th>NANOG_baseMean</th>\n",
       "      <th>NANOG_log2FoldChange</th>\n",
       "      <th>NANOG_lfcSE</th>\n",
       "      <th>NANOG_stat</th>\n",
       "      <th>NANOG_pvalue</th>\n",
       "      <th>NANOG_padj</th>\n",
       "    </tr>\n",
       "  </thead>\n",
       "  <tbody>\n",
       "    <tr>\n",
       "      <th>A1BG</th>\n",
       "      <td>3.971359</td>\n",
       "      <td>-0.315204</td>\n",
       "      <td>1.012120</td>\n",
       "      <td>-0.635116</td>\n",
       "      <td>0.525353</td>\n",
       "      <td>NaN</td>\n",
       "      <td>2.959269</td>\n",
       "      <td>-0.182179</td>\n",
       "      <td>1.008075</td>\n",
       "      <td>-0.376555</td>\n",
       "      <td>0.706505</td>\n",
       "      <td>NaN</td>\n",
       "    </tr>\n",
       "    <tr>\n",
       "      <th>A1BG-AS1</th>\n",
       "      <td>0.229447</td>\n",
       "      <td>0.154118</td>\n",
       "      <td>1.967397</td>\n",
       "      <td>0.309621</td>\n",
       "      <td>0.756849</td>\n",
       "      <td>NaN</td>\n",
       "      <td>0.986616</td>\n",
       "      <td>-0.010507</td>\n",
       "      <td>1.227681</td>\n",
       "      <td>-0.028067</td>\n",
       "      <td>0.977609</td>\n",
       "      <td>NaN</td>\n",
       "    </tr>\n",
       "    <tr>\n",
       "      <th>A2M</th>\n",
       "      <td>0.498122</td>\n",
       "      <td>-0.019972</td>\n",
       "      <td>1.281926</td>\n",
       "      <td>-0.057165</td>\n",
       "      <td>0.954413</td>\n",
       "      <td>NaN</td>\n",
       "      <td>NaN</td>\n",
       "      <td>NaN</td>\n",
       "      <td>NaN</td>\n",
       "      <td>NaN</td>\n",
       "      <td>NaN</td>\n",
       "      <td>NaN</td>\n",
       "    </tr>\n",
       "    <tr>\n",
       "      <th>A2M-AS1</th>\n",
       "      <td>0.229447</td>\n",
       "      <td>0.154118</td>\n",
       "      <td>1.967397</td>\n",
       "      <td>0.309621</td>\n",
       "      <td>0.756849</td>\n",
       "      <td>NaN</td>\n",
       "      <td>0.239337</td>\n",
       "      <td>0.100094</td>\n",
       "      <td>2.483595</td>\n",
       "      <td>0.261954</td>\n",
       "      <td>0.793357</td>\n",
       "      <td>NaN</td>\n",
       "    </tr>\n",
       "    <tr>\n",
       "      <th>A2ML1</th>\n",
       "      <td>1.524100</td>\n",
       "      <td>-0.519355</td>\n",
       "      <td>1.206868</td>\n",
       "      <td>-1.133351</td>\n",
       "      <td>0.257067</td>\n",
       "      <td>NaN</td>\n",
       "      <td>1.985454</td>\n",
       "      <td>-0.216242</td>\n",
       "      <td>1.079070</td>\n",
       "      <td>-0.473599</td>\n",
       "      <td>0.635786</td>\n",
       "      <td>NaN</td>\n",
       "    </tr>\n",
       "  </tbody>\n",
       "</table>\n",
       "</div>"
      ],
      "text/plain": [
       "          POU5F1_baseMean  POU5F1_log2FoldChange  POU5F1_lfcSE  POU5F1_stat  \\\n",
       "A1BG             3.971359              -0.315204      1.012120    -0.635116   \n",
       "A1BG-AS1         0.229447               0.154118      1.967397     0.309621   \n",
       "A2M              0.498122              -0.019972      1.281926    -0.057165   \n",
       "A2M-AS1          0.229447               0.154118      1.967397     0.309621   \n",
       "A2ML1            1.524100              -0.519355      1.206868    -1.133351   \n",
       "\n",
       "          POU5F1_pvalue  POU5F1_padj  NANOG_baseMean  NANOG_log2FoldChange  \\\n",
       "A1BG           0.525353          NaN        2.959269             -0.182179   \n",
       "A1BG-AS1       0.756849          NaN        0.986616             -0.010507   \n",
       "A2M            0.954413          NaN             NaN                   NaN   \n",
       "A2M-AS1        0.756849          NaN        0.239337              0.100094   \n",
       "A2ML1          0.257067          NaN        1.985454             -0.216242   \n",
       "\n",
       "          NANOG_lfcSE  NANOG_stat  NANOG_pvalue  NANOG_padj  \n",
       "A1BG         1.008075   -0.376555      0.706505         NaN  \n",
       "A1BG-AS1     1.227681   -0.028067      0.977609         NaN  \n",
       "A2M               NaN         NaN           NaN         NaN  \n",
       "A2M-AS1      2.483595    0.261954      0.793357         NaN  \n",
       "A2ML1        1.079070   -0.473599      0.635786         NaN  "
      ]
     },
     "metadata": {},
     "output_type": "display_data"
    }
   ],
   "source": [
    "test_de_df_2reps = build_de_df(results_dict_test_2reps)\n",
    "test_de_df_2reps.head()"
   ]
  },
  {
   "cell_type": "code",
   "execution_count": null,
   "id": "a689a8f8",
   "metadata": {},
   "outputs": [
    {
     "name": "stdout",
     "output_type": "stream",
     "text": [
      "18\n",
      "41\n"
     ]
    }
   ],
   "source": [
    "pou5f1_df_2reps = build_deg_df(test_de_df_2reps, \"POU5F1\", lfc_threshold=0)\n",
    "print(pou5f1_df_2reps.shape[0])\n",
    "nanog_df_2reps = build_deg_df(test_de_df_2reps, \"NANOG\", lfc_threshold=0)\n",
    "print(nanog_df_2reps.shape[0])"
   ]
  },
  {
   "cell_type": "code",
   "execution_count": null,
   "id": "eb3364d5",
   "metadata": {},
   "outputs": [
    {
     "data": {
      "application/vnd.jupyter.widget-view+json": {
       "model_id": "7d4cdf83e4b84955884d0a7dba2e6c23",
       "version_major": 2,
       "version_minor": 0
      },
      "text/plain": [
       "Running DE analysis:   0%|          | 0/2 [00:00<?, ?it/s]"
      ]
     },
     "metadata": {},
     "output_type": "display_data"
    }
   ],
   "source": [
    "results_dict_test_3reps = de_analysis_dataset(adata_test, n_cpus=25, n_reps=3)"
   ]
  },
  {
   "cell_type": "code",
   "execution_count": null,
   "id": "38aa2e01",
   "metadata": {},
   "outputs": [
    {
     "data": {
      "text/html": [
       "<div>\n",
       "<style scoped>\n",
       "    .dataframe tbody tr th:only-of-type {\n",
       "        vertical-align: middle;\n",
       "    }\n",
       "\n",
       "    .dataframe tbody tr th {\n",
       "        vertical-align: top;\n",
       "    }\n",
       "\n",
       "    .dataframe thead th {\n",
       "        text-align: right;\n",
       "    }\n",
       "</style>\n",
       "<table border=\"1\" class=\"dataframe\">\n",
       "  <thead>\n",
       "    <tr style=\"text-align: right;\">\n",
       "      <th></th>\n",
       "      <th>POU5F1_baseMean</th>\n",
       "      <th>POU5F1_log2FoldChange</th>\n",
       "      <th>POU5F1_lfcSE</th>\n",
       "      <th>POU5F1_stat</th>\n",
       "      <th>POU5F1_pvalue</th>\n",
       "      <th>POU5F1_padj</th>\n",
       "      <th>NANOG_baseMean</th>\n",
       "      <th>NANOG_log2FoldChange</th>\n",
       "      <th>NANOG_lfcSE</th>\n",
       "      <th>NANOG_stat</th>\n",
       "      <th>NANOG_pvalue</th>\n",
       "      <th>NANOG_padj</th>\n",
       "    </tr>\n",
       "  </thead>\n",
       "  <tbody>\n",
       "    <tr>\n",
       "      <th>A1BG</th>\n",
       "      <td>2.638843</td>\n",
       "      <td>-0.426730</td>\n",
       "      <td>0.892003</td>\n",
       "      <td>-0.801785</td>\n",
       "      <td>0.422677</td>\n",
       "      <td>NaN</td>\n",
       "      <td>1.954981</td>\n",
       "      <td>-0.215939</td>\n",
       "      <td>0.973807</td>\n",
       "      <td>-0.432866</td>\n",
       "      <td>0.665112</td>\n",
       "      <td>NaN</td>\n",
       "    </tr>\n",
       "    <tr>\n",
       "      <th>A1BG-AS1</th>\n",
       "      <td>0.149793</td>\n",
       "      <td>0.122497</td>\n",
       "      <td>2.188104</td>\n",
       "      <td>0.185412</td>\n",
       "      <td>0.852906</td>\n",
       "      <td>NaN</td>\n",
       "      <td>0.645030</td>\n",
       "      <td>-0.015579</td>\n",
       "      <td>1.188210</td>\n",
       "      <td>-0.037305</td>\n",
       "      <td>0.970242</td>\n",
       "      <td>NaN</td>\n",
       "    </tr>\n",
       "    <tr>\n",
       "      <th>A2M</th>\n",
       "      <td>0.321964</td>\n",
       "      <td>-0.017672</td>\n",
       "      <td>1.315148</td>\n",
       "      <td>-0.044368</td>\n",
       "      <td>0.964611</td>\n",
       "      <td>NaN</td>\n",
       "      <td>NaN</td>\n",
       "      <td>NaN</td>\n",
       "      <td>NaN</td>\n",
       "      <td>NaN</td>\n",
       "      <td>NaN</td>\n",
       "      <td>NaN</td>\n",
       "    </tr>\n",
       "    <tr>\n",
       "      <th>A2M-AS1</th>\n",
       "      <td>0.154794</td>\n",
       "      <td>0.123601</td>\n",
       "      <td>2.192710</td>\n",
       "      <td>0.185412</td>\n",
       "      <td>0.852906</td>\n",
       "      <td>NaN</td>\n",
       "      <td>0.153256</td>\n",
       "      <td>0.126667</td>\n",
       "      <td>2.179549</td>\n",
       "      <td>0.205352</td>\n",
       "      <td>0.837297</td>\n",
       "      <td>NaN</td>\n",
       "    </tr>\n",
       "    <tr>\n",
       "      <th>A2ML1</th>\n",
       "      <td>1.014696</td>\n",
       "      <td>-0.541940</td>\n",
       "      <td>1.209727</td>\n",
       "      <td>-1.124439</td>\n",
       "      <td>0.260827</td>\n",
       "      <td>NaN</td>\n",
       "      <td>1.316343</td>\n",
       "      <td>-0.242587</td>\n",
       "      <td>1.043105</td>\n",
       "      <td>-0.506768</td>\n",
       "      <td>0.612318</td>\n",
       "      <td>NaN</td>\n",
       "    </tr>\n",
       "  </tbody>\n",
       "</table>\n",
       "</div>"
      ],
      "text/plain": [
       "          POU5F1_baseMean  POU5F1_log2FoldChange  POU5F1_lfcSE  POU5F1_stat  \\\n",
       "A1BG             2.638843              -0.426730      0.892003    -0.801785   \n",
       "A1BG-AS1         0.149793               0.122497      2.188104     0.185412   \n",
       "A2M              0.321964              -0.017672      1.315148    -0.044368   \n",
       "A2M-AS1          0.154794               0.123601      2.192710     0.185412   \n",
       "A2ML1            1.014696              -0.541940      1.209727    -1.124439   \n",
       "\n",
       "          POU5F1_pvalue  POU5F1_padj  NANOG_baseMean  NANOG_log2FoldChange  \\\n",
       "A1BG           0.422677          NaN        1.954981             -0.215939   \n",
       "A1BG-AS1       0.852906          NaN        0.645030             -0.015579   \n",
       "A2M            0.964611          NaN             NaN                   NaN   \n",
       "A2M-AS1        0.852906          NaN        0.153256              0.126667   \n",
       "A2ML1          0.260827          NaN        1.316343             -0.242587   \n",
       "\n",
       "          NANOG_lfcSE  NANOG_stat  NANOG_pvalue  NANOG_padj  \n",
       "A1BG         0.973807   -0.432866      0.665112         NaN  \n",
       "A1BG-AS1     1.188210   -0.037305      0.970242         NaN  \n",
       "A2M               NaN         NaN           NaN         NaN  \n",
       "A2M-AS1      2.179549    0.205352      0.837297         NaN  \n",
       "A2ML1        1.043105   -0.506768      0.612318         NaN  "
      ]
     },
     "metadata": {},
     "output_type": "display_data"
    }
   ],
   "source": [
    "test_de_df_3reps = build_de_df(results_dict_test_3reps)\n",
    "test_de_df_3reps.head()"
   ]
  },
  {
   "cell_type": "code",
   "execution_count": null,
   "id": "333968e6",
   "metadata": {},
   "outputs": [
    {
     "name": "stdout",
     "output_type": "stream",
     "text": [
      "443\n",
      "64\n"
     ]
    }
   ],
   "source": [
    "pou5f1_df_3reps = build_deg_df(test_de_df_3reps, \"POU5F1\", lfc_threshold=0)\n",
    "print(pou5f1_df_3reps.shape[0])\n",
    "nanog_df_3reps = build_deg_df(test_de_df_3reps, \"NANOG\", lfc_threshold=0)\n",
    "print(nanog_df_3reps.shape[0])"
   ]
  },
  {
   "cell_type": "markdown",
   "id": "7fdcf076",
   "metadata": {},
   "source": [
    "Remove genes expressed in <100 cells"
   ]
  },
  {
   "cell_type": "code",
   "execution_count": null,
   "id": "d632c651",
   "metadata": {},
   "outputs": [
    {
     "data": {
      "text/plain": [
       "AnnData object with n_obs × n_vars = 77912 × 20200\n",
       "    obs: 'gRNA', 'n_gRNA', 'n_gRNA_UMIs', 'gene_target', 'celltype', 'perturbation_type', 'n_UMI_counts', 'n_genes', 'perturbed', 'channel', 'n_genes_by_counts', 'log1p_n_genes_by_counts', 'total_counts', 'log1p_total_counts', 'pct_counts_in_top_20_genes', 'total_counts_mt', 'log1p_total_counts_mt', 'pct_counts_mt', 'total_counts_ribo', 'log1p_total_counts_ribo', 'pct_counts_ribo', 'total_counts_hb', 'log1p_total_counts_hb', 'pct_counts_hb', 'outlier', 'run', 'gene_target_ensembl_id', 'gene_target_expression (CPM)', 'NTC_target_gene_expression (CPM)', 'target_knockdown', 'target_knockdown_z_score', 'ed_category', 'anomaly_score'\n",
       "    obsm: 'X_pca'\n",
       "    layers: 'counts', 'normalized_counts'"
      ]
     },
     "metadata": {},
     "output_type": "display_data"
    }
   ],
   "source": [
    "adata = ad.concat([adata_alpha, adata_beta])\n",
    "adata"
   ]
  },
  {
   "cell_type": "code",
   "execution_count": null,
   "id": "b87551c3",
   "metadata": {},
   "outputs": [
    {
     "name": "stdout",
     "output_type": "stream",
     "text": [
      "filtered out 311 genes that are detected in less than 100 cells\n"
     ]
    }
   ],
   "source": [
    "adata_genes_filt = adata.copy()\n",
    "sc.pp.filter_genes(adata_genes_filt, min_cells=100)"
   ]
  },
  {
   "cell_type": "code",
   "execution_count": null,
   "id": "6795fc03",
   "metadata": {},
   "outputs": [
    {
     "data": {
      "text/plain": [
       "AnnData object with n_obs × n_vars = 77912 × 19889\n",
       "    obs: 'gRNA', 'n_gRNA', 'n_gRNA_UMIs', 'gene_target', 'celltype', 'perturbation_type', 'n_UMI_counts', 'n_genes', 'perturbed', 'channel', 'n_genes_by_counts', 'log1p_n_genes_by_counts', 'total_counts', 'log1p_total_counts', 'pct_counts_in_top_20_genes', 'total_counts_mt', 'log1p_total_counts_mt', 'pct_counts_mt', 'total_counts_ribo', 'log1p_total_counts_ribo', 'pct_counts_ribo', 'total_counts_hb', 'log1p_total_counts_hb', 'pct_counts_hb', 'outlier', 'run', 'gene_target_ensembl_id', 'gene_target_expression (CPM)', 'NTC_target_gene_expression (CPM)', 'target_knockdown', 'target_knockdown_z_score', 'ed_category', 'anomaly_score'\n",
       "    var: 'n_cells'\n",
       "    obsm: 'X_pca'\n",
       "    layers: 'counts', 'normalized_counts'"
      ]
     },
     "metadata": {},
     "output_type": "display_data"
    }
   ],
   "source": [
    "adata_genes_filt"
   ]
  },
  {
   "cell_type": "code",
   "execution_count": null,
   "id": "c8e3c86e",
   "metadata": {},
   "outputs": [],
   "source": [
    "adata_alpha_filt = adata_genes_filt[adata_genes_filt.obs.run == \"ALPHA\"].copy()\n",
    "adata_beta_filt = adata_genes_filt[adata_genes_filt.obs.run == \"BETA\"].copy()"
   ]
  },
  {
   "cell_type": "code",
   "execution_count": null,
   "id": "4a7c3597",
   "metadata": {},
   "outputs": [
    {
     "data": {
      "text/plain": [
       "AnnData object with n_obs × n_vars = 14034 × 19889\n",
       "    obs: 'gRNA', 'n_gRNA', 'n_gRNA_UMIs', 'gene_target', 'celltype', 'perturbation_type', 'n_UMI_counts', 'n_genes', 'perturbed', 'channel', 'n_genes_by_counts', 'log1p_n_genes_by_counts', 'total_counts', 'log1p_total_counts', 'pct_counts_in_top_20_genes', 'total_counts_mt', 'log1p_total_counts_mt', 'pct_counts_mt', 'total_counts_ribo', 'log1p_total_counts_ribo', 'pct_counts_ribo', 'total_counts_hb', 'log1p_total_counts_hb', 'pct_counts_hb', 'outlier', 'run', 'gene_target_ensembl_id', 'gene_target_expression (CPM)', 'NTC_target_gene_expression (CPM)', 'target_knockdown', 'target_knockdown_z_score', 'ed_category', 'anomaly_score'\n",
       "    var: 'n_cells'\n",
       "    obsm: 'X_pca'\n",
       "    layers: 'counts', 'normalized_counts'"
      ]
     },
     "metadata": {},
     "output_type": "display_data"
    }
   ],
   "source": [
    "test_gene_targets = [\"POU5F1\", \"NANOG\", \"NTC\"]\n",
    "adata_test_filt = adata_alpha_filt[adata_alpha_filt.obs.gene_target.isin(test_gene_targets)].copy()\n",
    "adata_test_filt"
   ]
  },
  {
   "cell_type": "code",
   "execution_count": null,
   "id": "0375f9eb",
   "metadata": {},
   "outputs": [
    {
     "data": {
      "application/vnd.jupyter.widget-view+json": {
       "model_id": "fd09f095ec24473183df3ecee212fcfc",
       "version_major": 2,
       "version_minor": 0
      },
      "text/plain": [
       "Running DE analysis:   0%|          | 0/2 [00:00<?, ?it/s]"
      ]
     },
     "metadata": {},
     "output_type": "display_data"
    },
    {
     "name": "stderr",
     "output_type": "stream",
     "text": [
      "/home/ranwyl/pymde_env/lib64/python3.11/site-packages/pydeseq2/dds.py:804: UserWarning: The dispersion trend curve fitting did not converge. Switching to a mean-based dispersion trend.\n",
      "  self._fit_parametric_dispersion_trend(vst)\n",
      "/home/ranwyl/pymde_env/lib64/python3.11/site-packages/pydeseq2/dds.py:541: UserWarning: As the residual degrees of freedom is less than 3, the distribution of log dispersions is especially asymmetric and likely to be poorly estimated by the MAD.\n",
      "  self.fit_dispersion_prior()\n",
      "/home/ranwyl/pymde_env/lib64/python3.11/site-packages/pydeseq2/dds.py:541: UserWarning: As the residual degrees of freedom is less than 3, the distribution of log dispersions is especially asymmetric and likely to be poorly estimated by the MAD.\n",
      "  self.fit_dispersion_prior()\n"
     ]
    }
   ],
   "source": [
    "results_dict_test_2reps_filt = de_analysis_dataset(adata_test_filt, n_cpus=25, n_reps=2)"
   ]
  },
  {
   "cell_type": "code",
   "execution_count": null,
   "id": "721d61cd",
   "metadata": {},
   "outputs": [
    {
     "name": "stdout",
     "output_type": "stream",
     "text": [
      "19\n",
      "41\n"
     ]
    }
   ],
   "source": [
    "test_de_df_2reps_filt = build_de_df(results_dict_test_2reps_filt)\n",
    "pou5f1_df_2reps = build_deg_df(test_de_df_2reps_filt, \"POU5F1\", lfc_threshold=0)\n",
    "print(pou5f1_df_2reps.shape[0])\n",
    "nanog_df_2reps = build_deg_df(test_de_df_2reps_filt, \"NANOG\", lfc_threshold=0)\n",
    "print(nanog_df_2reps.shape[0])"
   ]
  },
  {
   "cell_type": "code",
   "execution_count": null,
   "id": "6ce069bc",
   "metadata": {},
   "outputs": [
    {
     "data": {
      "application/vnd.jupyter.widget-view+json": {
       "model_id": "b680165cf5054187ac7896510e25e7b6",
       "version_major": 2,
       "version_minor": 0
      },
      "text/plain": [
       "Running DE analysis:   0%|          | 0/2 [00:00<?, ?it/s]"
      ]
     },
     "metadata": {},
     "output_type": "display_data"
    }
   ],
   "source": [
    "results_dict_test_3reps_filt = de_analysis_dataset(adata_test_filt, n_cpus=25, n_reps=3)"
   ]
  },
  {
   "cell_type": "code",
   "execution_count": null,
   "id": "13cd335c",
   "metadata": {},
   "outputs": [
    {
     "name": "stdout",
     "output_type": "stream",
     "text": [
      "446\n",
      "64\n"
     ]
    }
   ],
   "source": [
    "test_de_df_3reps_filt = build_de_df(results_dict_test_3reps_filt)\n",
    "pou5f1_df_3reps = build_deg_df(test_de_df_3reps_filt, \"POU5F1\", lfc_threshold=0)\n",
    "print(pou5f1_df_3reps.shape[0])\n",
    "nanog_df_3reps = build_deg_df(test_de_df_3reps_filt, \"NANOG\", lfc_threshold=0)\n",
    "print(nanog_df_3reps.shape[0])"
   ]
  },
  {
   "cell_type": "markdown",
   "id": "b4343107",
   "metadata": {},
   "source": [
    "Batch BETA"
   ]
  },
  {
   "cell_type": "code",
   "execution_count": null,
   "id": "da67f292",
   "metadata": {},
   "outputs": [],
   "source": [
    "def build_deg_df(de_df, tf_kd, lfc_threshold=0, padj_threshold=0.05):\n",
    "    tf_kd_cols = de_df.columns[de_df.columns.str.contains(tf_kd)]\n",
    "    tf_kd_df = de_df[tf_kd_cols]\n",
    "    tf_kd_deg_df = tf_kd_df[(abs(tf_kd_df[f\"{tf_kd}_log2FoldChange\"]) > lfc_threshold) \n",
    "                            & (tf_kd_df[f\"{tf_kd}_padj\"] < padj_threshold)]\n",
    "    return tf_kd_deg_df\n",
    "\n",
    "def count_degs(de_df, tf_kd, lfc_threshold=0, padj_threshold=0.05):\n",
    "    deg_df = build_deg_df(de_df, tf_kd, lfc_threshold, padj_threshold)\n",
    "    return deg_df.shape[0]\n",
    "\n",
    "def count_degs_for_tf_kd_list(de_df, tf_kd_list, lfc_threshold=0, padj_threshold=0.05):\n",
    "    for tf_kd in tf_kd_list:\n",
    "        n_degs = count_degs(de_df, tf_kd, lfc_threshold, padj_threshold)\n",
    "        if n_degs == 1:\n",
    "            print(f\"{tf_kd} has {n_degs} DEG\")\n",
    "        else:\n",
    "            print(f\"{tf_kd} has {n_degs} DEGs\")"
   ]
  },
  {
   "cell_type": "code",
   "execution_count": null,
   "id": "d4882660",
   "metadata": {},
   "outputs": [
    {
     "name": "stdout",
     "output_type": "stream",
     "text": [
      "Batch BETA has 7 unique TF KDs\n"
     ]
    }
   ],
   "source": [
    "beta_kds = adata_beta_filt.obs.gene_target.unique().to_list()\n",
    "beta_kds.remove(\"NTC\")\n",
    "print(f\"Batch BETA has {len(beta_kds)} unique TF KDs\")"
   ]
  },
  {
   "cell_type": "code",
   "execution_count": null,
   "id": "e0722512",
   "metadata": {},
   "outputs": [
    {
     "name": "stdout",
     "output_type": "stream",
     "text": [
      "Batch BETA TF KDs: SNAPC5, TRAFD1, RBCK1, NAIF1, MTERF4, PIN1, ZBED6\n"
     ]
    }
   ],
   "source": [
    "print(f\"Batch BETA TF KDs: {', '.join(beta_kds)}\")"
   ]
  },
  {
   "cell_type": "code",
   "execution_count": null,
   "id": "71a44ac3",
   "metadata": {},
   "outputs": [
    {
     "data": {
      "text/plain": [
       "gene_target\n",
       "PIN1      78\n",
       "TRAFD1    77\n",
       "RBCK1     52\n",
       "SNAPC5    51\n",
       "NAIF1     33\n",
       "MTERF4    32\n",
       "ZBED6     26\n",
       "Name: count, dtype: int64"
      ]
     },
     "metadata": {},
     "output_type": "display_data"
    }
   ],
   "source": [
    "beta_filt_cells_per_kd = adata_beta_filt.obs.gene_target.value_counts()\n",
    "beta_filt_cells_per_kd = beta_filt_cells_per_kd.drop(\"NTC\")\n",
    "beta_filt_cells_per_kd"
   ]
  },
  {
   "cell_type": "code",
   "execution_count": null,
   "id": "7a0d5251",
   "metadata": {},
   "outputs": [
    {
     "data": {
      "application/vnd.jupyter.widget-view+json": {
       "model_id": "b02d22f5775449a7a946935d58597760",
       "version_major": 2,
       "version_minor": 0
      },
      "text/plain": [
       "Running DE analysis:   0%|          | 0/7 [00:00<?, ?it/s]"
      ]
     },
     "metadata": {},
     "output_type": "display_data"
    },
    {
     "name": "stderr",
     "output_type": "stream",
     "text": [
      "/home/ranwyl/pymde_env/lib64/python3.11/site-packages/pydeseq2/dds.py:804: UserWarning: The dispersion trend curve fitting did not converge. Switching to a mean-based dispersion trend.\n",
      "  self._fit_parametric_dispersion_trend(vst)\n",
      "/home/ranwyl/pymde_env/lib64/python3.11/site-packages/pydeseq2/dds.py:541: UserWarning: As the residual degrees of freedom is less than 3, the distribution of log dispersions is especially asymmetric and likely to be poorly estimated by the MAD.\n",
      "  self.fit_dispersion_prior()\n",
      "/home/ranwyl/pymde_env/lib64/python3.11/site-packages/pydeseq2/dds.py:541: UserWarning: As the residual degrees of freedom is less than 3, the distribution of log dispersions is especially asymmetric and likely to be poorly estimated by the MAD.\n",
      "  self.fit_dispersion_prior()\n",
      "/home/ranwyl/pymde_env/lib64/python3.11/site-packages/pydeseq2/dds.py:541: UserWarning: As the residual degrees of freedom is less than 3, the distribution of log dispersions is especially asymmetric and likely to be poorly estimated by the MAD.\n",
      "  self.fit_dispersion_prior()\n",
      "/home/ranwyl/pymde_env/lib64/python3.11/site-packages/pydeseq2/dds.py:541: UserWarning: As the residual degrees of freedom is less than 3, the distribution of log dispersions is especially asymmetric and likely to be poorly estimated by the MAD.\n",
      "  self.fit_dispersion_prior()\n",
      "/home/ranwyl/pymde_env/lib64/python3.11/site-packages/pydeseq2/dds.py:541: UserWarning: As the residual degrees of freedom is less than 3, the distribution of log dispersions is especially asymmetric and likely to be poorly estimated by the MAD.\n",
      "  self.fit_dispersion_prior()\n",
      "/home/ranwyl/pymde_env/lib64/python3.11/site-packages/pydeseq2/dds.py:541: UserWarning: As the residual degrees of freedom is less than 3, the distribution of log dispersions is especially asymmetric and likely to be poorly estimated by the MAD.\n",
      "  self.fit_dispersion_prior()\n",
      "/home/ranwyl/pymde_env/lib64/python3.11/site-packages/pydeseq2/dds.py:541: UserWarning: As the residual degrees of freedom is less than 3, the distribution of log dispersions is especially asymmetric and likely to be poorly estimated by the MAD.\n",
      "  self.fit_dispersion_prior()\n"
     ]
    }
   ],
   "source": [
    "results_dict_beta = de_analysis_dataset(adata_beta_filt, n_cpus=25, n_reps=2)"
   ]
  },
  {
   "cell_type": "code",
   "execution_count": null,
   "id": "ff68d2b8",
   "metadata": {},
   "outputs": [],
   "source": [
    "beta_DE_df = build_de_df(results_dict_beta)"
   ]
  },
  {
   "cell_type": "code",
   "execution_count": null,
   "id": "67a1dd60",
   "metadata": {},
   "outputs": [
    {
     "data": {
      "text/html": [
       "<div>\n",
       "<style scoped>\n",
       "    .dataframe tbody tr th:only-of-type {\n",
       "        vertical-align: middle;\n",
       "    }\n",
       "\n",
       "    .dataframe tbody tr th {\n",
       "        vertical-align: top;\n",
       "    }\n",
       "\n",
       "    .dataframe thead th {\n",
       "        text-align: right;\n",
       "    }\n",
       "</style>\n",
       "<table border=\"1\" class=\"dataframe\">\n",
       "  <thead>\n",
       "    <tr style=\"text-align: right;\">\n",
       "      <th></th>\n",
       "      <th>SNAPC5_baseMean</th>\n",
       "      <th>SNAPC5_log2FoldChange</th>\n",
       "      <th>SNAPC5_lfcSE</th>\n",
       "      <th>SNAPC5_stat</th>\n",
       "      <th>SNAPC5_pvalue</th>\n",
       "      <th>SNAPC5_padj</th>\n",
       "      <th>TRAFD1_baseMean</th>\n",
       "      <th>TRAFD1_log2FoldChange</th>\n",
       "      <th>TRAFD1_lfcSE</th>\n",
       "      <th>TRAFD1_stat</th>\n",
       "      <th>...</th>\n",
       "      <th>PIN1_lfcSE</th>\n",
       "      <th>PIN1_stat</th>\n",
       "      <th>PIN1_pvalue</th>\n",
       "      <th>PIN1_padj</th>\n",
       "      <th>ZBED6_baseMean</th>\n",
       "      <th>ZBED6_log2FoldChange</th>\n",
       "      <th>ZBED6_lfcSE</th>\n",
       "      <th>ZBED6_stat</th>\n",
       "      <th>ZBED6_pvalue</th>\n",
       "      <th>ZBED6_padj</th>\n",
       "    </tr>\n",
       "  </thead>\n",
       "  <tbody>\n",
       "    <tr>\n",
       "      <th>A1BG</th>\n",
       "      <td>2.090794</td>\n",
       "      <td>0.657907</td>\n",
       "      <td>1.613191</td>\n",
       "      <td>1.318879</td>\n",
       "      <td>0.187210</td>\n",
       "      <td>0.99514</td>\n",
       "      <td>3.235310</td>\n",
       "      <td>-0.259582</td>\n",
       "      <td>1.013076</td>\n",
       "      <td>-0.531073</td>\n",
       "      <td>...</td>\n",
       "      <td>0.953159</td>\n",
       "      <td>0.174302</td>\n",
       "      <td>0.861628</td>\n",
       "      <td>0.997742</td>\n",
       "      <td>1.999285</td>\n",
       "      <td>-0.548611</td>\n",
       "      <td>1.104251</td>\n",
       "      <td>-1.047380</td>\n",
       "      <td>0.294925</td>\n",
       "      <td>0.998534</td>\n",
       "    </tr>\n",
       "    <tr>\n",
       "      <th>A1BG-AS1</th>\n",
       "      <td>NaN</td>\n",
       "      <td>NaN</td>\n",
       "      <td>NaN</td>\n",
       "      <td>NaN</td>\n",
       "      <td>NaN</td>\n",
       "      <td>NaN</td>\n",
       "      <td>0.252513</td>\n",
       "      <td>0.097314</td>\n",
       "      <td>2.543327</td>\n",
       "      <td>0.262381</td>\n",
       "      <td>...</td>\n",
       "      <td>2.238469</td>\n",
       "      <td>0.638538</td>\n",
       "      <td>0.523123</td>\n",
       "      <td>0.997742</td>\n",
       "      <td>NaN</td>\n",
       "      <td>NaN</td>\n",
       "      <td>NaN</td>\n",
       "      <td>NaN</td>\n",
       "      <td>NaN</td>\n",
       "      <td>NaN</td>\n",
       "    </tr>\n",
       "    <tr>\n",
       "      <th>A2M</th>\n",
       "      <td>0.690982</td>\n",
       "      <td>0.285339</td>\n",
       "      <td>2.327042</td>\n",
       "      <td>0.769845</td>\n",
       "      <td>0.441392</td>\n",
       "      <td>0.99514</td>\n",
       "      <td>1.239847</td>\n",
       "      <td>0.083991</td>\n",
       "      <td>1.278528</td>\n",
       "      <td>0.219586</td>\n",
       "      <td>...</td>\n",
       "      <td>1.446661</td>\n",
       "      <td>0.345858</td>\n",
       "      <td>0.729449</td>\n",
       "      <td>0.997742</td>\n",
       "      <td>0.506277</td>\n",
       "      <td>-0.338132</td>\n",
       "      <td>1.194558</td>\n",
       "      <td>-0.749747</td>\n",
       "      <td>0.453407</td>\n",
       "      <td>0.998534</td>\n",
       "    </tr>\n",
       "    <tr>\n",
       "      <th>A2M-AS1</th>\n",
       "      <td>0.232651</td>\n",
       "      <td>0.094468</td>\n",
       "      <td>2.500232</td>\n",
       "      <td>0.235438</td>\n",
       "      <td>0.813869</td>\n",
       "      <td>0.99514</td>\n",
       "      <td>NaN</td>\n",
       "      <td>NaN</td>\n",
       "      <td>NaN</td>\n",
       "      <td>NaN</td>\n",
       "      <td>...</td>\n",
       "      <td>2.485085</td>\n",
       "      <td>0.284172</td>\n",
       "      <td>0.776278</td>\n",
       "      <td>0.997742</td>\n",
       "      <td>0.234035</td>\n",
       "      <td>-0.102118</td>\n",
       "      <td>1.109997</td>\n",
       "      <td>-0.277981</td>\n",
       "      <td>0.781027</td>\n",
       "      <td>0.998534</td>\n",
       "    </tr>\n",
       "    <tr>\n",
       "      <th>A2ML1</th>\n",
       "      <td>1.469387</td>\n",
       "      <td>0.126239</td>\n",
       "      <td>1.343993</td>\n",
       "      <td>0.337321</td>\n",
       "      <td>0.735875</td>\n",
       "      <td>0.99514</td>\n",
       "      <td>2.630036</td>\n",
       "      <td>0.178879</td>\n",
       "      <td>1.150894</td>\n",
       "      <td>0.385241</td>\n",
       "      <td>...</td>\n",
       "      <td>2.238469</td>\n",
       "      <td>0.638538</td>\n",
       "      <td>0.523123</td>\n",
       "      <td>0.997742</td>\n",
       "      <td>0.529991</td>\n",
       "      <td>-0.008621</td>\n",
       "      <td>1.307980</td>\n",
       "      <td>-0.025116</td>\n",
       "      <td>0.979963</td>\n",
       "      <td>0.998534</td>\n",
       "    </tr>\n",
       "  </tbody>\n",
       "</table>\n",
       "<p>5 rows × 42 columns</p>\n",
       "</div>"
      ],
      "text/plain": [
       "          SNAPC5_baseMean  SNAPC5_log2FoldChange  SNAPC5_lfcSE  SNAPC5_stat  \\\n",
       "A1BG             2.090794               0.657907      1.613191     1.318879   \n",
       "A1BG-AS1              NaN                    NaN           NaN          NaN   \n",
       "A2M              0.690982               0.285339      2.327042     0.769845   \n",
       "A2M-AS1          0.232651               0.094468      2.500232     0.235438   \n",
       "A2ML1            1.469387               0.126239      1.343993     0.337321   \n",
       "\n",
       "          SNAPC5_pvalue  SNAPC5_padj  TRAFD1_baseMean  TRAFD1_log2FoldChange  \\\n",
       "A1BG           0.187210      0.99514         3.235310              -0.259582   \n",
       "A1BG-AS1            NaN          NaN         0.252513               0.097314   \n",
       "A2M            0.441392      0.99514         1.239847               0.083991   \n",
       "A2M-AS1        0.813869      0.99514              NaN                    NaN   \n",
       "A2ML1          0.735875      0.99514         2.630036               0.178879   \n",
       "\n",
       "          TRAFD1_lfcSE  TRAFD1_stat  ...  PIN1_lfcSE  PIN1_stat  PIN1_pvalue  \\\n",
       "A1BG          1.013076    -0.531073  ...    0.953159   0.174302     0.861628   \n",
       "A1BG-AS1      2.543327     0.262381  ...    2.238469   0.638538     0.523123   \n",
       "A2M           1.278528     0.219586  ...    1.446661   0.345858     0.729449   \n",
       "A2M-AS1            NaN          NaN  ...    2.485085   0.284172     0.776278   \n",
       "A2ML1         1.150894     0.385241  ...    2.238469   0.638538     0.523123   \n",
       "\n",
       "          PIN1_padj  ZBED6_baseMean  ZBED6_log2FoldChange  ZBED6_lfcSE  \\\n",
       "A1BG       0.997742        1.999285             -0.548611     1.104251   \n",
       "A1BG-AS1   0.997742             NaN                   NaN          NaN   \n",
       "A2M        0.997742        0.506277             -0.338132     1.194558   \n",
       "A2M-AS1    0.997742        0.234035             -0.102118     1.109997   \n",
       "A2ML1      0.997742        0.529991             -0.008621     1.307980   \n",
       "\n",
       "          ZBED6_stat  ZBED6_pvalue  ZBED6_padj  \n",
       "A1BG       -1.047380      0.294925    0.998534  \n",
       "A1BG-AS1         NaN           NaN         NaN  \n",
       "A2M        -0.749747      0.453407    0.998534  \n",
       "A2M-AS1    -0.277981      0.781027    0.998534  \n",
       "A2ML1      -0.025116      0.979963    0.998534  \n",
       "\n",
       "[5 rows x 42 columns]"
      ]
     },
     "metadata": {},
     "output_type": "display_data"
    }
   ],
   "source": [
    "beta_DE_df.head()"
   ]
  },
  {
   "cell_type": "code",
   "execution_count": null,
   "id": "5f944a05",
   "metadata": {},
   "outputs": [
    {
     "name": "stdout",
     "output_type": "stream",
     "text": [
      "SNAPC5 has 0 DEGs\n",
      "TRAFD1 has 0 DEGs\n",
      "RBCK1 has 0 DEGs\n",
      "NAIF1 has 0 DEGs\n",
      "MTERF4 has 1 DEG\n",
      "PIN1 has 0 DEGs\n",
      "ZBED6 has 0 DEGs\n"
     ]
    }
   ],
   "source": [
    "count_degs_for_tf_kd_list(beta_DE_df, beta_kds)"
   ]
  },
  {
   "cell_type": "code",
   "execution_count": null,
   "id": "c45d1206",
   "metadata": {},
   "outputs": [
    {
     "data": {
      "application/vnd.jupyter.widget-view+json": {
       "model_id": "9b17e42e37ed47cd9f06638a2c2b4a22",
       "version_major": 2,
       "version_minor": 0
      },
      "text/plain": [
       "Running DE analysis:   0%|          | 0/7 [00:00<?, ?it/s]"
      ]
     },
     "metadata": {},
     "output_type": "display_data"
    },
    {
     "name": "stderr",
     "output_type": "stream",
     "text": [
      "/home/ranwyl/pymde_env/lib64/python3.11/site-packages/pydeseq2/dds.py:804: UserWarning: The dispersion trend curve fitting did not converge. Switching to a mean-based dispersion trend.\n",
      "  self._fit_parametric_dispersion_trend(vst)\n"
     ]
    }
   ],
   "source": [
    "results_dict_beta_3reps = de_analysis_dataset(adata_beta_filt, n_cpus=25, n_reps=3)"
   ]
  },
  {
   "cell_type": "code",
   "execution_count": null,
   "id": "538e2ca9",
   "metadata": {},
   "outputs": [],
   "source": [
    "beta_DE_df_3reps = build_de_df(results_dict_beta)"
   ]
  },
  {
   "cell_type": "code",
   "execution_count": null,
   "id": "2b538369",
   "metadata": {},
   "outputs": [
    {
     "name": "stdout",
     "output_type": "stream",
     "text": [
      "SNAPC5 has 0 DEGs\n",
      "TRAFD1 has 0 DEGs\n",
      "RBCK1 has 0 DEGs\n",
      "NAIF1 has 0 DEGs\n",
      "MTERF4 has 1 DEG\n",
      "PIN1 has 0 DEGs\n",
      "ZBED6 has 0 DEGs\n"
     ]
    }
   ],
   "source": [
    "count_degs_for_tf_kd_list(beta_DE_df_3reps, beta_kds)"
   ]
  },
  {
   "cell_type": "markdown",
   "id": "39bfdc37",
   "metadata": {},
   "source": [
    "# Old DE code"
   ]
  },
  {
   "cell_type": "markdown",
   "id": "2ceb3f06",
   "metadata": {},
   "source": [
    "Combine all DE results into one DataFrame"
   ]
  },
  {
   "cell_type": "code",
   "execution_count": null,
   "id": "caca55d6",
   "metadata": {},
   "outputs": [],
   "source": [
    "DE_results = pd.concat([alpha_DE_df, beta_DE_df], axis=1)\n",
    "DE_results = aggregate_DE_df.sort_index()\n",
    "DE_results.head()"
   ]
  },
  {
   "cell_type": "markdown",
   "id": "79bca809",
   "metadata": {},
   "source": [
    "Write out results"
   ]
  },
  {
   "cell_type": "code",
   "execution_count": null,
   "id": "3d075e50",
   "metadata": {},
   "outputs": [],
   "source": [
    "filepath_pkl = \"/home/ranwyl/results_tf_project/DE_results_10_2_2025.pkl\"\n",
    "DE_results.to_pickle(filepath_pkl)"
   ]
  },
  {
   "cell_type": "markdown",
   "id": "617cdb2a",
   "metadata": {},
   "source": [
    "Rename genes that are listed by Ensembl ID but have a gene name"
   ]
  },
  {
   "cell_type": "code",
   "execution_count": null,
   "id": "d1b0bec2",
   "metadata": {},
   "outputs": [],
   "source": [
    "all_genes = DE_results.index.tolist()\n",
    "ensg_genes = [g for g in all_genes if g.startswith(\"ENSG\")]\n",
    "print(len(ensg_genes))\n",
    "print(ensg_genes[:5])"
   ]
  },
  {
   "cell_type": "code",
   "execution_count": null,
   "id": "7bd9fe63",
   "metadata": {},
   "outputs": [],
   "source": [
    "mg = get_client('gene')\n",
    "ensembl_results_all = mg.querymany(ensg_genes, fields='symbol', species='human')"
   ]
  },
  {
   "cell_type": "markdown",
   "id": "098fdc64",
   "metadata": {},
   "source": [
    "Manually search for the genes with duplicate hits on GeneCards. To break ties, use the highest GeneCards Inferred Functionality Score (GIFtS). If there is a tie between highest scoring gene symbols, keep the gene as its Ensembl ID."
   ]
  },
  {
   "cell_type": "code",
   "execution_count": null,
   "id": "40eb333f",
   "metadata": {},
   "outputs": [],
   "source": [
    "# Change this\n",
    "dup_hits = {'ENSG00000234352': 'LOC349160', 'ENSG00000249738':'IL12B-AS1', 'ENSG00000257545':'LOC100287944'}"
   ]
  },
  {
   "cell_type": "markdown",
   "id": "2b3f4fc7",
   "metadata": {},
   "source": [
    "Rename genes"
   ]
  },
  {
   "cell_type": "code",
   "execution_count": null,
   "id": "500b99b8",
   "metadata": {},
   "outputs": [],
   "source": [
    "ensembl_to_gene = dict()\n",
    "for r in ensembl_results_all:\n",
    "  if r.get('symbol'):\n",
    "      ensembl_to_gene[r.get('query')] = r.get('symbol')\n",
    "ensembl_to_gene.update(dup_hits) # Change duplicate hits\n",
    "print(len(ensembl_to_gene))"
   ]
  },
  {
   "cell_type": "code",
   "execution_count": null,
   "id": "ad5055be",
   "metadata": {},
   "outputs": [],
   "source": [
    "def rename_ensembl_genes(de_df, ensembl_to_gene_dict):\n",
    "    \"\"\"\n",
    "    Rename genes in DataFrame.\n",
    "    \"\"\"\n",
    "    de_df_renamed = de_df.rename(index=ensembl_to_gene_dict)\n",
    "    print(f\"Converted {len(ensembl_to_gene_dict)} Ensembl IDs to gene symbols\")\n",
    "    return de_df_renamed"
   ]
  },
  {
   "cell_type": "code",
   "execution_count": null,
   "id": "723f5cba",
   "metadata": {},
   "outputs": [],
   "source": [
    "DE_results_renamed = rename_ensembl_genes(DE_results, ensembl_to_gene)"
   ]
  },
  {
   "cell_type": "code",
   "execution_count": null,
   "id": "a858b14f",
   "metadata": {},
   "outputs": [],
   "source": [
    "filepath_pkl = \"/home/ranwyl/results_tf_project/DE_results_gene_names_09-2025.pkl\"\n",
    "DE_results_renamed.to_pickle(filepath_pkl)"
   ]
  },
  {
   "cell_type": "markdown",
   "id": "9cb82556",
   "metadata": {},
   "source": [
    "# Step H: Batch Correction"
   ]
  },
  {
   "cell_type": "code",
   "execution_count": null,
   "id": "9e365e51",
   "metadata": {},
   "outputs": [],
   "source": [
    "adata_alpha = ad.read_h5ad(\"/home/ranwyl/data_tf_project/Aggregate_ALPHA_Core_Cells.h5ad\")\n",
    "adata_beta = ad.read_h5ad(\"/home/ranwyl/data_tf_project/Aggregate_BETA_Core_Cells.h5ad\")\n",
    "adata_gamma = ad.read_h5ad(\"/home/ranwyl/data_tf_project/Aggregate_GAMMA_Core_Cells.h5ad\")"
   ]
  },
  {
   "cell_type": "code",
   "execution_count": null,
   "id": "8f8ebd0a",
   "metadata": {},
   "outputs": [],
   "source": [
    "# Filter TF KO and NTC cells\n",
    "def filter_tf_ko_and_ntc(adata):\n",
    "    return adata[(adata.obs[\"gene_target\"].isin(tfs)) | (adata.obs[\"gene_target\"] == \"NTC\")].copy()\n",
    "\n",
    "# Remove lowly expressed genes based on list\n",
    "def filter_low_expr_genes(adata, genes_to_keep_list):\n",
    "    return adata[:,adata.var.index.isin(genes_to_keep_list)].copy()\n",
    "\n",
    "def filter_cells_and_genes(adata, genes_to_keep_list):\n",
    "    adata = filter_tf_ko_and_ntc(adata)\n",
    "    return filter_low_expr_genes(adata, genes_to_keep_list)\n",
    "\n",
    "# Genes that passed filtering out lowly expressed genes\n",
    "genes_to_keep = pd.read_pickle(\"/home/ranwyl/data_tf_project/genes_filtered_30pct_100cells.pkl\")\n",
    "genes_to_keep = genes_to_keep[0].tolist()"
   ]
  },
  {
   "cell_type": "code",
   "execution_count": null,
   "id": "88c3ce3b",
   "metadata": {},
   "outputs": [],
   "source": [
    "adata_alpha_filtered = filter_cells_and_genes(adata_alpha, genes_to_keep)\n",
    "adata_beta_filtered = filter_cells_and_genes(adata_beta, genes_to_keep)\n",
    "adata_gamma_filtered = filter_cells_and_genes(adata_gamma, genes_to_keep)"
   ]
  },
  {
   "cell_type": "code",
   "execution_count": null,
   "id": "64ffd32d",
   "metadata": {},
   "outputs": [],
   "source": [
    "adata_combined = ad.concat([adata_alpha_filtered, adata_beta_filtered, adata_gamma_filtered])\n",
    "adata_combined.X = adata_combined.layers[\"counts\"].copy()\n",
    "adata_combined"
   ]
  },
  {
   "cell_type": "markdown",
   "id": "0b403d11",
   "metadata": {},
   "source": [
    "Normalizate to median UMI count of all NTC cells"
   ]
  },
  {
   "cell_type": "code",
   "execution_count": null,
   "id": "f4ace568",
   "metadata": {},
   "outputs": [],
   "source": [
    "median_NTC_UMIs = np.median(qc2._get_ntc_view(adata_combined).obs.n_UMI_counts)\n",
    "sc.pp.normalize_total(adata_combined, target_sum=median_NTC_UMIs)"
   ]
  },
  {
   "cell_type": "markdown",
   "id": "ce3de1ce",
   "metadata": {},
   "source": [
    "Perform log1p transformation and batch correction"
   ]
  },
  {
   "cell_type": "code",
   "execution_count": null,
   "id": "3e904132",
   "metadata": {},
   "outputs": [],
   "source": [
    "sc.pp.log1p(adata_combined)\n",
    "\n",
    "# Batch correction via relative z-normalization\n",
    "a = adata_combined[adata_combined.obs.run == 'ALPHA'].copy()\n",
    "b = adata_combined[adata_combined.obs.run == 'BETA'].copy()\n",
    "c = adata_combined[adata_combined.obs.run == 'GAMMA'].copy()\n",
    "qc2.relative_z_normalization(a)\n",
    "qc2.relative_z_normalization(b)\n",
    "qc2.relative_z_normalization(c)\n",
    "\n",
    "normalized_adata = ad.concat([a,b,c])\n",
    "normalized_adata"
   ]
  },
  {
   "cell_type": "code",
   "execution_count": null,
   "id": "422235c4",
   "metadata": {},
   "outputs": [],
   "source": [
    "normalized_adata.write(\"/home/ranwyl/data_tf_project/Final_Aggregate_TF_KO_NTC_Batch_Normalized.h5ad\")"
   ]
  }
 ],
 "metadata": {
  "kernelspec": {
   "display_name": "pymde_env",
   "language": "python",
   "name": "python3"
  },
  "language_info": {
   "codemirror_mode": {
    "name": "ipython",
    "version": 3
   },
   "file_extension": ".py",
   "mimetype": "text/x-python",
   "name": "python",
   "nbconvert_exporter": "python",
   "pygments_lexer": "ipython3",
   "version": "3.11.11"
  }
 },
 "nbformat": 4,
 "nbformat_minor": 5
}
