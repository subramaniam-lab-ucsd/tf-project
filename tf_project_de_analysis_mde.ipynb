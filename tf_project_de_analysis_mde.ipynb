{
 "cells": [
  {
   "cell_type": "markdown",
   "id": "f7201e00",
   "metadata": {},
   "source": [
    "# Transcription Factor Project - Differential Expression Analysis and Minimum Distortion Embedding\n",
    "**Robin Anwyl, UCSD Subramaniam Lab**\n",
    "\n",
    "**Project Goal:** Analyze the hiPSC Perturb-seq dataset from the Mali lab (Nourreddine et al preprint) to investigate the effects of transcription factor knockouts (TF KOs)\n",
    "\n",
    "**Notebook Description:** \n",
    "-  Dataset: QC'd TF KO (and NTC) dataset\n",
    "-  Analysis: pseudobulk differential expression analysis (DEA), pairwise Pearson correlation matrix, minimum distortion embedding (MDE)\n",
    "***"
   ]
  },
  {
   "cell_type": "markdown",
   "id": "c5f7d6e8",
   "metadata": {},
   "source": [
    "# Import statements"
   ]
  },
  {
   "cell_type": "code",
   "execution_count": null,
   "id": "c98b513d",
   "metadata": {},
   "outputs": [],
   "source": [
    "import anndata as ad\n",
    "import scanpy as sc\n",
    "import pandas as pd\n",
    "import numpy as np\n",
    "import matplotlib.pyplot as plt\n",
    "import scipy as sp\n",
    "import gc\n",
    "from tqdm.auto import tqdm\n",
    "from statsmodels.stats.multitest import multipletests\n",
    "from scipy.stats import mannwhitneyu\n",
    "from scipy.stats import ks_2samp\n",
    "from scipy.stats import gamma\n",
    "from scipy.stats import spearmanr\n",
    "import seaborn as sns\n",
    "from joblib import Parallel, delayed\n",
    "from tqdm import tqdm\n",
    "from tqdm_joblib import tqdm_joblib\n",
    "import networkx as nx\n",
    "from pydeseq2.dds import DeseqDataSet\n",
    "from pydeseq2.ds import DeseqStats\n",
    "from pydeseq2.default_inference import DefaultInference\n",
    "import pickle as pkl\n",
    "from IPython.display import display  #type: ignore\n",
    "from scipy.spatial.distance import pdist, squareform #type: ignore\n",
    "import plotly.express as px #type: ignore\n",
    "import plotly.graph_objects as go #type: ignore\n",
    "import pymde #type: ignore\n",
    "import plotly.io as pio #type: ignore\n",
    "from sklearn.preprocessing import StandardScaler #type: ignore\n",
    "from sklearn.neighbors import kneighbors_graph #type: ignore\n",
    "from sklearn.manifold import SpectralEmbedding\n",
    "import igraph as ig #type: ignore\n",
    "import leidenalg #type: ignore\n",
    "from biothings_client import get_client\n",
    "import decoupler as dc\n",
    "import sys\n",
    "import os\n",
    "sys.path.insert(0, \"/home/ranwyl/data_tf_project/\")\n",
    "import perturb_seq_heuristic_pipeline as qc\n",
    "import pan_genome_analysis_functions as qc2"
   ]
  },
  {
   "cell_type": "markdown",
   "id": "4e0adf83",
   "metadata": {},
   "source": [
    "# Filtering lowly expressed genes"
   ]
  },
  {
   "cell_type": "markdown",
   "id": "55d47009",
   "metadata": {},
   "source": [
    "# Differential expression analysis - partitioning method"
   ]
  },
  {
   "cell_type": "markdown",
   "id": "123a3b9c",
   "metadata": {},
   "source": []
  },
  {
   "cell_type": "code",
   "execution_count": null,
   "id": "5fff4ed6",
   "metadata": {},
   "outputs": [],
   "source": []
  }
 ],
 "metadata": {
  "kernelspec": {
   "display_name": "pymde_env",
   "language": "python",
   "name": "python3"
  },
  "language_info": {
   "name": "python",
   "version": "3.11.11"
  }
 },
 "nbformat": 4,
 "nbformat_minor": 5
}
