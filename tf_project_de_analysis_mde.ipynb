{
 "cells": [
  {
   "cell_type": "markdown",
   "id": "f7201e00",
   "metadata": {},
   "source": [
    "# Transcription Factor Project - Differential Expression Analysis and Minimum Distortion Embedding (Pipeline Steps G-I)\n",
    "**Robin Anwyl, UCSD Subramaniam Lab**\n",
    "\n",
    "**Project Goal:** Analyze the hiPSC Perturb-seq dataset from the Mali lab (Nourreddine et al preprint) to investigate the effects of transcription factor knockouts (TF KOs)\n",
    "\n",
    "**Notebook Description:** \n",
    "-  Dataset: QC'd TF KO (and NTC) dataset\n",
    "-  Analysis: pseudobulk differential expression analysis (DEA), pairwise Pearson correlation matrix, minimum distortion embedding (MDE)\n",
    "***"
   ]
  },
  {
   "cell_type": "markdown",
   "id": "c5f7d6e8",
   "metadata": {},
   "source": [
    "# Import statements and global random seed"
   ]
  },
  {
   "cell_type": "code",
   "execution_count": 1,
   "id": "c98b513d",
   "metadata": {},
   "outputs": [],
   "source": [
    "import anndata as ad\n",
    "import scanpy as sc\n",
    "import pandas as pd\n",
    "import numpy as np\n",
    "import matplotlib.pyplot as plt\n",
    "from matplotlib_venn import venn2\n",
    "import scipy as sp\n",
    "import gc\n",
    "from tqdm.auto import tqdm\n",
    "from statsmodels.stats.multitest import multipletests\n",
    "from scipy.stats import mannwhitneyu\n",
    "from scipy.stats import ks_2samp\n",
    "from scipy.stats import gamma\n",
    "from scipy.stats import spearmanr\n",
    "import seaborn as sns\n",
    "from joblib import Parallel, delayed\n",
    "from tqdm import tqdm\n",
    "from tqdm_joblib import tqdm_joblib\n",
    "import networkx as nx\n",
    "from pydeseq2.dds import DeseqDataSet\n",
    "from pydeseq2.ds import DeseqStats\n",
    "from pydeseq2.default_inference import DefaultInference\n",
    "import pickle as pkl\n",
    "from IPython.display import display  #type: ignore\n",
    "from scipy.spatial.distance import pdist, squareform #type: ignore\n",
    "import plotly.express as px #type: ignore\n",
    "import plotly.graph_objects as go #type: ignore\n",
    "import pymde #type: ignore\n",
    "import plotly.io as pio #type: ignore\n",
    "from sklearn.preprocessing import StandardScaler #type: ignore\n",
    "from sklearn.neighbors import kneighbors_graph #type: ignore\n",
    "from sklearn.manifold import SpectralEmbedding\n",
    "import igraph as ig #type: ignore\n",
    "import leidenalg #type: ignore\n",
    "from biothings_client import get_client\n",
    "import decoupler as dc\n",
    "import sys\n",
    "import os\n",
    "sys.path.insert(0, \"/home/ranwyl/data_tf_project/\")\n",
    "import perturb_seq_heuristic_pipeline as qc\n",
    "import pan_genome_analysis_functions as qc2\n",
    "\n",
    "# Set global random seed as safety measure for reproducibility\n",
    "np.random.seed(92093)"
   ]
  },
  {
   "cell_type": "markdown",
   "id": "08a7df33",
   "metadata": {},
   "source": [
    "# Sanity check: compare to previous results"
   ]
  },
  {
   "cell_type": "code",
   "execution_count": 2,
   "id": "2c4a9f1f",
   "metadata": {},
   "outputs": [],
   "source": [
    "# List of 1639 TFs from Lambert et al (2018)\n",
    "lambert_csv = pd.read_csv(\"Lambert_2018_TFs.csv\")\n",
    "tfs = lambert_csv[lambert_csv.iloc[:,3] == \"Yes\"].iloc[:,1].tolist()\n",
    "tfs = set(tfs)\n",
    "\n",
    "def filter_tf_ko_and_ntc(adata):\n",
    "    \"\"\"\n",
    "    Filter for TF KO and NTC cells.\n",
    "    \"\"\"\n",
    "    return adata[(adata.obs[\"gene_target\"].isin(tfs)) | (adata.obs[\"gene_target\"] == \"NTC\")].copy()"
   ]
  },
  {
   "cell_type": "markdown",
   "id": "aa886340",
   "metadata": {},
   "source": [
    "### Old"
   ]
  },
  {
   "cell_type": "code",
   "execution_count": 3,
   "id": "46391467",
   "metadata": {},
   "outputs": [],
   "source": [
    "adata_old = ad.read_h5ad(\"/home/ranwyl/data_tf_project/Final_Aggregate_TF_KO_NTC_Batch_Normalized.h5ad\")"
   ]
  },
  {
   "cell_type": "code",
   "execution_count": 4,
   "id": "cc56a546",
   "metadata": {},
   "outputs": [
    {
     "data": {
      "text/plain": [
       "AnnData object with n_obs × n_vars = 69241 × 13792\n",
       "    obs: 'gRNA', 'n_gRNA', 'n_gRNA_UMIs', 'gene_target', 'celltype', 'perturbation_type', 'n_UMI_counts', 'n_genes', 'perturbed', 'channel', 'n_genes_by_counts', 'log1p_n_genes_by_counts', 'total_counts', 'log1p_total_counts', 'pct_counts_in_top_20_genes', 'total_counts_mt', 'log1p_total_counts_mt', 'pct_counts_mt', 'total_counts_ribo', 'log1p_total_counts_ribo', 'pct_counts_ribo', 'total_counts_hb', 'log1p_total_counts_hb', 'pct_counts_hb', 'outlier', 'run', 'gene_target_ensembl_id', 'gene_target_expression (CPM)', 'NTC_target_gene_expression (CPM)', 'target_knockdown', 'target_knockdown_z_score', 'ed_category', 'anomaly_score'\n",
       "    obsm: 'X_pca'\n",
       "    layers: 'counts', 'normalized_counts', 'pre_z_normalization'"
      ]
     },
     "execution_count": 4,
     "metadata": {},
     "output_type": "execute_result"
    }
   ],
   "source": [
    "adata_old"
   ]
  },
  {
   "cell_type": "code",
   "execution_count": 5,
   "id": "e0229e3c",
   "metadata": {},
   "outputs": [
    {
     "data": {
      "text/plain": [
       "perturbed\n",
       "False    37433\n",
       "True     31808\n",
       "Name: count, dtype: int64"
      ]
     },
     "execution_count": 5,
     "metadata": {},
     "output_type": "execute_result"
    }
   ],
   "source": [
    "adata_old.obs[\"perturbed\"].value_counts()"
   ]
  },
  {
   "cell_type": "code",
   "execution_count": 6,
   "id": "ed439f61",
   "metadata": {},
   "outputs": [
    {
     "name": "stdout",
     "output_type": "stream",
     "text": [
      "['DMRT2', 'OSR2', 'BHLHA9', 'TERF1', 'FOXN2']\n",
      "643\n"
     ]
    }
   ],
   "source": [
    "tf_kos_alpha_old = adata_old[adata_old.obs[\"run\"] == \"ALPHA\"].obs[\"gene_target\"].unique().tolist()\n",
    "tf_kos_alpha_old.remove(\"NTC\")\n",
    "print(tf_kos_alpha_old[:5])\n",
    "print(len(tf_kos_alpha_old))"
   ]
  },
  {
   "cell_type": "code",
   "execution_count": 9,
   "id": "41d376eb",
   "metadata": {},
   "outputs": [
    {
     "name": "stdout",
     "output_type": "stream",
     "text": [
      "['AKAP8L', 'MSANTD4', 'PIN1', 'RBCK1', 'SNAPC5', 'CCDC17', 'MTERF4', 'ZBED6']\n",
      "8\n"
     ]
    }
   ],
   "source": [
    "tf_kos_beta_old = adata_old[adata_old.obs[\"run\"] == \"BETA\"].obs[\"gene_target\"].unique().tolist()\n",
    "tf_kos_beta_old.remove(\"NTC\")\n",
    "print(tf_kos_beta_old)\n",
    "print(len(tf_kos_beta_old))"
   ]
  },
  {
   "cell_type": "code",
   "execution_count": 10,
   "id": "50929de4",
   "metadata": {},
   "outputs": [
    {
     "name": "stdout",
     "output_type": "stream",
     "text": [
      "['FAM200B']\n",
      "1\n"
     ]
    }
   ],
   "source": [
    "tf_kos_gamma_old = adata_old[adata_old.obs[\"run\"] == \"GAMMA\"].obs[\"gene_target\"].unique().tolist()\n",
    "tf_kos_gamma_old.remove(\"NTC\")\n",
    "print(tf_kos_gamma_old)\n",
    "print(len(tf_kos_gamma_old))"
   ]
  },
  {
   "cell_type": "code",
   "execution_count": 4,
   "id": "8512109b",
   "metadata": {},
   "outputs": [
    {
     "name": "stdout",
     "output_type": "stream",
     "text": [
      "['DMRT2', 'OSR2', 'BHLHA9', 'TERF1', 'FOXN2']\n",
      "652\n"
     ]
    }
   ],
   "source": [
    "tf_kos_652 = adata_old.obs[\"gene_target\"].unique().tolist()\n",
    "tf_kos_652.remove(\"NTC\")\n",
    "print(tf_kos_652[:5])\n",
    "print(len(tf_kos_652))"
   ]
  },
  {
   "cell_type": "markdown",
   "id": "ed1a089f",
   "metadata": {},
   "source": [
    "### New - with RNG modifications"
   ]
  },
  {
   "cell_type": "code",
   "execution_count": 5,
   "id": "0dd670af",
   "metadata": {},
   "outputs": [],
   "source": [
    "adata_alpha = ad.read_h5ad(\"/home/ranwyl/data_tf_project/Aggregate_ALPHA_Core_Cells.h5ad\")\n",
    "adata_beta = ad.read_h5ad(\"/home/ranwyl/data_tf_project/Aggregate_BETA_Core_Cells.h5ad\")\n",
    "adata_gamma = ad.read_h5ad(\"/home/ranwyl/data_tf_project/Aggregate_GAMMA_Core_Cells.h5ad\")"
   ]
  },
  {
   "cell_type": "code",
   "execution_count": 6,
   "id": "481a2849",
   "metadata": {},
   "outputs": [],
   "source": [
    "adata_alpha_tf_ntc = filter_tf_ko_and_ntc(adata_alpha)\n",
    "adata_beta_tf_ntc = filter_tf_ko_and_ntc(adata_beta)\n",
    "adata_gamma_tf_ntc = filter_tf_ko_and_ntc(adata_gamma)"
   ]
  },
  {
   "cell_type": "code",
   "execution_count": 7,
   "id": "891edbf9",
   "metadata": {},
   "outputs": [
    {
     "data": {
      "text/plain": [
       "AnnData object with n_obs × n_vars = 66439 × 37567\n",
       "    obs: 'gRNA', 'n_gRNA', 'n_gRNA_UMIs', 'gene_target', 'celltype', 'perturbation_type', 'n_UMI_counts', 'n_genes', 'perturbed', 'channel', 'n_genes_by_counts', 'log1p_n_genes_by_counts', 'total_counts', 'log1p_total_counts', 'pct_counts_in_top_20_genes', 'total_counts_mt', 'log1p_total_counts_mt', 'pct_counts_mt', 'total_counts_ribo', 'log1p_total_counts_ribo', 'pct_counts_ribo', 'total_counts_hb', 'log1p_total_counts_hb', 'pct_counts_hb', 'outlier', 'run', 'gene_target_ensembl_id', 'gene_target_expression (CPM)', 'NTC_target_gene_expression (CPM)', 'target_knockdown', 'target_knockdown_z_score', 'ed_category', 'anomaly_score'\n",
       "    obsm: 'X_pca'\n",
       "    layers: 'counts', 'normalized_counts'"
      ]
     },
     "execution_count": 7,
     "metadata": {},
     "output_type": "execute_result"
    }
   ],
   "source": [
    "adata_full_tf_ntc = ad.concat([adata_alpha_tf_ntc, adata_beta_tf_ntc, adata_gamma_tf_ntc])\n",
    "adata_full_tf_ntc"
   ]
  },
  {
   "cell_type": "code",
   "execution_count": 26,
   "id": "cb3ec500",
   "metadata": {},
   "outputs": [
    {
     "data": {
      "text/plain": [
       "perturbed\n",
       "False    35229\n",
       "True     31210\n",
       "Name: count, dtype: int64"
      ]
     },
     "execution_count": 26,
     "metadata": {},
     "output_type": "execute_result"
    }
   ],
   "source": [
    "adata_full_tf_ntc.obs[\"perturbed\"].value_counts()"
   ]
  },
  {
   "cell_type": "code",
   "execution_count": 18,
   "id": "20ca1eee",
   "metadata": {},
   "outputs": [
    {
     "name": "stdout",
     "output_type": "stream",
     "text": [
      "['TERF1', 'ZNF316', 'ZNF142', 'ZFY', 'MYF5']\n",
      "654\n"
     ]
    }
   ],
   "source": [
    "tf_kos_alpha_new = adata_full_tf_ntc[adata_full_tf_ntc.obs[\"run\"] == \"ALPHA\"].obs[\"gene_target\"].unique().tolist()\n",
    "tf_kos_alpha_new.remove(\"NTC\")\n",
    "print(tf_kos_alpha_new[:5])\n",
    "print(len(tf_kos_alpha_new))"
   ]
  },
  {
   "cell_type": "code",
   "execution_count": 19,
   "id": "747bd560",
   "metadata": {},
   "outputs": [
    {
     "name": "stdout",
     "output_type": "stream",
     "text": [
      "['SNAPC5', 'TRAFD1', 'ZBED6']\n",
      "3\n"
     ]
    }
   ],
   "source": [
    "tf_kos_beta_new = adata_full_tf_ntc[adata_full_tf_ntc.obs[\"run\"] == \"BETA\"].obs[\"gene_target\"].unique().tolist()\n",
    "tf_kos_beta_new.remove(\"NTC\")\n",
    "print(tf_kos_beta_new[:5])\n",
    "print(len(tf_kos_beta_new))"
   ]
  },
  {
   "cell_type": "code",
   "execution_count": 20,
   "id": "77ecb24f",
   "metadata": {},
   "outputs": [
    {
     "name": "stdout",
     "output_type": "stream",
     "text": [
      "['FAM200B', 'SGSM2', 'THYN1']\n",
      "3\n"
     ]
    }
   ],
   "source": [
    "tf_kos_gamma_new = adata_full_tf_ntc[adata_full_tf_ntc.obs[\"run\"] == \"GAMMA\"].obs[\"gene_target\"].unique().tolist()\n",
    "tf_kos_gamma_new.remove(\"NTC\")\n",
    "print(tf_kos_gamma_new[:5])\n",
    "print(len(tf_kos_gamma_new))"
   ]
  },
  {
   "cell_type": "code",
   "execution_count": 8,
   "id": "0b3ce89b",
   "metadata": {},
   "outputs": [
    {
     "name": "stdout",
     "output_type": "stream",
     "text": [
      "['TERF1', 'ZNF316', 'ZNF142', 'ZFY', 'MYF5']\n",
      "660\n"
     ]
    }
   ],
   "source": [
    "tf_kos_660 = adata_full_tf_ntc.obs[\"gene_target\"].unique().tolist()\n",
    "tf_kos_660.remove(\"NTC\")\n",
    "print(tf_kos_660[:5])\n",
    "print(len(tf_kos_660))"
   ]
  },
  {
   "cell_type": "markdown",
   "id": "6b292c3d",
   "metadata": {},
   "source": [
    "### Comparison between old and new w/ RNG mods"
   ]
  },
  {
   "cell_type": "code",
   "execution_count": 18,
   "id": "98eff404",
   "metadata": {},
   "outputs": [
    {
     "name": "stdout",
     "output_type": "stream",
     "text": [
      "TF KOs in old (652) set that are not in new (660) set: 265\n",
      "{'ZKSCAN3', 'ONECUT3', 'TSHZ1', 'ZNF510', 'NFKB1', 'ZSCAN26', 'ZNF469', 'TP73', 'FOXA1', 'AHR', 'ZNF181', 'ZNF471', 'ZNF701', 'MTF2', 'ZNF860', 'GATA4', 'SP1', 'ZGPAT', 'ZNF112', 'CENPS', 'ZNF891', 'ETV5', 'LIN28B', 'ZNF775', 'AEBP1', 'ZNF143', 'DLX6', 'ZNF408', 'HEY1', 'NR1H4', 'IRX5', 'NKX6-3', 'ZMAT1', 'NKX6-1', 'NFIC', 'ZNF134', 'PRDM16', 'FOXM1', 'RHOXF2', 'TCF7L2', 'OSR2', 'CSRNP2', 'ZNF334', 'ZNF518B', 'SATB1', 'ERF', 'ZNF487', 'MEOX2', 'ZNF823', 'ZNF610', 'BHLHE22', 'ZNF564', 'TBPL2', 'ZNF17', 'ESRRA', 'LMX1B', 'YY2', 'ZNF155', 'SOX1', 'CENPB', 'GLIS3', 'GATA1', 'NFX1', 'FOXS1', 'SP110', 'HMX2', 'IRF9', 'GATA2', 'ZNF174', 'CREB5', 'ZNF226', 'JRKL', 'ZNF165', 'MSX1', 'L3MBTL4', 'SPDEF', 'ZNF571', 'RBPJL', 'THRB', 'RAX', 'NEUROD2', 'NHLH1', 'ZNF491', 'ZNF704', 'FOXQ1', 'HIVEP2', 'TBX20', 'PBX1', 'LHX9', 'TBX10', 'MTERF4', 'ZNF772', 'AKAP8L', 'ZBED4', 'ZNF560', 'MXD1', 'KLF6', 'RUNX3', 'TFE3', 'NKX6-2', 'BHLHA15', 'ZNF416', 'ZNF30', 'PREB', 'ZBTB6', 'MECOM', 'CEBPB', 'ELK1', 'ZNF592', 'ZNF518A', 'ZSCAN2', 'ZNF540', 'HDX', 'TCF7', 'TFEC', 'PIN1', 'ZNF781', 'DMRTA2', 'THRA', 'ZNF780A', 'CCDC17', 'ZMAT4', 'BHLHE41', 'JAZF1', 'ZNF850', 'ZNF420', 'HES4', 'ZNF705A', 'ASCL2', 'BAZ2A', 'ASCL3', 'POU4F3', 'ZFP30', 'TBX18', 'THAP7', 'ZNF501', 'TIGD6', 'ZNF706', 'MKX', 'SOX30', 'BHLHA9', 'ZNF709', 'PAX6', 'PCGF2', 'MEIS1', 'EHF', 'ZNF658', 'ZNF726', 'ZNF486', 'ZNF552', 'GATA3', 'HSF2', 'ZNF280D', 'HNF4G', 'ZNF507', 'PA2G4', 'DLX2', 'ZNF747', 'TCF12', 'GTF2I', 'ZNF511', 'ASH1L', 'FIGLA', 'NCOA3', 'ZNF124', 'PLSCR1', 'HMGN3', 'CTCFL', 'TET1', 'SLC2A4RG', 'ZSCAN30', 'NR2F2', 'RLF', 'ZNF653', 'ZSCAN25', 'ZNF512', 'ZNF83', 'ZNF582', 'PHF21A', 'ZNF671', 'GRHL3', 'NEUROG2', 'TAL2', 'MTERF3', 'ZBTB39', 'SMAD9', 'SNAI2', 'ZNF519', 'RFX8', 'ZNF311', 'ZFP42', 'KCNIP3', 'TWIST2', 'RORC', 'CBX2', 'BHLHE40', 'ZNF32', 'HOXA7', 'ZNF212', 'ZBED1', 'ZNF268', 'ZNF442', 'MSANTD4', 'ZNF75D', 'MXI1', 'ATOH1', 'IKZF5', 'ASCL5', 'ZNF669', 'FOXN2', 'IRF8', 'ZFP90', 'ZNF284', 'PBX3', 'TBX21', 'MSGN1', 'EBF3', 'NME2', 'MYPOP', 'FOSL2', 'POU3F4', 'ZNF692', 'BCL6B', 'ZNF91', 'CRX', 'ZNF76', 'CREBL2', 'ZNF621', 'GMEB2', 'ZNF66', 'ATF6B', 'ZNF490', 'ZNF398', 'ZNF691', 'NR4A3', 'DMRTB1', 'DMRTC2', 'ZNF639', 'LTF', 'PITX1', 'GPBP1', 'RBCK1', 'FOSB', 'CREB3L4', 'ZNF614', 'DUXA', 'TSHZ3', 'ZNF597', 'ZFP69', 'TFEB', 'ZNF345', 'ZNF607', 'CEBPD', 'ZNF44', 'CEBPA', 'GRHL2', 'ZNF583', 'TET2', 'FOXO1', 'FOXK1', 'MYF6', 'ZNF549', 'ZBTB43', 'ZNF446', 'FOXN4'}\n",
      "TF KOs in new (660) set that are not in new (652) set: 273\n",
      "{'SOX3', 'ZNF585B', 'MYBL1', 'NFE4', 'FOXA2', 'LHX1', 'ZNF148', 'LHX6', 'ZNF428', 'IRF7', 'ZBTB24', 'NCOA1', 'FOXE1', 'ZNF397', 'FOXG1', 'ZNF184', 'CARF', 'SGSM2', 'ZNF248', 'MYNN', 'ZNF557', 'ZSCAN5B', 'UNCX', 'TRAFD1', 'PRDM1', 'HIC2', 'ZNF865', 'ZFP64', 'ZNF562', 'ZXDC', 'ZNF711', 'TCF20', 'ZNF322', 'ZFP28', 'HES5', 'STAT3', 'ZNF600', 'VSX1', 'ZNF624', 'ZKSCAN8', 'ZNF197', 'ZNF157', 'ZNF440', 'ZNF785', 'ZFP62', 'ZSCAN1', 'ZNF724', 'ZNF260', 'ZNF69', 'PAX5', 'ZBTB7C', 'ZSCAN10', 'ZNF761', 'ZSCAN21', 'ZNF264', 'ZBTB44', 'BARHL2', 'ZNF740', 'ZNF586', 'ZFHX4', 'KLF9', 'TIGD3', 'ZNF354C', 'PAX3', 'HAND2', 'ZSCAN20', 'ZNF79', 'TEAD1', 'ZNF829', 'ZNF652', 'HNF4A', 'ZNF431', 'ZNF99', 'ZNF35', 'NFAT5', 'ZNF776', 'FOXA3', 'ZNF225', 'CEBPG', 'MIXL1', 'ZNF283', 'ZNF224', 'VEZF1', 'MAZ', 'ZXDB', 'ST18', 'ZNF132', 'ZNF717', 'MBD3', 'NKX3-1', 'THAP2', 'ZNF655', 'ZNF92', 'ZNF177', 'LHX8', 'CREB3L2', 'ZNF836', 'ZNF831', 'MYF5', 'ELF4', 'LYL1', 'ZNF488', 'ZNF561', 'ZFP92', 'SP100', 'WT1', 'ELF5', 'DLX3', 'SOX21', 'PLAGL2', 'SKOR1', 'GLMP', 'THAP1', 'SOX15', 'ATF4', 'ZNF263', 'ZNF37A', 'ZNF273', 'ZNF784', 'CREB3', 'ZFY', 'ZNF18', 'CREBZF', 'TGIF2', 'MYOG', 'ZNF140', 'NKX1-2', 'ZIC3', 'ZNF534', 'ZNF84', 'KLF11', 'BNC1', 'NFIA', 'NPAS2', 'NKRF', 'GFI1B', 'ZNF221', 'GFI1', 'ZBTB48', 'NHLH2', 'ZNF33B', 'ZNF385B', 'TRERF1', 'FLI1', 'ZNF530', 'ZNF879', 'NFE2L2', 'ZNF883', 'EOMES', 'EBF4', 'ZNF841', 'THYN1', 'ZNF626', 'HLX', 'ZNF789', 'IRF2', 'ZNF682', 'ZNF496', 'SP6', 'PRDM6', 'THAP4', 'ZNF160', 'ARGFX', 'KLF12', 'ZNF527', 'RUNX1', 'NOBOX', 'GLYR1', 'POU3F1', 'ZBED3', 'NACC2', 'KLF2', 'ZNF688', 'ZNF565', 'YBX2', 'ZBTB20', 'GRHL1', 'ZNF319', 'ZNF26', 'ETV6', 'ZNF33A', 'HIVEP3', 'ZSCAN22', 'ZNF570', 'ZNF189', 'SPEN', 'ZNF718', 'DMRTA1', 'SIX1', 'PAX4', 'TLX2', 'HSF5', 'ZNF641', 'PROX1', 'SOHLH1', 'ZNF142', 'ATF1', 'NKX2-8', 'GCM2', 'FOXL2', 'NR2E3', 'SPI1', 'ZNF813', 'ZNF623', 'RXRG', 'FOXP3', 'TBX19', 'DPF3', 'ZNF101', 'NKX2-6', 'ZIC4', 'HSF1', 'ZNF235', 'SALL1', 'ZNF317', 'HOXD1', 'ZNF493', 'ETV7', 'SOX17', 'ZNF430', 'ZNF202', 'ELK4', 'ZKSCAN5', 'KLF17', 'ALX1', 'ZNF543', 'ZNF598', 'ZNF746', 'ZNF497', 'POU2AF1', 'ZNF19', 'ZNF585A', 'ZFP82', 'ETV4', 'NR5A1', 'KLF7', 'MEF2A', 'BBX', 'MECP2', 'GTF2IRD2', 'TERB1', 'KLF8', 'MEF2D', 'ZNF763', 'ZNF329', 'ZNF10', 'ZNF584', 'TCF4', 'GLIS1', 'ZNF804B', 'GLI4', 'ZBTB40', 'PAX8', 'FBXL19', 'GPBP1L1', 'ZBTB7B', 'SPIC', 'ZNF483', 'ZNF347', 'ZNF644', 'MLXIPL', 'ZNF41', 'ZNF304', 'ZNF14', 'PLAGL1', 'ZNF484', 'HEYL', 'ZNF513', 'ZNF280B', 'XBP1', 'ZNF780B', 'ZNF415', 'ZNF677'}\n"
     ]
    }
   ],
   "source": [
    "tf_kos_652_set = set(tf_kos_652)\n",
    "tf_kos_660_set = set(tf_kos_660)\n",
    "print(f\"TF KOs in old (652) set that are not in new (660) set: {len(tf_kos_652_set - tf_kos_660_set)}\")\n",
    "print(tf_kos_652_set - tf_kos_660_set)\n",
    "\n",
    "print(f\"TF KOs in new (660) set that are not in new (652) set: {len(tf_kos_660_set - tf_kos_652_set)}\")\n",
    "print(tf_kos_660_set - tf_kos_652_set)"
   ]
  },
  {
   "cell_type": "code",
   "execution_count": 29,
   "id": "100d347b",
   "metadata": {},
   "outputs": [],
   "source": [
    "def plot_venn(set1, set2, label1, label2, title=None, color1=\"red\", color2=\"green\"):\n",
    "    plt.rcParams['font.size'] = 16\n",
    "    n_items1, n_items2 = len(set1), len(set2)\n",
    "    n_shared = len([g for g in set2 if g in set1])\n",
    "    left = n_items1 - n_shared\n",
    "    right = n_items2 - n_shared\n",
    "    venn2(subsets = (left, right, n_shared), \n",
    "        set_labels = (label1, label2),\n",
    "        set_colors = (color1, color2),\n",
    "        alpha=0.4)\n",
    "    if title:\n",
    "        plt.title(title, fontsize=18)\n",
    "    plt.show()"
   ]
  },
  {
   "cell_type": "code",
   "execution_count": 19,
   "id": "dbd9fe53",
   "metadata": {},
   "outputs": [
    {
     "data": {
      "image/png": "[encoded data removed]",
      "text/plain": [
       "<Figure size 640x480 with 1 Axes>"
      ]
     },
     "metadata": {},
     "output_type": "display_data"
    }
   ],
   "source": [
    "plot_venn(tf_kos_652_set, tf_kos_660_set, \"(Old) 652 TF KOs\", \"(New) 660 TF KOs\", \n",
    "          title=\"Shared TF KOs between old and new \\n(RNG-modified functions) datasets\")"
   ]
  },
  {
   "cell_type": "markdown",
   "id": "3cff0ac3",
   "metadata": {},
   "source": [
    "### New - with 1 random seed"
   ]
  },
  {
   "cell_type": "code",
   "execution_count": 9,
   "id": "0a5c538c",
   "metadata": {},
   "outputs": [],
   "source": [
    "adata_alpha_1randseed = ad.read_h5ad(\"/home/ranwyl/data_tf_project/Aggregate_ALPHA_Core_Cells_1randseed.h5ad\")\n",
    "adata_beta_1randseed = ad.read_h5ad(\"/home/ranwyl/data_tf_project/Aggregate_BETA_Core_Cells_1randseed.h5ad\")\n",
    "adata_gamma_1randseed = ad.read_h5ad(\"/home/ranwyl/data_tf_project/Aggregate_GAMMA_Core_Cells_1randseed.h5ad\")"
   ]
  },
  {
   "cell_type": "code",
   "execution_count": 10,
   "id": "ad42d4c1",
   "metadata": {},
   "outputs": [],
   "source": [
    "adata_alpha_tf_ntc_1randseed = filter_tf_ko_and_ntc(adata_alpha_1randseed)\n",
    "adata_beta_tf_ntc_1randseed = filter_tf_ko_and_ntc(adata_beta_1randseed)\n",
    "adata_gamma_tf_ntc_1randseed = filter_tf_ko_and_ntc(adata_gamma_1randseed)"
   ]
  },
  {
   "cell_type": "code",
   "execution_count": 11,
   "id": "3ef60994",
   "metadata": {},
   "outputs": [
    {
     "data": {
      "text/plain": [
       "AnnData object with n_obs × n_vars = 64911 × 37567\n",
       "    obs: 'gRNA', 'n_gRNA', 'n_gRNA_UMIs', 'gene_target', 'celltype', 'perturbation_type', 'n_UMI_counts', 'n_genes', 'perturbed', 'channel', 'n_genes_by_counts', 'log1p_n_genes_by_counts', 'total_counts', 'log1p_total_counts', 'pct_counts_in_top_20_genes', 'total_counts_mt', 'log1p_total_counts_mt', 'pct_counts_mt', 'total_counts_ribo', 'log1p_total_counts_ribo', 'pct_counts_ribo', 'total_counts_hb', 'log1p_total_counts_hb', 'pct_counts_hb', 'outlier', 'run', 'gene_target_ensembl_id', 'gene_target_expression (CPM)', 'NTC_target_gene_expression (CPM)', 'target_knockdown', 'target_knockdown_z_score', 'ed_category', 'anomaly_score'\n",
       "    obsm: 'X_pca'\n",
       "    layers: 'counts', 'normalized_counts'"
      ]
     },
     "execution_count": 11,
     "metadata": {},
     "output_type": "execute_result"
    }
   ],
   "source": [
    "adata_full_tf_ntc_1randseed = ad.concat([adata_alpha_tf_ntc_1randseed, \n",
    "                                         adata_beta_tf_ntc_1randseed, \n",
    "                                         adata_gamma_tf_ntc_1randseed])\n",
    "adata_full_tf_ntc_1randseed"
   ]
  },
  {
   "cell_type": "code",
   "execution_count": 13,
   "id": "dcac7db2",
   "metadata": {},
   "outputs": [
    {
     "data": {
      "text/plain": [
       "perturbed\n",
       "False    35229\n",
       "True     29682\n",
       "Name: count, dtype: int64"
      ]
     },
     "execution_count": 13,
     "metadata": {},
     "output_type": "execute_result"
    }
   ],
   "source": [
    "adata_full_tf_ntc_1randseed.obs[\"perturbed\"].value_counts()"
   ]
  },
  {
   "cell_type": "code",
   "execution_count": 14,
   "id": "7ad00523",
   "metadata": {},
   "outputs": [
    {
     "name": "stdout",
     "output_type": "stream",
     "text": [
      "['ZNF446', 'OSR2', 'MESP2', 'BHLHA9', 'ZNF142']\n",
      "624\n"
     ]
    }
   ],
   "source": [
    "tf_kos_alpha_1randseed = adata_full_tf_ntc_1randseed[adata_full_tf_ntc_1randseed.obs[\"run\"] == \"ALPHA\"].obs[\"gene_target\"].unique().tolist()\n",
    "tf_kos_alpha_1randseed.remove(\"NTC\")\n",
    "print(tf_kos_alpha_1randseed[:5])\n",
    "print(len(tf_kos_alpha_1randseed))"
   ]
  },
  {
   "cell_type": "code",
   "execution_count": 15,
   "id": "a8a3b7b8",
   "metadata": {},
   "outputs": [
    {
     "name": "stdout",
     "output_type": "stream",
     "text": [
      "['ZBED5', 'RBCK1', 'DZIP1', 'ZBED6']\n",
      "4\n"
     ]
    }
   ],
   "source": [
    "tf_kos_beta_1randseed = adata_full_tf_ntc_1randseed[adata_full_tf_ntc_1randseed.obs[\"run\"] == \"BETA\"].obs[\"gene_target\"].unique().tolist()\n",
    "tf_kos_beta_1randseed.remove(\"NTC\")\n",
    "print(tf_kos_beta_1randseed[:5])\n",
    "print(len(tf_kos_beta_1randseed))"
   ]
  },
  {
   "cell_type": "code",
   "execution_count": 16,
   "id": "7bffb685",
   "metadata": {},
   "outputs": [
    {
     "name": "stdout",
     "output_type": "stream",
     "text": [
      "['THYN1']\n",
      "1\n"
     ]
    }
   ],
   "source": [
    "tf_kos_gamma_1randseed = adata_full_tf_ntc_1randseed[adata_full_tf_ntc_1randseed.obs[\"run\"] == \"GAMMA\"].obs[\"gene_target\"].unique().tolist()\n",
    "tf_kos_gamma_1randseed.remove(\"NTC\")\n",
    "print(tf_kos_gamma_1randseed[:5])\n",
    "print(len(tf_kos_gamma_1randseed))"
   ]
  },
  {
   "cell_type": "code",
   "execution_count": 12,
   "id": "7c64f91a",
   "metadata": {},
   "outputs": [
    {
     "name": "stdout",
     "output_type": "stream",
     "text": [
      "['ZNF446', 'OSR2', 'MESP2', 'BHLHA9', 'ZNF142']\n",
      "629\n"
     ]
    }
   ],
   "source": [
    "tf_kos_629 = adata_full_tf_ntc_1randseed.obs[\"gene_target\"].unique().tolist()\n",
    "tf_kos_629.remove(\"NTC\")\n",
    "print(tf_kos_629[:5])\n",
    "print(len(tf_kos_629))"
   ]
  },
  {
   "cell_type": "markdown",
   "id": "bcc1dc87",
   "metadata": {},
   "source": [
    "### Comparison between old and new with 1 random seed"
   ]
  },
  {
   "cell_type": "code",
   "execution_count": 13,
   "id": "dda0cc51",
   "metadata": {},
   "outputs": [
    {
     "name": "stdout",
     "output_type": "stream",
     "text": [
      "TF KOs in old (652) set that are not in new (w/ global random seed) set: 255\n",
      "{'ZNF443', 'ONECUT3', 'ZNF764', 'SRF', 'ZNF510', 'SRY', 'ZSCAN26', 'NFKB1', 'ZNF786', 'AHR', 'GATA4', 'ZNF701', 'HHEX', 'SP1', 'ZNF573', 'PPARD', 'ZNF112', 'CENPS', 'ZNF891', 'LIN28B', 'ZNF143', 'THAP10', 'DLX6', 'NFIB', 'CDX1', 'IRX5', 'RARG', 'ZMAT1', 'RHOXF2', 'CENPX', 'ZBTB14', 'PRDM16', 'NFE2L1', 'ARID3A', 'TIGD4', 'NOTO', 'ZNF334', 'ZNF672', 'ZNF551', 'BSX', 'PAX9', 'SHOX2', 'ZNF518B', 'SATB1', 'ZNF816', 'ERF', 'ZNF487', 'MEOX2', 'ZNF610', 'ZNF287', 'ZNF564', 'TBPL2', 'ETV3L', 'YY2', 'ZNF155', 'MEOX1', 'TCF3', 'ISL1', 'SOX1', 'PCGF6', 'ETS2', 'TBX22', 'NFX1', 'USF2', 'CC2D1A', 'CREB5', 'GATA2', 'HES7', 'ZNF165', 'ZNF461', 'ZNF629', 'MSX1', 'L3MBTL4', 'STAT6', 'SPDEF', 'ZNF541', 'ZNF571', 'RAX', 'ZNF316', 'NEUROD2', 'MEIS3', 'FOXK2', 'NR0B1', 'HIVEP2', 'TERF1', 'PBX1', 'ZNF326', 'ZNF783', 'MTERF4', 'TFAP2A', 'AKAP8L', 'ZNF589', 'ASCL1', 'MECOM', 'ZNF416', 'PREB', 'IRF4', 'ZEB1', 'ZNF566', 'CEBPB', 'ELK1', 'ZNF592', 'ZNF518A', 'ZSCAN2', 'ZNF540', 'ETV1', 'ZNF684', 'RFX7', 'TFEC', 'PIN1', 'ZNF781', 'TSC22D1', 'SP140L', 'ZNF253', 'CCDC17', 'ZMAT4', 'BHLHE41', 'ZNF674', 'EMX1', 'ZNF850', 'MITF', 'ONECUT2', 'ZNF705A', 'BAZ2A', 'POU4F3', 'ZFP30', 'REPIN1', 'ZNF706', 'MKX', 'SOX30', 'IRX4', 'ZNF709', 'PAX6', 'HIC1', 'EHF', 'ZNF728', 'SCX', 'ZNF486', 'ZFP41', 'ZNF552', 'GATA3', 'ZNF736', 'HSF2', 'ZNF507', 'MSX2', 'ZNF852', 'DLX2', 'ZNF98', 'TCF12', 'GTF2I', 'ZNF511', 'ASH1L', 'FIGLA', 'NCOA3', 'ZNF124', 'ZNF358', 'ZNF438', 'ZNF556', 'BACH2', 'NR2F2', 'ZSCAN30', 'MNX1', 'ZNF653', 'ZNF83', 'RFX2', 'ZNF582', 'SNAPC5', 'ZNF213', 'SIX2', 'ZNF735', 'TAL2', 'TBX15', 'ZBTB39', 'ZFHX2', 'GSC', 'ZFP2', 'RFX8', 'ZNF311', 'POGK', 'ZFP42', 'TWIST2', 'ZBTB43', 'DEAF1', 'RORC', 'CBX2', 'FOXD3', 'ZNF212', 'ZBED1', 'ZNF268', 'ZNF442', 'ZBTB34', 'FAM200B', 'MSANTD4', 'ATOH1', 'MXI1', 'IKZF5', 'RXRA', 'ESRRB', 'ASCL5', 'HSF4', 'ZNF669', 'BARHL1', 'IRF8', 'ZNF107', 'ZNF284', 'PBX3', 'MSGN1', 'EBF3', 'ZNF844', 'ZNF80', 'ESR2', 'NME2', 'POU3F4', 'ZNF692', 'SP8', 'BCL6B', 'SPIB', 'ZNF445', 'ZNF572', 'ZNF91', 'CRX', 'ZNF667', 'CREBL2', 'ZNF398', 'NR4A3', 'SOX13', 'PRDM13', 'PITX1', 'FOSB', 'CREB3L4', 'TIGD2', 'TSHZ3', 'ZNF597', 'ZFP69', 'ZNF791', 'HOXD13', 'ZNF607', 'AKAP8', 'ZNF687', 'ZNF44', 'ZNF367', 'ZNF713', 'GLI1', 'ZKSCAN7', 'ZNF835', 'ZHX3', 'NFIL3', 'TET2', 'ZNF583', 'ZSCAN18', 'FOXK1', 'IRF6', 'MYF6', 'ZNF549', 'ZNF76'}\n",
      "TF KOs in new (660) set that are not in new (w/ global random seed) set: 232\n",
      "{'ZNF585B', 'ZNF70', 'MYBL1', 'DZIP1', 'FOXA2', 'LHX6', 'ZNF71', 'ZBTB24', 'ZNF362', 'NCOA1', 'FOXE1', 'ZNF397', 'FOXG1', 'ZNF609', 'ZNF184', 'ZNF248', 'MYNN', 'NFIX', 'VENTX', 'ZSCAN5B', 'MBD4', 'NFATC1', 'ZNF526', 'ZNF865', 'HESX1', 'ZNF562', 'ZNF711', 'HES1', 'ZNF404', 'STAT5B', 'TET3', 'ZNF600', 'ZNF624', 'VSX1', 'ZKSCAN8', 'ZNF765', 'ZNF696', 'ZFP62', 'AKNA', 'ZNF699', 'ZNF69', 'PAX5', 'ZBTB37', 'BPTF', 'ZNF250', 'NPAS3', 'ZNF649', 'ZNF586', 'ZNF740', 'ZFHX4', 'CASZ1', 'INSM1', 'TIGD3', 'ZNF525', 'ZNF774', 'HAND2', 'ZNF829', 'ZNF776', 'OVOL3', 'NFAT5', 'ZNF225', 'SNAI3', 'ZNF283', 'SCRT1', 'ZNF224', 'VEZF1', 'ZXDB', 'ZBTB17', 'ZBTB49', 'ZFX', 'ZNF717', 'ZNF473', 'MBD3', 'THAP2', 'ZNF92', 'ZNF836', 'ZNF391', 'ZNF211', 'CSRNP1', 'ZNF488', 'LHX2', 'ZNF799', 'PROP1', 'RFX5', 'ZFP92', 'SP100', 'ZBTB45', 'WT1', 'CUX2', 'ZNF2', 'RFX6', 'DLX3', 'SOX21', 'ZNF154', 'ZFP57', 'SKOR1', 'THAP9', 'TPRX1', 'ZNF695', 'ZNF81', 'ZNF613', 'ZNF273', 'RREB1', 'ZFY', 'ATOH8', 'CREBZF', 'ZNF84', 'ZNF503', 'NKX1-2', 'ZIC3', 'TBX3', 'OLIG1', 'ZNF534', 'BNC1', 'NPAS2', 'ZNF221', 'ZNF595', 'ZNF33B', 'ZNF677', 'ZGLP1', 'ZNF530', 'ZNF506', 'ZNF460', 'NFE2L2', 'ZNF883', 'CREB3L1', 'L3MBTL3', 'WIZ', 'ZNF841', 'THYN1', 'ZNF626', 'HLX', 'SP6', 'ZNF160', 'POU2F3', 'KLF12', 'ZNF223', 'SOX7', 'ZNF365', 'SMAD5', 'RUNX1', 'NOBOX', 'IKZF2', 'POU3F1', 'ZBED3', 'ZNF121', 'NACC2', 'KLF2', 'ZNF565', 'CSRNP3', 'SIX3', 'YBX2', 'ZKSCAN2', 'ZNF766', 'FOXC2', 'HIVEP3', 'ZNF318', 'ZNF7', 'ZNF662', 'SIX1', 'E2F8', 'PAX4', 'PROX1', 'ZNF34', 'ZNF142', 'ZSCAN9', 'LBX2', 'NR2E3', 'SPI1', 'ZNF623', 'ZNF579', 'ZNF274', 'RXRG', 'TBX19', 'ZBED5', 'ZNF101', 'NKX2-6', 'ZBTB16', 'HSF1', 'ZNF230', 'HMG20B', 'ZNF317', 'SALL1', 'GSC2', 'KLF17', 'ZNF175', 'ALX1', 'ZNF598', 'ZNF746', 'ZNF286A', 'PRRX2', 'ZNF768', 'ZNF585A', 'NEUROD1', 'ZBTB18', 'ZFP82', 'ETV4', 'MXD3', 'PLAG1', 'ZNF232', 'TERB1', 'ZNF536', 'ZBTB4', 'NFATC3', 'ZNF584', 'TCF4', 'GLIS1', 'ZNF804B', 'GLI4', 'PAX8', 'GPBP1L1', 'ZNF343', 'PRDM5', 'ZNF483', 'FOXL1', 'ZNF668', 'EGR2', 'ZNF77', 'ZNF41', 'PRDM9', 'ZNF14', 'ETV3', 'NFATC2', 'ZNF484', 'ZNF528', 'PURA', 'HEYL', 'CENPT', 'ZNF280B', 'ZNF439', 'KLF13', 'ZNF214'}\n"
     ]
    }
   ],
   "source": [
    "tf_kos_652_set = set(tf_kos_652)\n",
    "tf_kos_629_set = set(tf_kos_629)\n",
    "print(f\"TF KOs in old (652) set that are not in new (w/ global random seed) set: {len(tf_kos_652_set - tf_kos_629_set)}\")\n",
    "print(tf_kos_652_set - tf_kos_629_set)\n",
    "\n",
    "print(f\"TF KOs in new (660) set that are not in new (w/ global random seed) set: {len(tf_kos_629_set - tf_kos_652_set)}\")\n",
    "print(tf_kos_629_set - tf_kos_652_set)"
   ]
  },
  {
   "cell_type": "code",
   "execution_count": 15,
   "id": "e9c9316b",
   "metadata": {},
   "outputs": [],
   "source": [
    "def plot_venn(set1, set2, label1, label2, title=None, color1=\"red\", color2=\"green\"):\n",
    "    plt.rcParams['font.size'] = 16\n",
    "    n_items1, n_items2 = len(set1), len(set2)\n",
    "    n_shared = len([g for g in set2 if g in set1])\n",
    "    left = n_items1 - n_shared\n",
    "    right = n_items2 - n_shared\n",
    "    venn2(subsets = (left, right, n_shared), \n",
    "        set_labels = (label1, label2),\n",
    "        set_colors = (color1, color2),\n",
    "        alpha=0.4)\n",
    "    if title:\n",
    "        plt.title(title, fontsize=18)\n",
    "    plt.show()"
   ]
  },
  {
   "cell_type": "code",
   "execution_count": 16,
   "id": "c6eb501a",
   "metadata": {},
   "outputs": [
    {
     "data": {
      "image/png": "[encoded data removed]",
      "text/plain": [
       "<Figure size 640x480 with 1 Axes>"
      ]
     },
     "metadata": {},
     "output_type": "display_data"
    }
   ],
   "source": [
    "plot_venn(tf_kos_652_set, tf_kos_629_set, \"(Old) 652 TF KOs\", \"(New) 629 TF KOs\", \n",
    "          title=\"Shared TF KOs between old and new \\n(global random seed) analysis\", color2=\"blue\")"
   ]
  },
  {
   "cell_type": "markdown",
   "id": "680d2cdd",
   "metadata": {},
   "source": [
    "### Comparison between new (multiple random seeds) and new (one random seed)"
   ]
  },
  {
   "cell_type": "code",
   "execution_count": 20,
   "id": "99fcef2f",
   "metadata": {},
   "outputs": [
    {
     "name": "stdout",
     "output_type": "stream",
     "text": [
      "TF KOs in RNG modified (660) set that are not in global seed (629) set: 279\n",
      "{'ZNF443', 'SOX3', 'ZNF764', 'SRF', 'SRY', 'NFE4', 'ZNF786', 'LHX1', 'ZNF148', 'ZNF428', 'IRF7', 'HHEX', 'PPARD', 'ZNF573', 'CARF', 'SGSM2', 'ZNF557', 'UNCX', 'TRAFD1', 'PRDM1', 'HIC2', 'ZFP64', 'THAP10', 'NFIB', 'ZXDC', 'TCF20', 'CDX1', 'ZNF322', 'ZFP28', 'HES5', 'RARG', 'STAT3', 'ZNF157', 'ZNF197', 'CENPX', 'ZBTB14', 'ZNF440', 'ZNF785', 'ZSCAN1', 'ZNF724', 'NFE2L1', 'ZNF260', 'ARID3A', 'ZBTB7C', 'ZSCAN10', 'ZNF761', 'ZSCAN21', 'ZNF264', 'NOTO', 'ZBTB44', 'BARHL2', 'TIGD4', 'ZNF672', 'ZNF551', 'BSX', 'PAX9', 'SHOX2', 'KLF9', 'ZNF816', 'ZNF354C', 'PAX3', 'ZNF287', 'ZSCAN20', 'ZNF79', 'ETV3L', 'TEAD1', 'ZNF652', 'MEOX1', 'HNF4A', 'ISL1', 'ZNF99', 'TCF3', 'ZNF431', 'ZNF35', 'PCGF6', 'ETS2', 'TBX22', 'FOXA3', 'CEBPG', 'MIXL1', 'CC2D1A', 'USF2', 'MAZ', 'HES7', 'ZNF461', 'ST18', 'ZNF132', 'ZNF629', 'NKX3-1', 'STAT6', 'ZNF655', 'ZNF177', 'LHX8', 'ZNF541', 'CREB3L2', 'ZNF316', 'ZNF831', 'MYF5', 'MEIS3', 'ELF4', 'NR0B1', 'FOXK2', 'LYL1', 'TERF1', 'ZNF561', 'ZNF326', 'ZNF783', 'ELF5', 'PLAGL2', 'TFAP2A', 'ZNF589', 'ASCL1', 'GLMP', 'THAP1', 'SOX15', 'ATF4', 'ZNF263', 'ZNF37A', 'ZNF784', 'IRF4', 'CREB3', 'ZNF18', 'ZEB1', 'ZNF566', 'TGIF2', 'ZNF140', 'MYOG', 'KLF11', 'ZNF718', 'ETV1', 'NFIA', 'NKRF', 'ZNF684', 'RFX7', 'GFI1B', 'GFI1', 'ZBTB48', 'NHLH2', 'TSC22D1', 'SP140L', 'ZNF253', 'ZNF674', 'ZNF385B', 'TRERF1', 'EMX1', 'FLI1', 'MITF', 'ZNF879', 'ONECUT2', 'EOMES', 'EBF4', 'REPIN1', 'IRX4', 'HIC1', 'ZNF728', 'ZNF789', 'IRF2', 'ZNF682', 'ZNF496', 'PRDM6', 'SCX', 'THAP4', 'ARGFX', 'ZFP41', 'ZNF736', 'ZNF527', 'MSX2', 'ZNF852', 'GLYR1', 'ZNF98', 'ZNF688', 'ZBTB20', 'GRHL1', 'ZNF319', 'ZNF358', 'ZNF438', 'ZNF556', 'BACH2', 'ZNF26', 'ETV6', 'MNX1', 'ZNF33A', 'ZNF570', 'ZSCAN22', 'ZNF189', 'SPEN', 'RFX2', 'SNAPC5', 'ZNF213', 'DMRTA1', 'SIX2', 'ZNF735', 'TLX2', 'TBX15', 'HSF5', 'ZNF641', 'SOHLH1', 'ATF1', 'ZFHX2', 'GSC', 'NKX2-8', 'ZFP2', 'GCM2', 'FOXL2', 'ZNF813', 'POGK', 'FOXP3', 'DEAF1', 'DPF3', 'ZIC4', 'ZNF235', 'FOXD3', 'HOXD1', 'ZNF493', 'ETV7', 'SOX17', 'ZNF430', 'ZBTB34', 'FAM200B', 'ZNF202', 'ELK4', 'RXRA', 'ESRRB', 'HSF4', 'ZKSCAN5', 'BARHL1', 'ZNF107', 'ZNF543', 'ZNF497', 'POU2AF1', 'ZNF844', 'ZNF80', 'ESR2', 'ZNF19', 'SP8', 'SPIB', 'ZNF572', 'NR5A1', 'KLF7', 'MEF2A', 'BBX', 'MECP2', 'ZNF667', 'GTF2IRD2', 'KLF8', 'MEF2D', 'ZNF763', 'ZNF329', 'SOX13', 'ZNF10', 'PRDM13', 'ZBTB40', 'FBXL19', 'TIGD2', 'ZBTB7B', 'SPIC', 'ZNF791', 'HOXD13', 'ZNF347', 'AKAP8', 'MLXIPL', 'ZNF687', 'ZNF304', 'ZNF644', 'ZNF367', 'ZNF713', 'ZKSCAN7', 'GLI1', 'ZNF835', 'ZHX3', 'PLAGL1', 'NFIL3', 'IRF6', 'ZSCAN18', 'ZNF513', 'XBP1', 'ZNF780B', 'ZNF415', 'ZNF445'}\n",
      "TF KOs in global seed (629) set that are not in RNG modified (660) set: 248\n",
      "{'ZKSCAN3', 'ZNF70', 'TSHZ1', 'DZIP1', 'ZNF81', 'ZNF469', 'TP73', 'FOXA1', 'ZNF860', 'ZNF71', 'ZNF181', 'ZNF471', 'ZNF362', 'MTF2', 'ZNF609', 'ZGPAT', 'NFIX', 'ETV5', 'VENTX', 'ZNF775', 'AEBP1', 'MBD4', 'NFATC1', 'ZNF526', 'HESX1', 'ZNF404', 'ZNF408', 'HEY1', 'HES1', 'NR1H4', 'STAT5B', 'TET3', 'NKX6-3', 'NKX6-1', 'ZNF765', 'NFIC', 'ZNF134', 'FOXM1', 'ZNF696', 'TCF7L2', 'AKNA', 'ZNF699', 'ZBTB37', 'BPTF', 'ZNF250', 'OSR2', 'NPAS3', 'ZNF649', 'CSRNP2', 'CASZ1', 'INSM1', 'ZNF525', 'ZNF774', 'ZNF823', 'BHLHE22', 'ZNF17', 'ESRRA', 'LMX1B', 'OVOL3', 'CENPB', 'GLIS3', 'GATA1', 'SNAI3', 'SCRT1', 'FOXS1', 'HMX2', 'SP110', 'IRF9', 'ZNF174', 'ZNF226', 'JRKL', 'ZBTB17', 'ZBTB49', 'ZFX', 'ZNF473', 'RBPJL', 'THRB', 'ZNF391', 'NHLH1', 'ZNF491', 'ZNF704', 'ZNF211', 'FOXQ1', 'TBX20', 'CSRNP1', 'LHX2', 'ZNF799', 'PROP1', 'RFX5', 'TBX10', 'LHX9', 'ZBTB45', 'CUX2', 'RFX6', 'ZNF2', 'ZNF154', 'ZNF772', 'ZFP57', 'ZBED4', 'ZNF560', 'MXD1', 'TPRX1', 'KLF6', 'ZNF695', 'RUNX3', 'NKX6-2', 'BHLHA15', 'THAP9', 'TFE3', 'ZNF30', 'ZBTB6', 'ZNF613', 'RREB1', 'ATOH8', 'ZNF503', 'TBX3', 'OLIG1', 'HDX', 'TCF7', 'ZNF595', 'DMRTA2', 'ZGLP1', 'THRA', 'ZNF780A', 'JAZF1', 'ZNF420', 'HES4', 'ZNF506', 'ZNF460', 'ASCL2', 'ASCL3', 'TBX18', 'CREB3L1', 'THAP7', 'ZNF501', 'L3MBTL3', 'WIZ', 'TIGD6', 'BHLHA9', 'PCGF2', 'MEIS1', 'ZNF658', 'ZNF726', 'POU2F3', 'ZNF223', 'SOX7', 'ZNF365', 'ZNF280D', 'HNF4G', 'FOXN4', 'PA2G4', 'SMAD5', 'IKZF2', 'ZNF747', 'ZNF121', 'CSRNP3', 'SIX3', 'PLSCR1', 'ZKSCAN2', 'HMGN3', 'CTCFL', 'TET1', 'ZNF766', 'SLC2A4RG', 'FOXC2', 'RLF', 'ZSCAN25', 'ZNF512', 'ZNF318', 'ZNF7', 'ZNF662', 'E2F8', 'PHF21A', 'ZNF671', 'GRHL3', 'NEUROG2', 'MTERF3', 'ZNF34', 'SMAD9', 'ZSCAN9', 'SNAI2', 'ZNF519', 'LBX2', 'ZNF579', 'ZNF274', 'KCNIP3', 'ZBED5', 'ZBTB16', 'BHLHE40', 'ZNF230', 'HMG20B', 'ZNF32', 'HOXA7', 'ZNF75D', 'GSC2', 'ZNF175', 'FOXN2', 'ZFP90', 'MYPOP', 'ZNF286A', 'TBX21', 'PRRX2', 'FOSL2', 'ZNF768', 'NEUROD1', 'ZBTB18', 'MXD3', 'PLAG1', 'ZNF66', 'ZNF621', 'ZNF490', 'GMEB2', 'ATF6B', 'ZNF232', 'ZNF536', 'ZBTB4', 'ZNF691', 'NFATC3', 'DMRTB1', 'DMRTC2', 'ZNF639', 'LTF', 'GPBP1', 'RBCK1', 'ZNF614', 'DUXA', 'ZNF343', 'PRDM5', 'TFEB', 'ZNF345', 'FOXL1', 'CEBPD', 'ZNF668', 'EGR2', 'ZNF77', 'PRDM9', 'CEBPA', 'ETV3', 'NFATC2', 'GRHL2', 'ZNF528', 'PURA', 'FOXO1', 'CENPT', 'ZNF439', 'KLF13', 'ZNF446', 'ZNF214'}\n"
     ]
    }
   ],
   "source": [
    "print(f\"TF KOs in RNG modified (660) set that are not in global seed (629) set: {len(tf_kos_660_set - tf_kos_629_set)}\")\n",
    "print(tf_kos_660_set - tf_kos_629_set)\n",
    "\n",
    "print(f\"TF KOs in global seed (629) set that are not in RNG modified (660) set: {len(tf_kos_629_set - tf_kos_660_set)}\")\n",
    "print(tf_kos_629_set - tf_kos_660_set)"
   ]
  },
  {
   "cell_type": "code",
   "execution_count": 31,
   "id": "b134c845",
   "metadata": {},
   "outputs": [
    {
     "name": "stdout",
     "output_type": "stream",
     "text": [
      "1639\n"
     ]
    }
   ],
   "source": [
    "print(len(tfs))"
   ]
  },
  {
   "cell_type": "code",
   "execution_count": null,
   "id": "eaba92dd",
   "metadata": {},
   "outputs": [],
   "source": [
    "def plot_venn(set1, set2, label1, label2, title=None, color1=\"red\", color2=\"green\"):\n",
    "    plt.rcParams['font.size'] = 16\n",
    "    n_items1, n_items2 = len(set1), len(set2)\n",
    "    n_shared = len([g for g in set2 if g in set1])\n",
    "    left = n_items1 - n_shared\n",
    "    right = n_items2 - n_shared\n",
    "    venn2(subsets = (left, right, n_shared), \n",
    "        set_labels = (label1, label2),\n",
    "        set_colors = (color1, color2),\n",
    "        alpha=0.4)\n",
    "    if title:\n",
    "        plt.title(title, fontsize=18)\n",
    "    plt.show()"
   ]
  },
  {
   "cell_type": "code",
   "execution_count": 21,
   "id": "e38bb95d",
   "metadata": {},
   "outputs": [
    {
     "data": {
      "image/png": "[encoded data removed]",
      "text/plain": [
       "<Figure size 640x480 with 1 Axes>"
      ]
     },
     "metadata": {},
     "output_type": "display_data"
    }
   ],
   "source": [
    "plot_venn(tf_kos_660_set, tf_kos_629_set, \"(Modified functions)\\n660 TF KOs\", \"(Global random seed)\\n629 TF KOs\", \n",
    "          title=\"Shared TF KOs between RNG-modified functions \\n dataset and global random seed dataset\", \n",
    "          color1=\"green\", color2=\"blue\")"
   ]
  },
  {
   "cell_type": "markdown",
   "id": "d9ad377a",
   "metadata": {},
   "source": [
    "### Comparison of all 3"
   ]
  },
  {
   "cell_type": "code",
   "execution_count": 22,
   "id": "02fbfd59",
   "metadata": {},
   "outputs": [
    {
     "name": "stdout",
     "output_type": "stream",
     "text": [
      "267\n"
     ]
    }
   ],
   "source": [
    "tf_kos_shared_all = tf_kos_652_set & tf_kos_660_set & tf_kos_629_set\n",
    "print(len(tf_kos_shared_all))"
   ]
  },
  {
   "cell_type": "markdown",
   "id": "e8184e92",
   "metadata": {},
   "source": [
    "### Comparison to \"strong\" TF KOs in old dataset"
   ]
  },
  {
   "cell_type": "markdown",
   "id": "8e588949",
   "metadata": {},
   "source": [
    "Strong KO = results in >= 10 DEGs"
   ]
  },
  {
   "cell_type": "code",
   "execution_count": 26,
   "id": "6acca129",
   "metadata": {},
   "outputs": [
    {
     "data": {
      "text/html": [
       "<div>\n",
       "<style scoped>\n",
       "    .dataframe tbody tr th:only-of-type {\n",
       "        vertical-align: middle;\n",
       "    }\n",
       "\n",
       "    .dataframe tbody tr th {\n",
       "        vertical-align: top;\n",
       "    }\n",
       "\n",
       "    .dataframe thead th {\n",
       "        text-align: right;\n",
       "    }\n",
       "</style>\n",
       "<table border=\"1\" class=\"dataframe\">\n",
       "  <thead>\n",
       "    <tr style=\"text-align: right;\">\n",
       "      <th></th>\n",
       "      <th>DMRT2_baseMean</th>\n",
       "      <th>DMRT2_log2FoldChange</th>\n",
       "      <th>DMRT2_lfcSE</th>\n",
       "      <th>DMRT2_stat</th>\n",
       "      <th>DMRT2_pvalue</th>\n",
       "      <th>DMRT2_padj</th>\n",
       "      <th>OSR2_baseMean</th>\n",
       "      <th>OSR2_log2FoldChange</th>\n",
       "      <th>OSR2_lfcSE</th>\n",
       "      <th>OSR2_stat</th>\n",
       "      <th>...</th>\n",
       "      <th>ZBED6_lfcSE</th>\n",
       "      <th>ZBED6_stat</th>\n",
       "      <th>ZBED6_pvalue</th>\n",
       "      <th>ZBED6_padj</th>\n",
       "      <th>FAM200B_baseMean</th>\n",
       "      <th>FAM200B_log2FoldChange</th>\n",
       "      <th>FAM200B_lfcSE</th>\n",
       "      <th>FAM200B_stat</th>\n",
       "      <th>FAM200B_pvalue</th>\n",
       "      <th>FAM200B_padj</th>\n",
       "    </tr>\n",
       "  </thead>\n",
       "  <tbody>\n",
       "    <tr>\n",
       "      <th>A1BG</th>\n",
       "      <td>5.285500</td>\n",
       "      <td>0.609960</td>\n",
       "      <td>0.619478</td>\n",
       "      <td>1.250948</td>\n",
       "      <td>0.210953</td>\n",
       "      <td>NaN</td>\n",
       "      <td>3.123957</td>\n",
       "      <td>-0.372431</td>\n",
       "      <td>0.747259</td>\n",
       "      <td>-0.721735</td>\n",
       "      <td>...</td>\n",
       "      <td>0.991264</td>\n",
       "      <td>-0.500306</td>\n",
       "      <td>0.616860</td>\n",
       "      <td>NaN</td>\n",
       "      <td>2.614595</td>\n",
       "      <td>-0.388893</td>\n",
       "      <td>0.816637</td>\n",
       "      <td>-0.736728</td>\n",
       "      <td>0.461288</td>\n",
       "      <td>0.937480</td>\n",
       "    </tr>\n",
       "    <tr>\n",
       "      <th>A2ML1</th>\n",
       "      <td>2.606644</td>\n",
       "      <td>0.100952</td>\n",
       "      <td>0.769812</td>\n",
       "      <td>0.197628</td>\n",
       "      <td>0.843336</td>\n",
       "      <td>NaN</td>\n",
       "      <td>1.550960</td>\n",
       "      <td>-0.509398</td>\n",
       "      <td>0.982173</td>\n",
       "      <td>-0.941713</td>\n",
       "      <td>...</td>\n",
       "      <td>1.138998</td>\n",
       "      <td>-0.221171</td>\n",
       "      <td>0.824959</td>\n",
       "      <td>NaN</td>\n",
       "      <td>2.470636</td>\n",
       "      <td>-0.309124</td>\n",
       "      <td>0.809974</td>\n",
       "      <td>-0.593803</td>\n",
       "      <td>0.552644</td>\n",
       "      <td>0.950115</td>\n",
       "    </tr>\n",
       "    <tr>\n",
       "      <th>A2ML1-AS1</th>\n",
       "      <td>8.352237</td>\n",
       "      <td>0.077233</td>\n",
       "      <td>0.476058</td>\n",
       "      <td>0.189240</td>\n",
       "      <td>0.849904</td>\n",
       "      <td>NaN</td>\n",
       "      <td>4.474111</td>\n",
       "      <td>-0.086464</td>\n",
       "      <td>0.641921</td>\n",
       "      <td>-0.181294</td>\n",
       "      <td>...</td>\n",
       "      <td>0.902441</td>\n",
       "      <td>-1.561968</td>\n",
       "      <td>0.118296</td>\n",
       "      <td>NaN</td>\n",
       "      <td>11.032901</td>\n",
       "      <td>0.407476</td>\n",
       "      <td>0.450120</td>\n",
       "      <td>1.039717</td>\n",
       "      <td>0.298471</td>\n",
       "      <td>0.916599</td>\n",
       "    </tr>\n",
       "    <tr>\n",
       "      <th>AAAS</th>\n",
       "      <td>7.516582</td>\n",
       "      <td>0.150004</td>\n",
       "      <td>0.507604</td>\n",
       "      <td>0.353576</td>\n",
       "      <td>0.723657</td>\n",
       "      <td>NaN</td>\n",
       "      <td>6.140222</td>\n",
       "      <td>-0.182040</td>\n",
       "      <td>0.560998</td>\n",
       "      <td>-0.406698</td>\n",
       "      <td>...</td>\n",
       "      <td>0.736081</td>\n",
       "      <td>0.548093</td>\n",
       "      <td>0.583628</td>\n",
       "      <td>NaN</td>\n",
       "      <td>6.569917</td>\n",
       "      <td>-0.557903</td>\n",
       "      <td>0.565281</td>\n",
       "      <td>-1.206801</td>\n",
       "      <td>0.227509</td>\n",
       "      <td>0.894912</td>\n",
       "    </tr>\n",
       "    <tr>\n",
       "      <th>AACS</th>\n",
       "      <td>13.652746</td>\n",
       "      <td>-0.607225</td>\n",
       "      <td>0.388791</td>\n",
       "      <td>-1.720363</td>\n",
       "      <td>0.085366</td>\n",
       "      <td>NaN</td>\n",
       "      <td>11.690521</td>\n",
       "      <td>0.006217</td>\n",
       "      <td>0.417831</td>\n",
       "      <td>0.015168</td>\n",
       "      <td>...</td>\n",
       "      <td>0.694740</td>\n",
       "      <td>0.985767</td>\n",
       "      <td>0.324247</td>\n",
       "      <td>NaN</td>\n",
       "      <td>9.678652</td>\n",
       "      <td>-0.525741</td>\n",
       "      <td>0.473100</td>\n",
       "      <td>-1.283670</td>\n",
       "      <td>0.199258</td>\n",
       "      <td>0.893908</td>\n",
       "    </tr>\n",
       "  </tbody>\n",
       "</table>\n",
       "<p>5 rows × 3912 columns</p>\n",
       "</div>"
      ],
      "text/plain": [
       "           DMRT2_baseMean  DMRT2_log2FoldChange  DMRT2_lfcSE  DMRT2_stat  \\\n",
       "A1BG             5.285500              0.609960     0.619478    1.250948   \n",
       "A2ML1            2.606644              0.100952     0.769812    0.197628   \n",
       "A2ML1-AS1        8.352237              0.077233     0.476058    0.189240   \n",
       "AAAS             7.516582              0.150004     0.507604    0.353576   \n",
       "AACS            13.652746             -0.607225     0.388791   -1.720363   \n",
       "\n",
       "           DMRT2_pvalue  DMRT2_padj  OSR2_baseMean  OSR2_log2FoldChange  \\\n",
       "A1BG           0.210953         NaN       3.123957            -0.372431   \n",
       "A2ML1          0.843336         NaN       1.550960            -0.509398   \n",
       "A2ML1-AS1      0.849904         NaN       4.474111            -0.086464   \n",
       "AAAS           0.723657         NaN       6.140222            -0.182040   \n",
       "AACS           0.085366         NaN      11.690521             0.006217   \n",
       "\n",
       "           OSR2_lfcSE  OSR2_stat  ...  ZBED6_lfcSE  ZBED6_stat  ZBED6_pvalue  \\\n",
       "A1BG         0.747259  -0.721735  ...     0.991264   -0.500306      0.616860   \n",
       "A2ML1        0.982173  -0.941713  ...     1.138998   -0.221171      0.824959   \n",
       "A2ML1-AS1    0.641921  -0.181294  ...     0.902441   -1.561968      0.118296   \n",
       "AAAS         0.560998  -0.406698  ...     0.736081    0.548093      0.583628   \n",
       "AACS         0.417831   0.015168  ...     0.694740    0.985767      0.324247   \n",
       "\n",
       "           ZBED6_padj  FAM200B_baseMean  FAM200B_log2FoldChange  \\\n",
       "A1BG              NaN          2.614595               -0.388893   \n",
       "A2ML1             NaN          2.470636               -0.309124   \n",
       "A2ML1-AS1         NaN         11.032901                0.407476   \n",
       "AAAS              NaN          6.569917               -0.557903   \n",
       "AACS              NaN          9.678652               -0.525741   \n",
       "\n",
       "           FAM200B_lfcSE  FAM200B_stat  FAM200B_pvalue  FAM200B_padj  \n",
       "A1BG            0.816637     -0.736728        0.461288      0.937480  \n",
       "A2ML1           0.809974     -0.593803        0.552644      0.950115  \n",
       "A2ML1-AS1       0.450120      1.039717        0.298471      0.916599  \n",
       "AAAS            0.565281     -1.206801        0.227509      0.894912  \n",
       "AACS            0.473100     -1.283670        0.199258      0.893908  \n",
       "\n",
       "[5 rows x 3912 columns]"
      ]
     },
     "execution_count": 26,
     "metadata": {},
     "output_type": "execute_result"
    }
   ],
   "source": [
    "de_results_old = pd.read_pickle(\"/home/ranwyl/results_tf_project/TF_KO_NTC_DE_results.pkl\")\n",
    "de_results_old.head()"
   ]
  },
  {
   "cell_type": "code",
   "execution_count": 27,
   "id": "857e4c7d",
   "metadata": {},
   "outputs": [],
   "source": [
    "def tf_ko_strong_perturbations(de_df):\n",
    "    # Get list of TF KOs in DF\n",
    "    col_list = de_df.columns.tolist()\n",
    "    tf_kos = {col.split(\"_\")[0] for col in col_list}\n",
    "    tf_kos = list(tf_kos)\n",
    "    # Check for TF KOs with >= 10 DEGs\n",
    "    strong_perts = list()\n",
    "    for tf in tf_kos:\n",
    "        n_degs = len(de_df[de_df[f\"{tf}_padj\"] < 0.05])\n",
    "        if n_degs >= 10:\n",
    "            strong_perts.append(tf)\n",
    "    return strong_perts"
   ]
  },
  {
   "cell_type": "code",
   "execution_count": 28,
   "id": "f994336f",
   "metadata": {},
   "outputs": [
    {
     "name": "stdout",
     "output_type": "stream",
     "text": [
      "358\n"
     ]
    }
   ],
   "source": [
    "strong_tf_kos = tf_ko_strong_perturbations(de_results_old)\n",
    "print(len(strong_tf_kos))"
   ]
  },
  {
   "cell_type": "markdown",
   "id": "773c44cf",
   "metadata": {},
   "source": [
    "# Filtering lowly expressed genes"
   ]
  },
  {
   "cell_type": "markdown",
   "id": "cbd6f643",
   "metadata": {},
   "source": [
    "Filter TF KO and NTC cells"
   ]
  },
  {
   "cell_type": "code",
   "execution_count": 2,
   "id": "9362ecdd",
   "metadata": {},
   "outputs": [],
   "source": [
    "# List of 1639 TFs from Lambert et al (2018)\n",
    "lambert_csv = pd.read_csv(\"Lambert_2018_TFs.csv\")\n",
    "tfs = lambert_csv[lambert_csv.iloc[:,3] == \"Yes\"].iloc[:,1].tolist()\n",
    "tfs = set(tfs)\n",
    "\n",
    "def filter_tf_ko_and_ntc(adata):\n",
    "    \"\"\"\n",
    "    Filter for TF KO and NTC cells.\n",
    "    \"\"\"\n",
    "    return adata[(adata.obs[\"gene_target\"].isin(tfs)) | (adata.obs[\"gene_target\"] == \"NTC\")].copy()"
   ]
  },
  {
   "cell_type": "code",
   "execution_count": 3,
   "id": "d46eb505",
   "metadata": {},
   "outputs": [
    {
     "name": "stdout",
     "output_type": "stream",
     "text": [
      "Total cells per batch: ALPHA 81583, BETA 75646, GAMMA 47542\n"
     ]
    }
   ],
   "source": [
    "adata_alpha = ad.read_h5ad(\"/home/ranwyl/data_tf_project/Aggregate_ALPHA_Core_Cells.h5ad\")\n",
    "adata_beta = ad.read_h5ad(\"/home/ranwyl/data_tf_project/Aggregate_BETA_Core_Cells.h5ad\")\n",
    "adata_gamma = ad.read_h5ad(\"/home/ranwyl/data_tf_project/Aggregate_GAMMA_Core_Cells.h5ad\")\n",
    "print(f\"Total cells per batch: ALPHA {adata_alpha.shape[0]}, BETA {adata_beta.shape[0]}, GAMMA {adata_gamma.shape[0]}\")"
   ]
  },
  {
   "cell_type": "code",
   "execution_count": 4,
   "id": "880d3278",
   "metadata": {},
   "outputs": [
    {
     "name": "stdout",
     "output_type": "stream",
     "text": [
      "TF KO and NTC cells per batch: ALPHA 44248, BETA 12881, GAMMA 9310\n"
     ]
    }
   ],
   "source": [
    "adata_alpha_tf_ntc = filter_tf_ko_and_ntc(adata_alpha)\n",
    "adata_beta_tf_ntc = filter_tf_ko_and_ntc(adata_beta)\n",
    "adata_gamma_tf_ntc = filter_tf_ko_and_ntc(adata_gamma)\n",
    "print(f\"TF KO and NTC cells per batch: ALPHA {adata_alpha_tf_ntc.shape[0]}, \"\n",
    "      f\"BETA {adata_beta_tf_ntc.shape[0]}, GAMMA {adata_gamma_tf_ntc.shape[0]}\")"
   ]
  },
  {
   "cell_type": "markdown",
   "id": "bf244686",
   "metadata": {},
   "source": [
    "Concatenate all 3 batches into 1 dataset"
   ]
  },
  {
   "cell_type": "code",
   "execution_count": 5,
   "id": "213985fd",
   "metadata": {},
   "outputs": [
    {
     "data": {
      "text/plain": [
       "AnnData object with n_obs × n_vars = 66439 × 37567\n",
       "    obs: 'gRNA', 'n_gRNA', 'n_gRNA_UMIs', 'gene_target', 'celltype', 'perturbation_type', 'n_UMI_counts', 'n_genes', 'perturbed', 'channel', 'n_genes_by_counts', 'log1p_n_genes_by_counts', 'total_counts', 'log1p_total_counts', 'pct_counts_in_top_20_genes', 'total_counts_mt', 'log1p_total_counts_mt', 'pct_counts_mt', 'total_counts_ribo', 'log1p_total_counts_ribo', 'pct_counts_ribo', 'total_counts_hb', 'log1p_total_counts_hb', 'pct_counts_hb', 'outlier', 'run', 'gene_target_ensembl_id', 'gene_target_expression (CPM)', 'NTC_target_gene_expression (CPM)', 'target_knockdown', 'target_knockdown_z_score', 'ed_category', 'anomaly_score'\n",
       "    obsm: 'X_pca'\n",
       "    layers: 'counts', 'normalized_counts'"
      ]
     },
     "execution_count": 5,
     "metadata": {},
     "output_type": "execute_result"
    }
   ],
   "source": [
    "adata_tf_ntc = ad.concat([adata_alpha_tf_ntc, adata_beta_tf_ntc, adata_gamma_tf_ntc])\n",
    "adata_tf_ntc"
   ]
  },
  {
   "cell_type": "code",
   "execution_count": 6,
   "id": "7c8c2282",
   "metadata": {},
   "outputs": [
    {
     "data": {
      "text/plain": [
       "perturbed\n",
       "False    35229\n",
       "True     31210\n",
       "Name: count, dtype: int64"
      ]
     },
     "execution_count": 6,
     "metadata": {},
     "output_type": "execute_result"
    }
   ],
   "source": [
    "adata_tf_ntc.obs.perturbed.value_counts()"
   ]
  },
  {
   "cell_type": "markdown",
   "id": "4e0adf83",
   "metadata": {},
   "source": [
    "Filter lowly expressed genes"
   ]
  },
  {
   "cell_type": "code",
   "execution_count": null,
   "id": "091de211",
   "metadata": {},
   "outputs": [],
   "source": [
    "def filter_low_expressed_genes(adata, percent_threshold=None, min_n_cells=None):\n",
    "    \"\"\"\n",
    "    Filter out bottom percentile of genes with lowest expression (normalized and\n",
    "    log1p-transformed) and/or genes expressed in fewer than min_n_cells cells.\n",
    "    \"\"\"\n",
    "    n_genes_before = adata.shape[1]\n",
    "    # Create histogram layer, normalize, and log-transform\n",
    "    layer_to_copy = adata.layers[\"counts\"] if \"counts\" in adata.layers else adata.X\n",
    "    adata.layers[\"histogram\"] = layer_to_copy.copy()\n",
    "    sc.pp.normalize_total(adata, layer=\"histogram\")\n",
    "    sc.pp.log1p(adata, layer=\"histogram\")\n",
    "    data_matrix = adata.layers[\"histogram\"]\n",
    "\n",
    "    # Convert from sparse to dense if necessary\n",
    "    if hasattr(data_matrix, 'toarray'):\n",
    "        data_matrix = data_matrix.toarray()\n",
    "    \n",
    "    # Filter genes expressed in fewer than min_n_cells cells\n",
    "    if min_n_cells:\n",
    "        gene_detected_counts = (data_matrix > 0).sum(axis=0)\n",
    "        genes_pass_cell_thr = gene_detected_counts >= min_n_cells\n",
    "        data_matrix = data_matrix[:, genes_pass_cell_thr].copy()\n",
    "        adata = adata[:,genes_pass_cell_thr].copy()\n",
    "\n",
    "    # Filter bottom percentile of genes by expression\n",
    "    if percent_threshold:\n",
    "        # Calculate mean expression of each gene\n",
    "        col_values = data_matrix.mean(axis=0)\n",
    "        # Set percent threshold and filter genes\n",
    "        threshold = np.percentile(col_values, percent_threshold)\n",
    "        genes_to_keep = col_values > threshold\n",
    "        adata = adata[:,genes_to_keep].copy()\n",
    "    \n",
    "    print(f\"Removed {n_genes_before - adata.shape[1]} genes\")\n",
    "    return adata\n",
    "\n",
    "def histogram_mean_norm_expression(adata, title=\"Histogram of Mean Gene Expression\", \n",
    "                              n_bins=75, ymax=None, show_labels=False):\n",
    "    plt.rcParams[\"font.size\"] = 14\n",
    "    # Use normalized, log1p-transformed expression\n",
    "    if \"histogram\" in adata.layers: # Holds norm + log1p expression values\n",
    "        data_matrix = adata.layers[\"histogram\"]\n",
    "    else:\n",
    "        layer_to_copy = adata.layers[\"counts\"] if \"counts\" in adata.layers else adata.X\n",
    "        adata.layers[\"histogram\"] = layer_to_copy.copy()\n",
    "        sc.pp.normalize_total(adata, layer=\"histogram\")\n",
    "        sc.pp.log1p(adata, layer=\"histogram\")\n",
    "        data_matrix = adata.layers[\"histogram\"]\n",
    "    # Convert from sparse to dense if necessary\n",
    "    if hasattr(data_matrix, 'toarray'):\n",
    "        data_matrix = data_matrix.toarray()\n",
    "    # Plot mean expression\n",
    "    mean_expr = data_matrix.mean(axis=0)\n",
    "    plt.figure(figsize=(8,4)) if show_labels else plt.figure(figsize=(6,4))\n",
    "    ax = sns.histplot(mean_expr, bins=n_bins, kde=False)\n",
    "    plt.xlabel(\"Mean expression per gene (norm & log1p)\")\n",
    "    plt.ylabel(\"Number of genes\")\n",
    "    plt.title(title, fontsize=15)\n",
    "    if ymax:\n",
    "        ax.set_ylim(0, ymax)\n",
    "    if show_labels:\n",
    "        ax.bar_label(ax.containers[0], rotation=90, padding=3, fontsize=10)\n",
    "    plt.tight_layout()\n",
    "    plt.show()\n",
    "\n",
    "def histogram_cells_expressing_gene(adata, title=\"Histogram of # Cells Expressing a Gene\", \n",
    "                                    n_bins=75, ymax=None, show_labels=False):\n",
    "    plt.rcParams[\"font.size\"] = 14\n",
    "    # Use raw counts\n",
    "    count_matrix = adata.X if \"counts\" not in adata.layers else adata.layers[\"counts\"]\n",
    "    # Convert from sparse to dense if necessary\n",
    "    if hasattr(count_matrix, 'toarray'):\n",
    "        count_matrix = count_matrix.toarray()\n",
    "    # Plot number of cells expressing each gene\n",
    "    gene_detected_counts = (count_matrix > 0).sum(axis=0)\n",
    "    plt.figure(figsize=(8,4)) if show_labels else plt.figure(figsize=(6,4))\n",
    "    ax = sns.histplot(gene_detected_counts, bins=n_bins, kde=False)\n",
    "    plt.xlabel(\"Number of cells in which gene is expressed\")\n",
    "    plt.ylabel(\"Number of genes\")\n",
    "    plt.title(title, fontsize=15)\n",
    "    if ymax:\n",
    "        ax.set_ylim(0, ymax)\n",
    "    if show_labels:\n",
    "        ax.bar_label(ax.containers[0], rotation=90, padding=3, fontsize=10)\n",
    "    plt.tight_layout()\n",
    "    plt.show()"
   ]
  },
  {
   "cell_type": "markdown",
   "id": "6215696b",
   "metadata": {},
   "source": [
    "Before filtering"
   ]
  },
  {
   "cell_type": "code",
   "execution_count": 8,
   "id": "f8b7ce3d",
   "metadata": {},
   "outputs": [
    {
     "name": "stdout",
     "output_type": "stream",
     "text": [
      "normalizing counts per cell\n",
      "    finished (0:00:00)\n",
      "Removed 0 genes\n"
     ]
    }
   ],
   "source": [
    "adata_tf_ntc_unfiltered = filter_low_expressed_genes(adata_tf_ntc, percent_threshold=0, min_n_cells=0)"
   ]
  },
  {
   "cell_type": "code",
   "execution_count": 9,
   "id": "fc953168",
   "metadata": {},
   "outputs": [
    {
     "data": {
      "image/png": "[encoded data removed]",
      "text/plain": [
       "<Figure size 600x400 with 1 Axes>"
      ]
     },
     "metadata": {},
     "output_type": "display_data"
    }
   ],
   "source": [
    "histogram_mean_norm_expression(adata_tf_ntc_unfiltered, title=\"Mean Gene Expression (Before Filtering)\")"
   ]
  },
  {
   "cell_type": "code",
   "execution_count": 10,
   "id": "7ed1db6e",
   "metadata": {},
   "outputs": [
    {
     "data": {
      "image/png": "[encoded data removed]",
      "text/plain": [
       "<Figure size 600x400 with 1 Axes>"
      ]
     },
     "metadata": {},
     "output_type": "display_data"
    }
   ],
   "source": [
    "histogram_cells_expressing_gene(adata_tf_ntc_unfiltered, title=\"Cells Expressing Each Gene (Before Filtering)\")"
   ]
  },
  {
   "cell_type": "markdown",
   "id": "c16975d8",
   "metadata": {},
   "source": [
    "After filtering"
   ]
  },
  {
   "cell_type": "code",
   "execution_count": 11,
   "id": "a0d69217",
   "metadata": {},
   "outputs": [
    {
     "name": "stdout",
     "output_type": "stream",
     "text": [
      "normalizing counts per cell\n",
      "    finished (0:00:00)\n",
      "WARNING: adata.X seems to be already log-transformed.\n",
      "Removed 22241 genes\n"
     ]
    }
   ],
   "source": [
    "adata_tf_ntc_30_100 = filter_low_expressed_genes(adata_tf_ntc, percent_threshold=30, min_n_cells=100)"
   ]
  },
  {
   "cell_type": "code",
   "execution_count": 12,
   "id": "1e0c2107",
   "metadata": {},
   "outputs": [
    {
     "data": {
      "text/plain": [
       "AnnData object with n_obs × n_vars = 66439 × 15326\n",
       "    obs: 'gRNA', 'n_gRNA', 'n_gRNA_UMIs', 'gene_target', 'celltype', 'perturbation_type', 'n_UMI_counts', 'n_genes', 'perturbed', 'channel', 'n_genes_by_counts', 'log1p_n_genes_by_counts', 'total_counts', 'log1p_total_counts', 'pct_counts_in_top_20_genes', 'total_counts_mt', 'log1p_total_counts_mt', 'pct_counts_mt', 'total_counts_ribo', 'log1p_total_counts_ribo', 'pct_counts_ribo', 'total_counts_hb', 'log1p_total_counts_hb', 'pct_counts_hb', 'outlier', 'run', 'gene_target_ensembl_id', 'gene_target_expression (CPM)', 'NTC_target_gene_expression (CPM)', 'target_knockdown', 'target_knockdown_z_score', 'ed_category', 'anomaly_score'\n",
       "    uns: 'log1p'\n",
       "    obsm: 'X_pca'\n",
       "    layers: 'counts', 'normalized_counts', 'histogram'"
      ]
     },
     "execution_count": 12,
     "metadata": {},
     "output_type": "execute_result"
    }
   ],
   "source": [
    "adata_tf_ntc_30_100"
   ]
  },
  {
   "cell_type": "code",
   "execution_count": 13,
   "id": "5cac43de",
   "metadata": {},
   "outputs": [
    {
     "data": {
      "image/png": "[encoded data removed]",
      "text/plain": [
       "<Figure size 600x400 with 1 Axes>"
      ]
     },
     "metadata": {},
     "output_type": "display_data"
    }
   ],
   "source": [
    "histogram_mean_norm_expression(adata_tf_ntc_30_100, title=\"Mean Gene Expression (After Filtering)\")"
   ]
  },
  {
   "cell_type": "code",
   "execution_count": 14,
   "id": "9f788e4e",
   "metadata": {},
   "outputs": [
    {
     "data": {
      "image/png": "[encoded data removed]",
      "text/plain": [
       "<Figure size 600x400 with 1 Axes>"
      ]
     },
     "metadata": {},
     "output_type": "display_data"
    }
   ],
   "source": [
    "histogram_cells_expressing_gene(adata_tf_ntc_30_100, title=\"Cells Expressing Each Gene (After Filtering)\")"
   ]
  },
  {
   "cell_type": "code",
   "execution_count": 15,
   "id": "ef96c5c0",
   "metadata": {},
   "outputs": [
    {
     "data": {
      "text/html": [
       "<div>\n",
       "<style scoped>\n",
       "    .dataframe tbody tr th:only-of-type {\n",
       "        vertical-align: middle;\n",
       "    }\n",
       "\n",
       "    .dataframe tbody tr th {\n",
       "        vertical-align: top;\n",
       "    }\n",
       "\n",
       "    .dataframe thead th {\n",
       "        text-align: right;\n",
       "    }\n",
       "</style>\n",
       "<table border=\"1\" class=\"dataframe\">\n",
       "  <thead>\n",
       "    <tr style=\"text-align: right;\">\n",
       "      <th></th>\n",
       "      <th>0</th>\n",
       "    </tr>\n",
       "  </thead>\n",
       "  <tbody>\n",
       "    <tr>\n",
       "      <th>0</th>\n",
       "      <td>ENSG00000241860</td>\n",
       "    </tr>\n",
       "    <tr>\n",
       "      <th>1</th>\n",
       "      <td>ENSG00000290385</td>\n",
       "    </tr>\n",
       "    <tr>\n",
       "      <th>2</th>\n",
       "      <td>ENSG00000291215</td>\n",
       "    </tr>\n",
       "    <tr>\n",
       "      <th>3</th>\n",
       "      <td>LINC01409</td>\n",
       "    </tr>\n",
       "    <tr>\n",
       "      <th>4</th>\n",
       "      <td>LINC00115</td>\n",
       "    </tr>\n",
       "  </tbody>\n",
       "</table>\n",
       "</div>"
      ],
      "text/plain": [
       "                 0\n",
       "0  ENSG00000241860\n",
       "1  ENSG00000290385\n",
       "2  ENSG00000291215\n",
       "3        LINC01409\n",
       "4        LINC00115"
      ]
     },
     "execution_count": 15,
     "metadata": {},
     "output_type": "execute_result"
    }
   ],
   "source": [
    "filtered_genes = pd.DataFrame(adata_tf_ntc_30_100.var.index)\n",
    "filtered_genes.head()"
   ]
  },
  {
   "cell_type": "code",
   "execution_count": 16,
   "id": "acfd1771",
   "metadata": {},
   "outputs": [],
   "source": [
    "filtered_genes.to_pickle(\"/home/ranwyl/data_tf_project/genes_filtered_30pct_100cells.pkl\")"
   ]
  },
  {
   "cell_type": "markdown",
   "id": "55d47009",
   "metadata": {},
   "source": [
    "# Step G: Differential expression analysis - partitioning method"
   ]
  },
  {
   "cell_type": "markdown",
   "id": "123a3b9c",
   "metadata": {},
   "source": [
    "We will carry out differential expression analysis with PyDESeq2 using a pseudobulk method. The cells for each KO are partitioned evenly into 2 pseudoreplicates and compared to an equal number of NTC cells."
   ]
  },
  {
   "cell_type": "code",
   "execution_count": 2,
   "id": "848c4040",
   "metadata": {},
   "outputs": [],
   "source": [
    "# List of 1639 TFs from Lambert et al (2018)\n",
    "lambert_csv = pd.read_csv(\"Lambert_2018_TFs.csv\")\n",
    "tfs = lambert_csv[lambert_csv.iloc[:,3] == \"Yes\"].iloc[:,1].tolist()\n",
    "tfs = set(tfs)\n",
    "\n",
    "# Genes that passed filtering out lowly expressed genes\n",
    "genes_to_keep = pd.read_pickle(\"/home/ranwyl/data_tf_project/genes_filtered_30pct_100cells.pkl\")\n",
    "genes_to_keep = genes_to_keep[0].tolist()"
   ]
  },
  {
   "cell_type": "code",
   "execution_count": 3,
   "id": "5fff4ed6",
   "metadata": {},
   "outputs": [],
   "source": [
    "def filter_tf_ko_and_ntc(adata):\n",
    "    \"\"\"\n",
    "    Filter for TF KO and NTC cells.\n",
    "    \"\"\"\n",
    "    return adata[(adata.obs[\"gene_target\"].isin(tfs)) | (adata.obs[\"gene_target\"] == \"NTC\")].copy()\n",
    "\n",
    "def pre_DE_analysis(adata, genes_to_keep_list):\n",
    "    \"\"\"\n",
    "    Prepare dataset for differential expression analysis using PyDESeq2.\n",
    "    \"\"\"\n",
    "    # Filter TF KO and NTC cells\n",
    "    adata = filter_tf_ko_and_ntc(adata)\n",
    "    # Reset adata.X to raw counts\n",
    "    adata.X = adata.layers[\"counts\"].copy()\n",
    "    # Remove lowly expressed genes\n",
    "    adata = adata[:,adata.var.index.isin(genes_to_keep_list)].copy()\n",
    "    return adata"
   ]
  },
  {
   "cell_type": "code",
   "execution_count": 4,
   "id": "cefc2410",
   "metadata": {},
   "outputs": [],
   "source": [
    "def tf_generate_2_pseudoreplicates_for_DE(adata, gene_target, ntc_cells, rng):\n",
    "    \"\"\"\n",
    "    Generate 2 pseudoreplicates for a given gene target and matched NTC cells.\n",
    "    Manually set NTC as reference for differential expression analysis.\n",
    "    rng = numpy Generator object\n",
    "    \"\"\"\n",
    "    data_matrix = adata.X\n",
    "    target_indices = np.where(adata.obs['gene_target'] == gene_target)[0]\n",
    "    target_bulk = []\n",
    "    ntc_bulk = []\n",
    "    sample_names = []\n",
    "    control_names = []\n",
    "\n",
    "    # Create gene target pseudoreplicates\n",
    "    rep_size = len(target_indices) // 2\n",
    "    sample_size = rep_size * 2\n",
    "    sampled_target_indices = rng.choice(target_indices, sample_size, replace=False)\n",
    "    target_indices1 = sampled_target_indices[:rep_size]\n",
    "    target_indices2 = sampled_target_indices[rep_size:]\n",
    "    for rep_number, rep_indices in enumerate([target_indices1, target_indices2]):\n",
    "        target_profile = data_matrix[rep_indices].sum(axis=0)\n",
    "        target_bulk.append(target_profile)\n",
    "        sample_names.append(f\"{gene_target}_rep_{rep_number+1}\")\n",
    "\n",
    "    # Create NTC pseudoreplicates\n",
    "    sampled_ntc_indices = rng.choice(ntc_cells, sample_size, replace=False)\n",
    "    ntc_indices1 = sampled_ntc_indices[:rep_size]\n",
    "    ntc_indices2 = sampled_ntc_indices[rep_size:]\n",
    "    for rep_number, rep_indices in enumerate([ntc_indices1, ntc_indices2]):\n",
    "        ntc_profile = data_matrix[rep_indices].sum(axis=0)\n",
    "        ntc_bulk.append(ntc_profile)\n",
    "        control_names.append(f\"NTC_rep_{rep_number+1}\")\n",
    "    \n",
    "    # Convert to DataFrame\n",
    "    sample_names.extend(control_names)\n",
    "    # Build counts DataFrame\n",
    "    pseudo_bulk_df = pd.DataFrame(np.vstack(target_bulk + ntc_bulk), index=sample_names, columns=adata.var_names)\n",
    "    pseudo_bulk_df = pseudo_bulk_df[pseudo_bulk_df.columns[pseudo_bulk_df.sum(axis=0)>=1]] #Remove any samples with 0s in both NTC and Perturbed Sample\n",
    "    # Build metadata DataFrame\n",
    "    metadata_records = [{'condition': sample.split('_')[0]} for sample in sample_names]\n",
    "    metadata_df = pd.DataFrame(metadata_records, index=sample_names)\n",
    "    # Set NTC as reference\n",
    "    metadata_df[\"condition\"] = pd.Categorical(\n",
    "        metadata_df[\"condition\"],\n",
    "        categories=[\"NTC\", gene_target],\n",
    "        ordered=True\n",
    "        )\n",
    "\n",
    "    return pseudo_bulk_df, metadata_df\n",
    "\n",
    "\n",
    "def tf_deseq2(data, metadata, contrast, alpha=0.05, n_cpus=16):\n",
    "    \"\"\"\n",
    "    Run differential expression analysis on a single gene target using PyDESeq2.\n",
    "    \"\"\"\n",
    "    inference = DefaultInference(n_cpus=n_cpus) # Only use n_cpus CPUs\n",
    "    \n",
    "    # Read counts modeling and fitting dispersions\n",
    "    dds = DeseqDataSet(\n",
    "        counts = data, \n",
    "        metadata = metadata, \n",
    "        design=\"~condition\",\n",
    "        refit_cooks=True,\n",
    "        inference=inference,\n",
    "        quiet=True\n",
    "        )\n",
    "    dds.deseq2()\n",
    "    \n",
    "    # Statistical testing\n",
    "    stat_res = DeseqStats(\n",
    "        dds, \n",
    "        contrast=contrast, \n",
    "        alpha=alpha,\n",
    "        inference=inference,\n",
    "        quiet=True)\n",
    "    stat_res.summary()\n",
    "    # Shrink LFCs for downstream analysis\n",
    "    stat_res.lfc_shrink(coeff=f\"condition[T.{contrast[1]}]\", adapt=False) \n",
    "    results = stat_res.results_df\n",
    "    return results\n",
    "\n",
    "\n",
    "def tf_run_deseq2_analysis(adata, n_cpus=16, gene_target_obs_column=\"gene_target\", ntc_cells_delimiter=\"NTC\", \n",
    "                           alpha=0.05, de_rng=None):\n",
    "    \"\"\"\n",
    "    Run differential expression analysis on each gene target in the dataset.\n",
    "    \"\"\"\n",
    "    ntc_cells = np.where(adata.obs[gene_target_obs_column] == ntc_cells_delimiter)[0]\n",
    "    gene_targets = list(adata.obs[gene_target_obs_column].unique())\n",
    "    gene_targets.remove(ntc_cells_delimiter)  # Remove the control group\n",
    "    n_gene_targets = len(gene_targets)\n",
    "\n",
    "    # Create RNG object to handle case where one is not provided\n",
    "    if de_rng is None:\n",
    "        hard_coded_seed = 12345\n",
    "        de_rng = np.random.default_rng(hard_coded_seed)\n",
    "    # Create one child RNG object per gene target\n",
    "    streams = de_rng.spawn(n_gene_targets)\n",
    "\n",
    "    # Function to run DE analysis on a single gene target\n",
    "    def process_gene_target(gene_target, rng):\n",
    "        pseudo_bulk_df, metadata_df = tf_generate_2_pseudoreplicates_for_DE(\n",
    "            adata, gene_target, ntc_cells, rng=rng\n",
    "        )\n",
    "        return tf_deseq2(\n",
    "            pseudo_bulk_df, \n",
    "            metadata_df, \n",
    "            contrast=[\"condition\", gene_target, ntc_cells_delimiter], \n",
    "            alpha=alpha,\n",
    "            n_cpus=n_cpus)\n",
    "\n",
    "    # Run DE analysis on all gene targets in parallel\n",
    "    with tqdm_joblib(desc=\"Running DE analysis\", total=len(gene_targets)):\n",
    "        results = Parallel(n_jobs=n_cpus)(\n",
    "            delayed(process_gene_target)(gene_target, rng) for gene_target, rng in zip(gene_targets, streams))\n",
    "    \n",
    "    results_dict = dict(zip(gene_targets, results))\n",
    "    \n",
    "    return results_dict\n",
    "\n",
    "def tf_build_DE_df(results_dict):\n",
    "    df_list = list()\n",
    "    for gene_target, df in results_dict.items():\n",
    "        df = df.sort_index() # Sort genes alphabetically\n",
    "        # Prepend TF KO name to each column label\n",
    "        new_col_names = {col: f\"{gene_target}_{col}\" for col in df}\n",
    "        df = df.rename(columns=new_col_names)\n",
    "        df_list.append(df)\n",
    "    # Concatenate all DE result DataFrames (using intersection of genes)\n",
    "    de_df = pd.concat(df_list, axis=1)\n",
    "    de_df = de_df.sort_index() # Sort genes alphabetically\n",
    "    return de_df"
   ]
  },
  {
   "cell_type": "markdown",
   "id": "67fee683",
   "metadata": {},
   "source": [
    "Batch ALPHA"
   ]
  },
  {
   "cell_type": "code",
   "execution_count": 13,
   "id": "026fffe1",
   "metadata": {},
   "outputs": [],
   "source": [
    "adata_alpha = ad.read_h5ad(\"/home/ranwyl/data_tf_project/Aggregate_ALPHA_Core_Cells.h5ad\")"
   ]
  },
  {
   "cell_type": "code",
   "execution_count": 14,
   "id": "2fa7a9e8",
   "metadata": {},
   "outputs": [
    {
     "name": "stdout",
     "output_type": "stream",
     "text": [
      "Batch ALPHA has 1449 unique KOs\n"
     ]
    }
   ],
   "source": [
    "alpha_kos = adata_alpha.obs[\"gene_target\"].unique().to_list()\n",
    "print(f\"Batch ALPHA has {len(alpha_kos) - 1} unique KOs\")"
   ]
  },
  {
   "cell_type": "code",
   "execution_count": 15,
   "id": "2cf061cb",
   "metadata": {},
   "outputs": [
    {
     "data": {
      "text/plain": [
       "AnnData object with n_obs × n_vars = 44248 × 15326\n",
       "    obs: 'gRNA', 'n_gRNA', 'n_gRNA_UMIs', 'gene_target', 'celltype', 'perturbation_type', 'n_UMI_counts', 'n_genes', 'perturbed', 'channel', 'n_genes_by_counts', 'log1p_n_genes_by_counts', 'total_counts', 'log1p_total_counts', 'pct_counts_in_top_20_genes', 'total_counts_mt', 'log1p_total_counts_mt', 'pct_counts_mt', 'total_counts_ribo', 'log1p_total_counts_ribo', 'pct_counts_ribo', 'total_counts_hb', 'log1p_total_counts_hb', 'pct_counts_hb', 'outlier', 'run', 'gene_target_ensembl_id', 'gene_target_expression (CPM)', 'NTC_target_gene_expression (CPM)', 'target_knockdown', 'target_knockdown_z_score', 'ed_category', 'anomaly_score'\n",
       "    var: 'gene_ids', 'feature_types', 'n_UMI_counts', 'n_cells', 'mt', 'ribo', 'hb', 'n_cells_by_counts', 'mean_counts', 'log1p_mean_counts', 'pct_dropout_by_counts', 'total_counts', 'log1p_total_counts', 'mean', 'std', 'highly_variable', 'highly_variable_rank', 'means', 'variances', 'variances_norm'\n",
       "    uns: 'hvg', 'log1p', 'pca'\n",
       "    obsm: 'X_pca'\n",
       "    varm: 'PCs'\n",
       "    layers: 'counts', 'normalized_counts'"
      ]
     },
     "execution_count": 15,
     "metadata": {},
     "output_type": "execute_result"
    }
   ],
   "source": [
    "adata_alpha = pre_DE_analysis(adata_alpha, genes_to_keep)\n",
    "adata_alpha"
   ]
  },
  {
   "cell_type": "code",
   "execution_count": 16,
   "id": "b3f98219",
   "metadata": {},
   "outputs": [
    {
     "name": "stdout",
     "output_type": "stream",
     "text": [
      "Batch ALPHA has 654 unique TF KOs\n"
     ]
    }
   ],
   "source": [
    "alpha_tf_kos = adata_alpha.obs[\"gene_target\"].unique().to_list()\n",
    "print(f\"Batch ALPHA has {len(alpha_tf_kos) - 1} unique TF KOs\")"
   ]
  },
  {
   "cell_type": "markdown",
   "id": "5d65ac93",
   "metadata": {},
   "source": [
    "Batch BETA"
   ]
  },
  {
   "cell_type": "code",
   "execution_count": 5,
   "id": "286d52eb",
   "metadata": {},
   "outputs": [],
   "source": [
    "adata_beta = ad.read_h5ad(\"/home/ranwyl/data_tf_project/Aggregate_BETA_Core_Cells.h5ad\")"
   ]
  },
  {
   "cell_type": "code",
   "execution_count": 6,
   "id": "ddddd471",
   "metadata": {},
   "outputs": [
    {
     "data": {
      "text/plain": [
       "AnnData object with n_obs × n_vars = 75646 × 37567\n",
       "    obs: 'gRNA', 'n_gRNA', 'n_gRNA_UMIs', 'gene_target', 'celltype', 'perturbation_type', 'n_UMI_counts', 'n_genes', 'perturbed', 'channel', 'n_genes_by_counts', 'log1p_n_genes_by_counts', 'total_counts', 'log1p_total_counts', 'pct_counts_in_top_20_genes', 'total_counts_mt', 'log1p_total_counts_mt', 'pct_counts_mt', 'total_counts_ribo', 'log1p_total_counts_ribo', 'pct_counts_ribo', 'total_counts_hb', 'log1p_total_counts_hb', 'pct_counts_hb', 'outlier', 'run', 'gene_target_ensembl_id', 'gene_target_expression (CPM)', 'NTC_target_gene_expression (CPM)', 'target_knockdown', 'target_knockdown_z_score', 'ed_category', 'anomaly_score'\n",
       "    var: 'gene_ids', 'feature_types', 'n_UMI_counts', 'n_cells', 'mt', 'ribo', 'hb', 'n_cells_by_counts', 'mean_counts', 'log1p_mean_counts', 'pct_dropout_by_counts', 'total_counts', 'log1p_total_counts', 'mean', 'std', 'highly_variable', 'highly_variable_rank', 'means', 'variances', 'variances_norm'\n",
       "    uns: 'hvg', 'log1p', 'pca'\n",
       "    obsm: 'X_pca'\n",
       "    varm: 'PCs'\n",
       "    layers: 'counts', 'normalized_counts'"
      ]
     },
     "execution_count": 6,
     "metadata": {},
     "output_type": "execute_result"
    }
   ],
   "source": [
    "adata_beta"
   ]
  },
  {
   "cell_type": "code",
   "execution_count": 7,
   "id": "116b7acc",
   "metadata": {},
   "outputs": [
    {
     "name": "stdout",
     "output_type": "stream",
     "text": [
      "Batch BETA has 1390 unique KOs\n"
     ]
    }
   ],
   "source": [
    "beta_kos = adata_beta.obs[\"gene_target\"].unique().to_list()\n",
    "print(f\"Batch BETA has {len(beta_kos) - 1} unique KOs\")"
   ]
  },
  {
   "cell_type": "code",
   "execution_count": 8,
   "id": "f66d37dd",
   "metadata": {},
   "outputs": [
    {
     "data": {
      "text/plain": [
       "AnnData object with n_obs × n_vars = 12881 × 15326\n",
       "    obs: 'gRNA', 'n_gRNA', 'n_gRNA_UMIs', 'gene_target', 'celltype', 'perturbation_type', 'n_UMI_counts', 'n_genes', 'perturbed', 'channel', 'n_genes_by_counts', 'log1p_n_genes_by_counts', 'total_counts', 'log1p_total_counts', 'pct_counts_in_top_20_genes', 'total_counts_mt', 'log1p_total_counts_mt', 'pct_counts_mt', 'total_counts_ribo', 'log1p_total_counts_ribo', 'pct_counts_ribo', 'total_counts_hb', 'log1p_total_counts_hb', 'pct_counts_hb', 'outlier', 'run', 'gene_target_ensembl_id', 'gene_target_expression (CPM)', 'NTC_target_gene_expression (CPM)', 'target_knockdown', 'target_knockdown_z_score', 'ed_category', 'anomaly_score'\n",
       "    var: 'gene_ids', 'feature_types', 'n_UMI_counts', 'n_cells', 'mt', 'ribo', 'hb', 'n_cells_by_counts', 'mean_counts', 'log1p_mean_counts', 'pct_dropout_by_counts', 'total_counts', 'log1p_total_counts', 'mean', 'std', 'highly_variable', 'highly_variable_rank', 'means', 'variances', 'variances_norm'\n",
       "    uns: 'hvg', 'log1p', 'pca'\n",
       "    obsm: 'X_pca'\n",
       "    varm: 'PCs'\n",
       "    layers: 'counts', 'normalized_counts'"
      ]
     },
     "execution_count": 8,
     "metadata": {},
     "output_type": "execute_result"
    }
   ],
   "source": [
    "adata_beta = pre_DE_analysis(adata_beta, genes_to_keep)\n",
    "adata_beta"
   ]
  },
  {
   "cell_type": "code",
   "execution_count": 9,
   "id": "edf1571e",
   "metadata": {},
   "outputs": [
    {
     "name": "stdout",
     "output_type": "stream",
     "text": [
      "Batch BETA has 3 unique TF KOs\n"
     ]
    }
   ],
   "source": [
    "beta_tf_kos = adata_beta.obs[\"gene_target\"].unique().to_list()\n",
    "print(f\"Batch BETA has {len(beta_tf_kos) - 1} unique TF KOs\")"
   ]
  },
  {
   "cell_type": "code",
   "execution_count": 12,
   "id": "1ce223d2",
   "metadata": {},
   "outputs": [
    {
     "name": "stdout",
     "output_type": "stream",
     "text": [
      "Batch BETA TF KO and NTC gene targets: NTC, SNAPC5, TRAFD1, ZBED6\n"
     ]
    }
   ],
   "source": [
    "print(f\"Batch BETA TF KO and NTC gene targets: {', '.join(beta_tf_kos)}\")"
   ]
  },
  {
   "cell_type": "code",
   "execution_count": 13,
   "id": "7887cf55",
   "metadata": {},
   "outputs": [
    {
     "data": {
      "application/vnd.jupyter.widget-view+json": {
       "model_id": "46018fe2c80f4828b644969f5d53949e",
       "version_major": 2,
       "version_minor": 0
      },
      "text/plain": [
       "Running DE analysis:   0%|          | 0/3 [00:00<?, ?it/s]"
      ]
     },
     "metadata": {},
     "output_type": "display_data"
    },
    {
     "name": "stderr",
     "output_type": "stream",
     "text": [
      "/home/ranwyl/pymde_env/lib64/python3.11/site-packages/pydeseq2/dds.py:541: UserWarning: As the residual degrees of freedom is less than 3, the distribution of log dispersions is especially asymmetric and likely to be poorly estimated by the MAD.\n",
      "  self.fit_dispersion_prior()\n",
      "/home/ranwyl/pymde_env/lib64/python3.11/site-packages/pydeseq2/dds.py:804: UserWarning: The dispersion trend curve fitting did not converge. Switching to a mean-based dispersion trend.\n",
      "  self._fit_parametric_dispersion_trend(vst)\n",
      "/home/ranwyl/pymde_env/lib64/python3.11/site-packages/pydeseq2/dds.py:541: UserWarning: As the residual degrees of freedom is less than 3, the distribution of log dispersions is especially asymmetric and likely to be poorly estimated by the MAD.\n",
      "  self.fit_dispersion_prior()\n",
      "/home/ranwyl/pymde_env/lib64/python3.11/site-packages/pydeseq2/dds.py:541: UserWarning: As the residual degrees of freedom is less than 3, the distribution of log dispersions is especially asymmetric and likely to be poorly estimated by the MAD.\n",
      "  self.fit_dispersion_prior()\n"
     ]
    }
   ],
   "source": [
    "results_dict_beta = tf_run_deseq2_analysis(adata_beta, n_cpus=25)"
   ]
  },
  {
   "cell_type": "code",
   "execution_count": 14,
   "id": "f4d885a7",
   "metadata": {},
   "outputs": [],
   "source": [
    "beta_DE_df = tf_build_DE_df(results_dict_beta)"
   ]
  },
  {
   "cell_type": "code",
   "execution_count": 16,
   "id": "bd88d165",
   "metadata": {},
   "outputs": [
    {
     "data": {
      "text/html": [
       "<div>\n",
       "<style scoped>\n",
       "    .dataframe tbody tr th:only-of-type {\n",
       "        vertical-align: middle;\n",
       "    }\n",
       "\n",
       "    .dataframe tbody tr th {\n",
       "        vertical-align: top;\n",
       "    }\n",
       "\n",
       "    .dataframe thead th {\n",
       "        text-align: right;\n",
       "    }\n",
       "</style>\n",
       "<table border=\"1\" class=\"dataframe\">\n",
       "  <thead>\n",
       "    <tr style=\"text-align: right;\">\n",
       "      <th></th>\n",
       "      <th>SNAPC5_baseMean</th>\n",
       "      <th>SNAPC5_log2FoldChange</th>\n",
       "      <th>SNAPC5_lfcSE</th>\n",
       "      <th>SNAPC5_stat</th>\n",
       "      <th>SNAPC5_pvalue</th>\n",
       "      <th>SNAPC5_padj</th>\n",
       "      <th>TRAFD1_baseMean</th>\n",
       "      <th>TRAFD1_log2FoldChange</th>\n",
       "      <th>TRAFD1_lfcSE</th>\n",
       "      <th>TRAFD1_stat</th>\n",
       "      <th>TRAFD1_pvalue</th>\n",
       "      <th>TRAFD1_padj</th>\n",
       "      <th>ZBED6_baseMean</th>\n",
       "      <th>ZBED6_log2FoldChange</th>\n",
       "      <th>ZBED6_lfcSE</th>\n",
       "      <th>ZBED6_stat</th>\n",
       "      <th>ZBED6_pvalue</th>\n",
       "      <th>ZBED6_padj</th>\n",
       "    </tr>\n",
       "  </thead>\n",
       "  <tbody>\n",
       "    <tr>\n",
       "      <th>A1BG</th>\n",
       "      <td>2.664233</td>\n",
       "      <td>-0.120847</td>\n",
       "      <td>1.062761</td>\n",
       "      <td>-0.263113</td>\n",
       "      <td>0.792464</td>\n",
       "      <td>0.999245</td>\n",
       "      <td>2.460073</td>\n",
       "      <td>-0.019421</td>\n",
       "      <td>1.060802</td>\n",
       "      <td>-0.043839</td>\n",
       "      <td>0.965033</td>\n",
       "      <td>0.999758</td>\n",
       "      <td>0.485031</td>\n",
       "      <td>0.211798</td>\n",
       "      <td>2.337732</td>\n",
       "      <td>0.596442</td>\n",
       "      <td>0.550880</td>\n",
       "      <td>0.999801</td>\n",
       "    </tr>\n",
       "    <tr>\n",
       "      <th>A1BG-AS1</th>\n",
       "      <td>0.250000</td>\n",
       "      <td>0.177851</td>\n",
       "      <td>1.856653</td>\n",
       "      <td>0.344088</td>\n",
       "      <td>0.730780</td>\n",
       "      <td>0.999245</td>\n",
       "      <td>0.720945</td>\n",
       "      <td>0.083665</td>\n",
       "      <td>1.450443</td>\n",
       "      <td>0.281609</td>\n",
       "      <td>0.778243</td>\n",
       "      <td>0.999758</td>\n",
       "      <td>0.272599</td>\n",
       "      <td>-0.107936</td>\n",
       "      <td>1.109439</td>\n",
       "      <td>-0.299989</td>\n",
       "      <td>0.764186</td>\n",
       "      <td>0.999801</td>\n",
       "    </tr>\n",
       "    <tr>\n",
       "      <th>A2M</th>\n",
       "      <td>0.750000</td>\n",
       "      <td>0.249916</td>\n",
       "      <td>2.564296</td>\n",
       "      <td>0.757960</td>\n",
       "      <td>0.448475</td>\n",
       "      <td>0.999245</td>\n",
       "      <td>1.229904</td>\n",
       "      <td>0.080756</td>\n",
       "      <td>1.283800</td>\n",
       "      <td>0.213057</td>\n",
       "      <td>0.831282</td>\n",
       "      <td>0.999758</td>\n",
       "      <td>0.757630</td>\n",
       "      <td>0.095725</td>\n",
       "      <td>1.422993</td>\n",
       "      <td>0.310586</td>\n",
       "      <td>0.756116</td>\n",
       "      <td>0.999801</td>\n",
       "    </tr>\n",
       "    <tr>\n",
       "      <th>A2ML1</th>\n",
       "      <td>1.252396</td>\n",
       "      <td>-0.413068</td>\n",
       "      <td>1.183491</td>\n",
       "      <td>-0.959739</td>\n",
       "      <td>0.337187</td>\n",
       "      <td>0.999245</td>\n",
       "      <td>1.487640</td>\n",
       "      <td>-0.215394</td>\n",
       "      <td>1.133068</td>\n",
       "      <td>-0.517866</td>\n",
       "      <td>0.604551</td>\n",
       "      <td>0.999758</td>\n",
       "      <td>0.235031</td>\n",
       "      <td>0.096288</td>\n",
       "      <td>2.530186</td>\n",
       "      <td>0.259319</td>\n",
       "      <td>0.795389</td>\n",
       "      <td>0.999801</td>\n",
       "    </tr>\n",
       "    <tr>\n",
       "      <th>A2ML1-AS1</th>\n",
       "      <td>4.169808</td>\n",
       "      <td>-0.117856</td>\n",
       "      <td>1.023573</td>\n",
       "      <td>-0.249306</td>\n",
       "      <td>0.803124</td>\n",
       "      <td>0.999245</td>\n",
       "      <td>9.017974</td>\n",
       "      <td>0.203777</td>\n",
       "      <td>0.763491</td>\n",
       "      <td>0.397027</td>\n",
       "      <td>0.691348</td>\n",
       "      <td>0.999758</td>\n",
       "      <td>1.215485</td>\n",
       "      <td>-0.105367</td>\n",
       "      <td>1.169151</td>\n",
       "      <td>-0.270914</td>\n",
       "      <td>0.786457</td>\n",
       "      <td>0.999801</td>\n",
       "    </tr>\n",
       "  </tbody>\n",
       "</table>\n",
       "</div>"
      ],
      "text/plain": [
       "           SNAPC5_baseMean  SNAPC5_log2FoldChange  SNAPC5_lfcSE  SNAPC5_stat  \\\n",
       "A1BG              2.664233              -0.120847      1.062761    -0.263113   \n",
       "A1BG-AS1          0.250000               0.177851      1.856653     0.344088   \n",
       "A2M               0.750000               0.249916      2.564296     0.757960   \n",
       "A2ML1             1.252396              -0.413068      1.183491    -0.959739   \n",
       "A2ML1-AS1         4.169808              -0.117856      1.023573    -0.249306   \n",
       "\n",
       "           SNAPC5_pvalue  SNAPC5_padj  TRAFD1_baseMean  TRAFD1_log2FoldChange  \\\n",
       "A1BG            0.792464     0.999245         2.460073              -0.019421   \n",
       "A1BG-AS1        0.730780     0.999245         0.720945               0.083665   \n",
       "A2M             0.448475     0.999245         1.229904               0.080756   \n",
       "A2ML1           0.337187     0.999245         1.487640              -0.215394   \n",
       "A2ML1-AS1       0.803124     0.999245         9.017974               0.203777   \n",
       "\n",
       "           TRAFD1_lfcSE  TRAFD1_stat  TRAFD1_pvalue  TRAFD1_padj  \\\n",
       "A1BG           1.060802    -0.043839       0.965033     0.999758   \n",
       "A1BG-AS1       1.450443     0.281609       0.778243     0.999758   \n",
       "A2M            1.283800     0.213057       0.831282     0.999758   \n",
       "A2ML1          1.133068    -0.517866       0.604551     0.999758   \n",
       "A2ML1-AS1      0.763491     0.397027       0.691348     0.999758   \n",
       "\n",
       "           ZBED6_baseMean  ZBED6_log2FoldChange  ZBED6_lfcSE  ZBED6_stat  \\\n",
       "A1BG             0.485031              0.211798     2.337732    0.596442   \n",
       "A1BG-AS1         0.272599             -0.107936     1.109439   -0.299989   \n",
       "A2M              0.757630              0.095725     1.422993    0.310586   \n",
       "A2ML1            0.235031              0.096288     2.530186    0.259319   \n",
       "A2ML1-AS1        1.215485             -0.105367     1.169151   -0.270914   \n",
       "\n",
       "           ZBED6_pvalue  ZBED6_padj  \n",
       "A1BG           0.550880    0.999801  \n",
       "A1BG-AS1       0.764186    0.999801  \n",
       "A2M            0.756116    0.999801  \n",
       "A2ML1          0.795389    0.999801  \n",
       "A2ML1-AS1      0.786457    0.999801  "
      ]
     },
     "execution_count": 16,
     "metadata": {},
     "output_type": "execute_result"
    }
   ],
   "source": [
    "beta_DE_df.head()"
   ]
  },
  {
   "cell_type": "markdown",
   "id": "408eeb96",
   "metadata": {},
   "source": [
    "Batch GAMMA"
   ]
  },
  {
   "cell_type": "code",
   "execution_count": 17,
   "id": "97801df3",
   "metadata": {},
   "outputs": [],
   "source": [
    "adata_gamma = ad.read_h5ad(\"/home/ranwyl/data_tf_project/Aggregate_GAMMA_Core_Cells.h5ad\")"
   ]
  },
  {
   "cell_type": "code",
   "execution_count": 18,
   "id": "c2460a3b",
   "metadata": {},
   "outputs": [
    {
     "data": {
      "text/plain": [
       "AnnData object with n_obs × n_vars = 47542 × 37567\n",
       "    obs: 'gRNA', 'n_gRNA', 'n_gRNA_UMIs', 'gene_target', 'celltype', 'perturbation_type', 'n_UMI_counts', 'n_genes', 'perturbed', 'channel', 'n_genes_by_counts', 'log1p_n_genes_by_counts', 'total_counts', 'log1p_total_counts', 'pct_counts_in_top_20_genes', 'total_counts_mt', 'log1p_total_counts_mt', 'pct_counts_mt', 'total_counts_ribo', 'log1p_total_counts_ribo', 'pct_counts_ribo', 'total_counts_hb', 'log1p_total_counts_hb', 'pct_counts_hb', 'outlier', 'run', 'gene_target_ensembl_id', 'gene_target_expression (CPM)', 'NTC_target_gene_expression (CPM)', 'target_knockdown', 'target_knockdown_z_score', 'ed_category', 'anomaly_score'\n",
       "    var: 'gene_ids', 'feature_types', 'n_UMI_counts', 'n_cells', 'mt', 'ribo', 'hb', 'n_cells_by_counts', 'mean_counts', 'log1p_mean_counts', 'pct_dropout_by_counts', 'total_counts', 'log1p_total_counts', 'mean', 'std', 'highly_variable', 'highly_variable_rank', 'means', 'variances', 'variances_norm'\n",
       "    uns: 'hvg', 'log1p', 'pca'\n",
       "    obsm: 'X_pca'\n",
       "    varm: 'PCs'\n",
       "    layers: 'counts', 'normalized_counts'"
      ]
     },
     "execution_count": 18,
     "metadata": {},
     "output_type": "execute_result"
    }
   ],
   "source": [
    "adata_gamma"
   ]
  },
  {
   "cell_type": "code",
   "execution_count": 20,
   "id": "488d8a29",
   "metadata": {},
   "outputs": [
    {
     "name": "stdout",
     "output_type": "stream",
     "text": [
      "Batch GAMMA has 975 unique KOs\n"
     ]
    }
   ],
   "source": [
    "gamma_kos = adata_gamma.obs[\"gene_target\"].unique().to_list()\n",
    "print(f\"Batch GAMMA has {len(gamma_kos) - 1} unique KOs\")"
   ]
  },
  {
   "cell_type": "code",
   "execution_count": 21,
   "id": "c609ac38",
   "metadata": {},
   "outputs": [
    {
     "data": {
      "text/plain": [
       "AnnData object with n_obs × n_vars = 9310 × 15326\n",
       "    obs: 'gRNA', 'n_gRNA', 'n_gRNA_UMIs', 'gene_target', 'celltype', 'perturbation_type', 'n_UMI_counts', 'n_genes', 'perturbed', 'channel', 'n_genes_by_counts', 'log1p_n_genes_by_counts', 'total_counts', 'log1p_total_counts', 'pct_counts_in_top_20_genes', 'total_counts_mt', 'log1p_total_counts_mt', 'pct_counts_mt', 'total_counts_ribo', 'log1p_total_counts_ribo', 'pct_counts_ribo', 'total_counts_hb', 'log1p_total_counts_hb', 'pct_counts_hb', 'outlier', 'run', 'gene_target_ensembl_id', 'gene_target_expression (CPM)', 'NTC_target_gene_expression (CPM)', 'target_knockdown', 'target_knockdown_z_score', 'ed_category', 'anomaly_score'\n",
       "    var: 'gene_ids', 'feature_types', 'n_UMI_counts', 'n_cells', 'mt', 'ribo', 'hb', 'n_cells_by_counts', 'mean_counts', 'log1p_mean_counts', 'pct_dropout_by_counts', 'total_counts', 'log1p_total_counts', 'mean', 'std', 'highly_variable', 'highly_variable_rank', 'means', 'variances', 'variances_norm'\n",
       "    uns: 'hvg', 'log1p', 'pca'\n",
       "    obsm: 'X_pca'\n",
       "    varm: 'PCs'\n",
       "    layers: 'counts', 'normalized_counts'"
      ]
     },
     "execution_count": 21,
     "metadata": {},
     "output_type": "execute_result"
    }
   ],
   "source": [
    "adata_gamma = pre_DE_analysis(adata_gamma, genes_to_keep)\n",
    "adata_gamma"
   ]
  },
  {
   "cell_type": "code",
   "execution_count": 22,
   "id": "4acec777",
   "metadata": {},
   "outputs": [
    {
     "name": "stdout",
     "output_type": "stream",
     "text": [
      "Batch GAMMA has 3 unique TF KOs\n"
     ]
    }
   ],
   "source": [
    "gamma_tf_kos = adata_gamma.obs[\"gene_target\"].unique().to_list()\n",
    "print(f\"Batch GAMMA has {len(gamma_tf_kos) - 1} unique TF KOs\")"
   ]
  },
  {
   "cell_type": "code",
   "execution_count": 23,
   "id": "8a341bf2",
   "metadata": {},
   "outputs": [
    {
     "name": "stdout",
     "output_type": "stream",
     "text": [
      "Batch GAMMA TF KO and NTC gene targets: NTC, FAM200B, SGSM2, THYN1\n"
     ]
    }
   ],
   "source": [
    "print(f\"Batch GAMMA TF KO and NTC gene targets: {', '.join(gamma_tf_kos)}\")"
   ]
  },
  {
   "cell_type": "code",
   "execution_count": 24,
   "id": "e8ce6f77",
   "metadata": {},
   "outputs": [
    {
     "data": {
      "application/vnd.jupyter.widget-view+json": {
       "model_id": "e6ad17324e1041f59891d09a9665058b",
       "version_major": 2,
       "version_minor": 0
      },
      "text/plain": [
       "Running DE analysis:   0%|          | 0/3 [00:00<?, ?it/s]"
      ]
     },
     "metadata": {},
     "output_type": "display_data"
    },
    {
     "name": "stderr",
     "output_type": "stream",
     "text": [
      "/home/ranwyl/pymde_env/lib64/python3.11/site-packages/pydeseq2/dds.py:804: UserWarning: The dispersion trend curve fitting did not converge. Switching to a mean-based dispersion trend.\n",
      "  self._fit_parametric_dispersion_trend(vst)\n",
      "/home/ranwyl/pymde_env/lib64/python3.11/site-packages/pydeseq2/dds.py:541: UserWarning: As the residual degrees of freedom is less than 3, the distribution of log dispersions is especially asymmetric and likely to be poorly estimated by the MAD.\n",
      "  self.fit_dispersion_prior()\n",
      "/home/ranwyl/pymde_env/lib64/python3.11/site-packages/pydeseq2/dds.py:804: UserWarning: The dispersion trend curve fitting did not converge. Switching to a mean-based dispersion trend.\n",
      "  self._fit_parametric_dispersion_trend(vst)\n",
      "/home/ranwyl/pymde_env/lib64/python3.11/site-packages/pydeseq2/dds.py:541: UserWarning: As the residual degrees of freedom is less than 3, the distribution of log dispersions is especially asymmetric and likely to be poorly estimated by the MAD.\n",
      "  self.fit_dispersion_prior()\n",
      "/home/ranwyl/pymde_env/lib64/python3.11/site-packages/pydeseq2/dds.py:541: UserWarning: As the residual degrees of freedom is less than 3, the distribution of log dispersions is especially asymmetric and likely to be poorly estimated by the MAD.\n",
      "  self.fit_dispersion_prior()\n"
     ]
    }
   ],
   "source": [
    "results_dict_gamma = tf_run_deseq2_analysis(adata_gamma, n_cpus=25)"
   ]
  },
  {
   "cell_type": "code",
   "execution_count": 25,
   "id": "5c46c012",
   "metadata": {},
   "outputs": [],
   "source": [
    "gamma_DE_df = tf_build_DE_df(results_dict_gamma)"
   ]
  },
  {
   "cell_type": "code",
   "execution_count": 26,
   "id": "ca38d8cf",
   "metadata": {},
   "outputs": [
    {
     "data": {
      "text/html": [
       "<div>\n",
       "<style scoped>\n",
       "    .dataframe tbody tr th:only-of-type {\n",
       "        vertical-align: middle;\n",
       "    }\n",
       "\n",
       "    .dataframe tbody tr th {\n",
       "        vertical-align: top;\n",
       "    }\n",
       "\n",
       "    .dataframe thead th {\n",
       "        text-align: right;\n",
       "    }\n",
       "</style>\n",
       "<table border=\"1\" class=\"dataframe\">\n",
       "  <thead>\n",
       "    <tr style=\"text-align: right;\">\n",
       "      <th></th>\n",
       "      <th>FAM200B_baseMean</th>\n",
       "      <th>FAM200B_log2FoldChange</th>\n",
       "      <th>FAM200B_lfcSE</th>\n",
       "      <th>FAM200B_stat</th>\n",
       "      <th>FAM200B_pvalue</th>\n",
       "      <th>FAM200B_padj</th>\n",
       "      <th>SGSM2_baseMean</th>\n",
       "      <th>SGSM2_log2FoldChange</th>\n",
       "      <th>SGSM2_lfcSE</th>\n",
       "      <th>SGSM2_stat</th>\n",
       "      <th>SGSM2_pvalue</th>\n",
       "      <th>SGSM2_padj</th>\n",
       "      <th>THYN1_baseMean</th>\n",
       "      <th>THYN1_log2FoldChange</th>\n",
       "      <th>THYN1_lfcSE</th>\n",
       "      <th>THYN1_stat</th>\n",
       "      <th>THYN1_pvalue</th>\n",
       "      <th>THYN1_padj</th>\n",
       "    </tr>\n",
       "  </thead>\n",
       "  <tbody>\n",
       "    <tr>\n",
       "      <th>A1BG</th>\n",
       "      <td>1.251531</td>\n",
       "      <td>-0.265526</td>\n",
       "      <td>1.159137</td>\n",
       "      <td>-0.750844</td>\n",
       "      <td>0.452747</td>\n",
       "      <td>0.999519</td>\n",
       "      <td>2.765363</td>\n",
       "      <td>-0.268671</td>\n",
       "      <td>1.070311</td>\n",
       "      <td>-0.577962</td>\n",
       "      <td>0.563290</td>\n",
       "      <td>0.999536</td>\n",
       "      <td>2.003321</td>\n",
       "      <td>0.003235</td>\n",
       "      <td>1.140248</td>\n",
       "      <td>0.005565</td>\n",
       "      <td>0.995560</td>\n",
       "      <td>0.999947</td>\n",
       "    </tr>\n",
       "    <tr>\n",
       "      <th>A2M</th>\n",
       "      <td>1.258032</td>\n",
       "      <td>0.103756</td>\n",
       "      <td>1.302599</td>\n",
       "      <td>0.276521</td>\n",
       "      <td>0.782148</td>\n",
       "      <td>0.999519</td>\n",
       "      <td>0.250499</td>\n",
       "      <td>-0.166404</td>\n",
       "      <td>1.159955</td>\n",
       "      <td>-0.377359</td>\n",
       "      <td>0.705907</td>\n",
       "      <td>0.999536</td>\n",
       "      <td>0.983782</td>\n",
       "      <td>-0.005105</td>\n",
       "      <td>1.194165</td>\n",
       "      <td>-0.012767</td>\n",
       "      <td>0.989814</td>\n",
       "      <td>0.999947</td>\n",
       "    </tr>\n",
       "    <tr>\n",
       "      <th>A2ML1</th>\n",
       "      <td>0.976029</td>\n",
       "      <td>-0.428671</td>\n",
       "      <td>1.200308</td>\n",
       "      <td>-1.024659</td>\n",
       "      <td>0.305524</td>\n",
       "      <td>0.999519</td>\n",
       "      <td>0.225901</td>\n",
       "      <td>0.149452</td>\n",
       "      <td>1.993094</td>\n",
       "      <td>0.304533</td>\n",
       "      <td>0.760722</td>\n",
       "      <td>0.999536</td>\n",
       "      <td>0.677702</td>\n",
       "      <td>0.225171</td>\n",
       "      <td>2.678810</td>\n",
       "      <td>0.715041</td>\n",
       "      <td>0.474583</td>\n",
       "      <td>0.999947</td>\n",
       "    </tr>\n",
       "    <tr>\n",
       "      <th>A2ML1-AS1</th>\n",
       "      <td>5.661032</td>\n",
       "      <td>-0.291939</td>\n",
       "      <td>0.858346</td>\n",
       "      <td>-0.563451</td>\n",
       "      <td>0.573128</td>\n",
       "      <td>0.999519</td>\n",
       "      <td>1.702382</td>\n",
       "      <td>0.057556</td>\n",
       "      <td>1.158344</td>\n",
       "      <td>0.130601</td>\n",
       "      <td>0.896091</td>\n",
       "      <td>0.999536</td>\n",
       "      <td>4.440480</td>\n",
       "      <td>0.172508</td>\n",
       "      <td>1.132493</td>\n",
       "      <td>0.367670</td>\n",
       "      <td>0.713119</td>\n",
       "      <td>0.999947</td>\n",
       "    </tr>\n",
       "    <tr>\n",
       "      <th>AAAS</th>\n",
       "      <td>2.455846</td>\n",
       "      <td>0.164863</td>\n",
       "      <td>1.139076</td>\n",
       "      <td>0.355952</td>\n",
       "      <td>0.721876</td>\n",
       "      <td>0.999519</td>\n",
       "      <td>NaN</td>\n",
       "      <td>NaN</td>\n",
       "      <td>NaN</td>\n",
       "      <td>NaN</td>\n",
       "      <td>NaN</td>\n",
       "      <td>NaN</td>\n",
       "      <td>1.515762</td>\n",
       "      <td>-0.165311</td>\n",
       "      <td>1.152625</td>\n",
       "      <td>-0.429657</td>\n",
       "      <td>0.667445</td>\n",
       "      <td>0.999947</td>\n",
       "    </tr>\n",
       "  </tbody>\n",
       "</table>\n",
       "</div>"
      ],
      "text/plain": [
       "           FAM200B_baseMean  FAM200B_log2FoldChange  FAM200B_lfcSE  \\\n",
       "A1BG               1.251531               -0.265526       1.159137   \n",
       "A2M                1.258032                0.103756       1.302599   \n",
       "A2ML1              0.976029               -0.428671       1.200308   \n",
       "A2ML1-AS1          5.661032               -0.291939       0.858346   \n",
       "AAAS               2.455846                0.164863       1.139076   \n",
       "\n",
       "           FAM200B_stat  FAM200B_pvalue  FAM200B_padj  SGSM2_baseMean  \\\n",
       "A1BG          -0.750844        0.452747      0.999519        2.765363   \n",
       "A2M            0.276521        0.782148      0.999519        0.250499   \n",
       "A2ML1         -1.024659        0.305524      0.999519        0.225901   \n",
       "A2ML1-AS1     -0.563451        0.573128      0.999519        1.702382   \n",
       "AAAS           0.355952        0.721876      0.999519             NaN   \n",
       "\n",
       "           SGSM2_log2FoldChange  SGSM2_lfcSE  SGSM2_stat  SGSM2_pvalue  \\\n",
       "A1BG                  -0.268671     1.070311   -0.577962      0.563290   \n",
       "A2M                   -0.166404     1.159955   -0.377359      0.705907   \n",
       "A2ML1                  0.149452     1.993094    0.304533      0.760722   \n",
       "A2ML1-AS1              0.057556     1.158344    0.130601      0.896091   \n",
       "AAAS                        NaN          NaN         NaN           NaN   \n",
       "\n",
       "           SGSM2_padj  THYN1_baseMean  THYN1_log2FoldChange  THYN1_lfcSE  \\\n",
       "A1BG         0.999536        2.003321              0.003235     1.140248   \n",
       "A2M          0.999536        0.983782             -0.005105     1.194165   \n",
       "A2ML1        0.999536        0.677702              0.225171     2.678810   \n",
       "A2ML1-AS1    0.999536        4.440480              0.172508     1.132493   \n",
       "AAAS              NaN        1.515762             -0.165311     1.152625   \n",
       "\n",
       "           THYN1_stat  THYN1_pvalue  THYN1_padj  \n",
       "A1BG         0.005565      0.995560    0.999947  \n",
       "A2M         -0.012767      0.989814    0.999947  \n",
       "A2ML1        0.715041      0.474583    0.999947  \n",
       "A2ML1-AS1    0.367670      0.713119    0.999947  \n",
       "AAAS        -0.429657      0.667445    0.999947  "
      ]
     },
     "execution_count": 26,
     "metadata": {},
     "output_type": "execute_result"
    }
   ],
   "source": [
    "gamma_DE_df.head()"
   ]
  },
  {
   "cell_type": "markdown",
   "id": "2ceb3f06",
   "metadata": {},
   "source": [
    "Combine all DE results into one DataFrame"
   ]
  },
  {
   "cell_type": "code",
   "execution_count": null,
   "id": "caca55d6",
   "metadata": {},
   "outputs": [],
   "source": [
    "DE_results = pd.concat([alpha_DE_df, beta_DE_df, gamma_DE_df], axis=1)\n",
    "DE_results = aggregate_DE_df.sort_index()\n",
    "DE_results.head()"
   ]
  },
  {
   "cell_type": "markdown",
   "id": "79bca809",
   "metadata": {},
   "source": [
    "Write out results"
   ]
  },
  {
   "cell_type": "code",
   "execution_count": null,
   "id": "3d075e50",
   "metadata": {},
   "outputs": [],
   "source": [
    "filepath_pkl = \"/home/ranwyl/results_tf_project/DE_results_09-2025.pkl\"\n",
    "DE_results.to_pickle(filepath_pkl)"
   ]
  },
  {
   "cell_type": "markdown",
   "id": "617cdb2a",
   "metadata": {},
   "source": [
    "Rename genes that are listed by Ensembl ID but have a gene name"
   ]
  },
  {
   "cell_type": "markdown",
   "id": "d1b0bec2",
   "metadata": {},
   "source": [
    "all_genes = de_results.index.tolist()\n",
    "ensg_genes = [g for g in all_genes if g.startswith(\"ENSG\")]\n",
    "print(len(ensg_genes))\n",
    "print(ensg_genes[:5])"
   ]
  },
  {
   "cell_type": "code",
   "execution_count": null,
   "id": "7bd9fe63",
   "metadata": {},
   "outputs": [],
   "source": [
    "mg = get_client('gene')\n",
    "ensembl_results_all = mg.querymany(ensg_genes, fields='symbol', species='human')"
   ]
  },
  {
   "cell_type": "markdown",
   "id": "098fdc64",
   "metadata": {},
   "source": [
    "Manually search for the genes with duplicate hits on GeneCards. To break ties, use the highest GeneCards Inferred Functionality Score (GIFtS). If there is a tie between highest scoring gene symbols, keep the gene as its Ensembl ID."
   ]
  },
  {
   "cell_type": "code",
   "execution_count": null,
   "id": "40eb333f",
   "metadata": {},
   "outputs": [],
   "source": [
    "# Change this\n",
    "dup_hits = {'ENSG00000234352': 'LOC349160', 'ENSG00000249738':'IL12B-AS1', 'ENSG00000257545':'LOC100287944'}"
   ]
  },
  {
   "cell_type": "markdown",
   "id": "2b3f4fc7",
   "metadata": {},
   "source": [
    "Rename genes"
   ]
  },
  {
   "cell_type": "code",
   "execution_count": null,
   "id": "500b99b8",
   "metadata": {},
   "outputs": [],
   "source": [
    "ensembl_to_gene = dict()\n",
    "for r in ensembl_results_all:\n",
    "  if r.get('symbol'):\n",
    "      ensembl_to_gene[r.get('query')] = r.get('symbol')\n",
    "ensembl_to_gene.update(dup_hits) # Change duplicate hits\n",
    "print(len(ensembl_to_gene))"
   ]
  },
  {
   "cell_type": "code",
   "execution_count": null,
   "id": "ad5055be",
   "metadata": {},
   "outputs": [],
   "source": [
    "def rename_ensembl_genes(de_df, ensembl_to_gene_dict):\n",
    "    \"\"\"\n",
    "    Rename genes in DataFrame.\n",
    "    \"\"\"\n",
    "    de_df_renamed = de_df.rename(index=ensembl_to_gene_dict)\n",
    "    print(f\"Converted {len(ensembl_to_gene_dict)} Ensembl IDs to gene symbols\")\n",
    "    return de_df_renamed"
   ]
  },
  {
   "cell_type": "code",
   "execution_count": null,
   "id": "723f5cba",
   "metadata": {},
   "outputs": [],
   "source": [
    "DE_results_renamed = rename_ensembl_genes(DE_results, ensembl_to_gene)"
   ]
  },
  {
   "cell_type": "code",
   "execution_count": null,
   "id": "a858b14f",
   "metadata": {},
   "outputs": [],
   "source": [
    "filepath_pkl = \"/home/ranwyl/results_tf_project/DE_results_gene_names_09-2025.pkl\"\n",
    "DE_results_renamed.to_pickle(filepath_pkl)"
   ]
  },
  {
   "cell_type": "markdown",
   "id": "9cb82556",
   "metadata": {},
   "source": [
    "# Step H: Batch Correction"
   ]
  },
  {
   "cell_type": "code",
   "execution_count": null,
   "id": "9e365e51",
   "metadata": {},
   "outputs": [],
   "source": [
    "adata_alpha = ad.read_h5ad(\"/home/ranwyl/data_tf_project/Aggregate_ALPHA_Core_Cells.h5ad\")\n",
    "adata_beta = ad.read_h5ad(\"/home/ranwyl/data_tf_project/Aggregate_BETA_Core_Cells.h5ad\")\n",
    "adata_gamma = ad.read_h5ad(\"/home/ranwyl/data_tf_project/Aggregate_GAMMA_Core_Cells.h5ad\")"
   ]
  },
  {
   "cell_type": "code",
   "execution_count": null,
   "id": "8f8ebd0a",
   "metadata": {},
   "outputs": [],
   "source": [
    "# Filter TF KO and NTC cells\n",
    "def filter_tf_ko_and_ntc(adata):\n",
    "    return adata[(adata.obs[\"gene_target\"].isin(tfs)) | (adata.obs[\"gene_target\"] == \"NTC\")].copy()\n",
    "\n",
    "# Remove lowly expressed genes based on list\n",
    "def filter_low_expr_genes(adata, genes_to_keep_list):\n",
    "    return adata[:,adata.var.index.isin(genes_to_keep_list)].copy()\n",
    "\n",
    "def filter_cells_and_genes(adata, genes_to_keep_list):\n",
    "    adata = filter_tf_ko_and_ntc(adata)\n",
    "    return filter_low_expr_genes(adata, genes_to_keep_list)\n",
    "\n",
    "# Genes that passed filtering out lowly expressed genes\n",
    "genes_to_keep = pd.read_pickle(\"/home/ranwyl/data_tf_project/genes_filtered_30pct_100cells.pkl\")\n",
    "genes_to_keep = genes_to_keep[0].tolist()"
   ]
  },
  {
   "cell_type": "code",
   "execution_count": null,
   "id": "88c3ce3b",
   "metadata": {},
   "outputs": [],
   "source": [
    "adata_alpha_filtered = filter_cells_and_genes(adata_alpha, genes_to_keep)\n",
    "adata_beta_filtered = filter_cells_and_genes(adata_beta, genes_to_keep)\n",
    "adata_gamma_filtered = filter_cells_and_genes(adata_gamma, genes_to_keep)"
   ]
  },
  {
   "cell_type": "code",
   "execution_count": null,
   "id": "64ffd32d",
   "metadata": {},
   "outputs": [],
   "source": [
    "adata_combined = ad.concat([adata_alpha_filtered, adata_beta_filtered, adata_gamma_filtered])\n",
    "adata_combined.X = adata_combined.layers[\"counts\"].copy()\n",
    "adata_combined"
   ]
  },
  {
   "cell_type": "markdown",
   "id": "0b403d11",
   "metadata": {},
   "source": [
    "Normalizate to median UMI count of all NTC cells"
   ]
  },
  {
   "cell_type": "code",
   "execution_count": null,
   "id": "f4ace568",
   "metadata": {},
   "outputs": [],
   "source": [
    "median_NTC_UMIs = np.median(qc2._get_ntc_view(adata_combined).obs.n_UMI_counts)\n",
    "sc.pp.normalize_total(adata_combined, target_sum=median_NTC_UMIs)"
   ]
  },
  {
   "cell_type": "markdown",
   "id": "ce3de1ce",
   "metadata": {},
   "source": [
    "Perform log1p transformation and batch correction"
   ]
  },
  {
   "cell_type": "code",
   "execution_count": null,
   "id": "3e904132",
   "metadata": {},
   "outputs": [],
   "source": [
    "sc.pp.log1p(adata_combined)\n",
    "\n",
    "# Batch correction via relative z-normalization\n",
    "a = adata_combined[adata_combined.obs.run == 'ALPHA'].copy()\n",
    "b = adata_combined[adata_combined.obs.run == 'BETA'].copy()\n",
    "c = adata_combined[adata_combined.obs.run == 'GAMMA'].copy()\n",
    "qc2.relative_z_normalization(a)\n",
    "qc2.relative_z_normalization(b)\n",
    "qc2.relative_z_normalization(c)\n",
    "\n",
    "normalized_adata = ad.concat([a,b,c])\n",
    "normalized_adata"
   ]
  },
  {
   "cell_type": "code",
   "execution_count": null,
   "id": "422235c4",
   "metadata": {},
   "outputs": [],
   "source": [
    "normalized_adata.write(\"/home/ranwyl/data_tf_project/Final_Aggregate_TF_KO_NTC_Batch_Normalized.h5ad\")"
   ]
  }
 ],
 "metadata": {
  "kernelspec": {
   "display_name": "pymde_env",
   "language": "python",
   "name": "python3"
  },
  "language_info": {
   "codemirror_mode": {
    "name": "ipython",
    "version": 3
   },
   "file_extension": ".py",
   "mimetype": "text/x-python",
   "name": "python",
   "nbconvert_exporter": "python",
   "pygments_lexer": "ipython3",
   "version": "3.11.11"
  }
 },
 "nbformat": 4,
 "nbformat_minor": 5
}
