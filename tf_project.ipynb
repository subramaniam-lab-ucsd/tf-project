{
 "cells": [
  {
   "cell_type": "markdown",
   "metadata": {},
   "source": [
    "# Transcription Factor Project\n",
    "**Robin Anwyl, UCSD Subramaniam Lab, Winter Quarter 2025**\n",
    "\n",
    "**Goal:** Analyze the hiPSC Perturb-seq dataset from the Mali lab (Nourreddine et al preprint) to investigate the effects of transcription factor knockouts (TF KOs)\n",
    "\n",
    "**Guiding Questions:**\n",
    "*  What TF KOs are present in the dataset? \n",
    "*  When performing clustering with the dataset - can we associate a unique set of TFs with a cluster? Is there any functional significance to these clusters?\n",
    "*  What gene targets are associated with these TFs?\n",
    "*  Which TFs are involved in co-regulation, and which genes are co-regulated? Which TFs are regulated by other TFs?\n",
    "*  How do TFs influence chromatin remodeling? Which sets of writers and erasers are regulated by these TFs?\n",
    "\n",
    "***"
   ]
  },
  {
   "cell_type": "markdown",
   "metadata": {},
   "source": [
    "# Import statements"
   ]
  },
  {
   "cell_type": "code",
   "execution_count": 2,
   "metadata": {},
   "outputs": [],
   "source": [
    "import mudata as md\n",
    "import anndata as ad\n",
    "import rapids_singlecell as rsc\n",
    "import scanpy as sc\n",
    "import pandas as pd\n",
    "import numpy as np\n",
    "# import requests"
   ]
  },
  {
   "cell_type": "markdown",
   "metadata": {},
   "source": [
    "# Working with the original Perturb-Seq dataset"
   ]
  },
  {
   "cell_type": "markdown",
   "metadata": {},
   "source": [
    "We will read in the Perturb-seq single-cell dataset `.h5mu` file as a `MuData` object, `mdata`.\n",
    "\n",
    "`mdata` contains two `AnnData` objects: `rna` (cell-by-gene matrix) and `crispr` (cell-by-knockout matrix)\n",
    "- `rna`: 5386783 cells x 38606 features  \n",
    "    - Features = expression of each human gene measured in the dataset\n",
    "    - `rna.obs` = cell barcodes, `rna.var` = features = genes\n",
    "- `crispr`: 5386783 cells x 35989 features\n",
    "    - Features = CRISPR sgRNAs (3 sgRNAs per gene target * 11739 gene targets, plus 478 non-targeting control sgRNAs)\n",
    "    - `crispr.obs` = cell barcodes, `crispr.var` = features = knockouts\n",
    "\n",
    "We will be working with `rna` for the majority of the analysis."
   ]
  },
  {
   "cell_type": "code",
   "execution_count": 3,
   "metadata": {},
   "outputs": [
    {
     "name": "stderr",
     "output_type": "stream",
     "text": [
      "/home/ranwyl/.conda/envs/rsc_env/lib/python3.12/site-packages/mudata/_core/mudata.py:1531: FutureWarning: From 0.4 .update() will not pull obs/var columns from individual modalities by default anymore. Set mudata.set_options(pull_on_update=False) to adopt the new behaviour, which will become the default. Use new pull_obs/pull_var and push_obs/push_var methods for more flexibility.\n",
      "  self._update_attr(\"var\", axis=0, join_common=join_common)\n",
      "/home/ranwyl/.conda/envs/rsc_env/lib/python3.12/site-packages/mudata/_core/mudata.py:1429: FutureWarning: From 0.4 .update() will not pull obs/var columns from individual modalities by default anymore. Set mudata.set_options(pull_on_update=False) to adopt the new behaviour, which will become the default. Use new pull_obs/pull_var and push_obs/push_var methods for more flexibility.\n",
      "  self._update_attr(\"obs\", axis=1, join_common=join_common)\n"
     ]
    }
   ],
   "source": [
    "mdata = md.read_h5mu(\"/home/data/Mali_project/KOLF_Pan_Genome_Aggregate.h5mu\")\n",
    "rna = mdata[\"rna\"]"
   ]
  },
  {
   "cell_type": "markdown",
   "metadata": {},
   "source": [
    "## QC and preprocessing "
   ]
  },
  {
   "cell_type": "markdown",
   "metadata": {},
   "source": [
    "CellRanger count and aggregation has already been performed on the data. The file `protospacer_calls_per_cell.csv` contains information on which CRISPR guide RNA (sgRNA) each cell, identified by its barcode, received. We will assign sgRNAs to the cell barcodes in `rna.obs` based on this information. Nourreddine et al filtered for cells that received a single sgRNA during QC, so we will only add this metadata to cells that received a single sgRNA."
   ]
  },
  {
   "cell_type": "code",
   "execution_count": null,
   "metadata": {},
   "outputs": [],
   "source": [
    "protospacer_calls = pd.read_csv(\"/home/data/Mali_project/protospacer_calls_per_cell.csv\", index_col=0)\n",
    "single_guide_cells = protospacer_calls[protospacer_calls['num_features'] == 1] # barcodes in protospacer_calls with single sgRNA\n",
    "barcode_to_sgRNA = single_guide_cells['feature_call'].to_dict()\n",
    "rna.obs['sgRNA'] = rna.obs.index.map(lambda barcode: barcode_to_sgRNA.get(barcode, None))"
   ]
  },
  {
   "cell_type": "markdown",
   "metadata": {},
   "source": [
    "Now we will filter for genes that are expressed in at least one cell."
   ]
  },
  {
   "cell_type": "code",
   "execution_count": null,
   "metadata": {},
   "outputs": [
    {
     "ename": "MemoryError",
     "evalue": "Unable to allocate 60.0 GiB for an array with shape (8051880520,) and data type int64",
     "output_type": "error",
     "traceback": [
      "\u001b[0;31m---------------------------------------------------------------------------\u001b[0m",
      "\u001b[0;31mMemoryError\u001b[0m                               Traceback (most recent call last)",
      "Cell \u001b[0;32mIn[27], line 2\u001b[0m\n\u001b[1;32m      1\u001b[0m rna_single_guides \u001b[38;5;241m=\u001b[39m rna[rna\u001b[38;5;241m.\u001b[39mobs[\u001b[38;5;124m'\u001b[39m\u001b[38;5;124msgRNA\u001b[39m\u001b[38;5;124m'\u001b[39m]\u001b[38;5;241m.\u001b[39mnotna(), :]  \u001b[38;5;66;03m# Cells with sgRNAs\u001b[39;00m\n\u001b[0;32m----> 2\u001b[0m expressed_genes \u001b[38;5;241m=\u001b[39m \u001b[43mrna_single_guides\u001b[49m\u001b[38;5;241;43m.\u001b[39;49m\u001b[43mX\u001b[49m\u001b[38;5;241m.\u001b[39mgetnnz(axis\u001b[38;5;241m=\u001b[39m\u001b[38;5;241m0\u001b[39m) \u001b[38;5;241m>\u001b[39m \u001b[38;5;241m0\u001b[39m  \u001b[38;5;66;03m# Genes expressed in at least one cell\u001b[39;00m\n",
      "File \u001b[0;32m~/.conda/envs/rsc_env/lib/python3.12/site-packages/anndata/_core/anndata.py:561\u001b[0m, in \u001b[0;36mAnnData.X\u001b[0;34m(self)\u001b[0m\n\u001b[1;32m    558\u001b[0m     X \u001b[38;5;241m=\u001b[39m \u001b[38;5;28;01mNone\u001b[39;00m\n\u001b[1;32m    559\u001b[0m \u001b[38;5;28;01melif\u001b[39;00m \u001b[38;5;28mself\u001b[39m\u001b[38;5;241m.\u001b[39mis_view:\n\u001b[1;32m    560\u001b[0m     X \u001b[38;5;241m=\u001b[39m as_view(\n\u001b[0;32m--> 561\u001b[0m         \u001b[43m_subset\u001b[49m\u001b[43m(\u001b[49m\u001b[38;5;28;43mself\u001b[39;49m\u001b[38;5;241;43m.\u001b[39;49m\u001b[43m_adata_ref\u001b[49m\u001b[38;5;241;43m.\u001b[39;49m\u001b[43mX\u001b[49m\u001b[43m,\u001b[49m\u001b[43m \u001b[49m\u001b[43m(\u001b[49m\u001b[38;5;28;43mself\u001b[39;49m\u001b[38;5;241;43m.\u001b[39;49m\u001b[43m_oidx\u001b[49m\u001b[43m,\u001b[49m\u001b[43m \u001b[49m\u001b[38;5;28;43mself\u001b[39;49m\u001b[38;5;241;43m.\u001b[39;49m\u001b[43m_vidx\u001b[49m\u001b[43m)\u001b[49m\u001b[43m)\u001b[49m,\n\u001b[1;32m    562\u001b[0m         ElementRef(\u001b[38;5;28mself\u001b[39m, \u001b[38;5;124m\"\u001b[39m\u001b[38;5;124mX\u001b[39m\u001b[38;5;124m\"\u001b[39m),\n\u001b[1;32m    563\u001b[0m     )\n\u001b[1;32m    564\u001b[0m \u001b[38;5;28;01melse\u001b[39;00m:\n\u001b[1;32m    565\u001b[0m     X \u001b[38;5;241m=\u001b[39m \u001b[38;5;28mself\u001b[39m\u001b[38;5;241m.\u001b[39m_X\n",
      "File \u001b[0;32m~/.conda/envs/rsc_env/lib/python3.12/functools.py:912\u001b[0m, in \u001b[0;36msingledispatch.<locals>.wrapper\u001b[0;34m(*args, **kw)\u001b[0m\n\u001b[1;32m    908\u001b[0m \u001b[38;5;28;01mif\u001b[39;00m \u001b[38;5;129;01mnot\u001b[39;00m args:\n\u001b[1;32m    909\u001b[0m     \u001b[38;5;28;01mraise\u001b[39;00m \u001b[38;5;167;01mTypeError\u001b[39;00m(\u001b[38;5;124mf\u001b[39m\u001b[38;5;124m'\u001b[39m\u001b[38;5;132;01m{\u001b[39;00mfuncname\u001b[38;5;132;01m}\u001b[39;00m\u001b[38;5;124m requires at least \u001b[39m\u001b[38;5;124m'\u001b[39m\n\u001b[1;32m    910\u001b[0m                     \u001b[38;5;124m'\u001b[39m\u001b[38;5;124m1 positional argument\u001b[39m\u001b[38;5;124m'\u001b[39m)\n\u001b[0;32m--> 912\u001b[0m \u001b[38;5;28;01mreturn\u001b[39;00m \u001b[43mdispatch\u001b[49m\u001b[43m(\u001b[49m\u001b[43margs\u001b[49m\u001b[43m[\u001b[49m\u001b[38;5;241;43m0\u001b[39;49m\u001b[43m]\u001b[49m\u001b[38;5;241;43m.\u001b[39;49m\u001b[38;5;18;43m__class__\u001b[39;49m\u001b[43m)\u001b[49m\u001b[43m(\u001b[49m\u001b[38;5;241;43m*\u001b[39;49m\u001b[43margs\u001b[49m\u001b[43m,\u001b[49m\u001b[43m \u001b[49m\u001b[38;5;241;43m*\u001b[39;49m\u001b[38;5;241;43m*\u001b[39;49m\u001b[43mkw\u001b[49m\u001b[43m)\u001b[49m\n",
      "File \u001b[0;32m~/.conda/envs/rsc_env/lib/python3.12/site-packages/anndata/_core/index.py:185\u001b[0m, in \u001b[0;36m_subset_sparse\u001b[0;34m(a, subset_idx)\u001b[0m\n\u001b[1;32m    183\u001b[0m         first_idx \u001b[38;5;241m=\u001b[39m np\u001b[38;5;241m.\u001b[39mwhere(first_idx)[\u001b[38;5;241m0\u001b[39m]\n\u001b[1;32m    184\u001b[0m     subset_idx \u001b[38;5;241m=\u001b[39m (first_idx\u001b[38;5;241m.\u001b[39mreshape(\u001b[38;5;241m-\u001b[39m\u001b[38;5;241m1\u001b[39m, \u001b[38;5;241m1\u001b[39m), \u001b[38;5;241m*\u001b[39msubset_idx[\u001b[38;5;241m1\u001b[39m:])\n\u001b[0;32m--> 185\u001b[0m \u001b[38;5;28;01mreturn\u001b[39;00m \u001b[43ma\u001b[49m\u001b[43m[\u001b[49m\u001b[43msubset_idx\u001b[49m\u001b[43m]\u001b[49m\n",
      "File \u001b[0;32m~/.conda/envs/rsc_env/lib/python3.12/site-packages/scipy/sparse/_index.py:87\u001b[0m, in \u001b[0;36mIndexMixin.__getitem__\u001b[0;34m(self, key)\u001b[0m\n\u001b[1;32m     85\u001b[0m     res \u001b[38;5;241m=\u001b[39m \u001b[38;5;28mself\u001b[39m\u001b[38;5;241m.\u001b[39m_get_arrayXint(row, col)\n\u001b[1;32m     86\u001b[0m \u001b[38;5;28;01melif\u001b[39;00m \u001b[38;5;28misinstance\u001b[39m(col, \u001b[38;5;28mslice\u001b[39m):\n\u001b[0;32m---> 87\u001b[0m     res \u001b[38;5;241m=\u001b[39m \u001b[38;5;28;43mself\u001b[39;49m\u001b[38;5;241;43m.\u001b[39;49m\u001b[43m_get_arrayXslice\u001b[49m\u001b[43m(\u001b[49m\u001b[43mrow\u001b[49m\u001b[43m,\u001b[49m\u001b[43m \u001b[49m\u001b[43mcol\u001b[49m\u001b[43m)\u001b[49m\n\u001b[1;32m     88\u001b[0m \u001b[38;5;66;03m# arrayXarray preprocess\u001b[39;00m\n\u001b[1;32m     89\u001b[0m \u001b[38;5;28;01melif\u001b[39;00m (row\u001b[38;5;241m.\u001b[39mndim \u001b[38;5;241m==\u001b[39m \u001b[38;5;241m2\u001b[39m \u001b[38;5;129;01mand\u001b[39;00m row\u001b[38;5;241m.\u001b[39mshape[\u001b[38;5;241m1\u001b[39m] \u001b[38;5;241m==\u001b[39m \u001b[38;5;241m1\u001b[39m\n\u001b[1;32m     90\u001b[0m     \u001b[38;5;129;01mand\u001b[39;00m (col\u001b[38;5;241m.\u001b[39mndim \u001b[38;5;241m==\u001b[39m \u001b[38;5;241m1\u001b[39m \u001b[38;5;129;01mor\u001b[39;00m col\u001b[38;5;241m.\u001b[39mshape[\u001b[38;5;241m0\u001b[39m] \u001b[38;5;241m==\u001b[39m \u001b[38;5;241m1\u001b[39m)):\n\u001b[1;32m     91\u001b[0m     \u001b[38;5;66;03m# outer indexing\u001b[39;00m\n",
      "File \u001b[0;32m~/.conda/envs/rsc_env/lib/python3.12/site-packages/scipy/sparse/_csc.py:141\u001b[0m, in \u001b[0;36m_csc_base._get_arrayXslice\u001b[0;34m(self, row, col)\u001b[0m\n\u001b[1;32m    140\u001b[0m \u001b[38;5;28;01mdef\u001b[39;00m\u001b[38;5;250m \u001b[39m\u001b[38;5;21m_get_arrayXslice\u001b[39m(\u001b[38;5;28mself\u001b[39m, row, col):\n\u001b[0;32m--> 141\u001b[0m     \u001b[38;5;28;01mreturn\u001b[39;00m \u001b[38;5;28;43mself\u001b[39;49m\u001b[38;5;241;43m.\u001b[39;49m\u001b[43m_major_slice\u001b[49m\u001b[43m(\u001b[49m\u001b[43mcol\u001b[49m\u001b[43m)\u001b[49m\u001b[38;5;241;43m.\u001b[39;49m\u001b[43m_minor_index_fancy\u001b[49m\u001b[43m(\u001b[49m\u001b[43mrow\u001b[49m\u001b[43m)\u001b[49m\n",
      "File \u001b[0;32m~/.conda/envs/rsc_env/lib/python3.12/site-packages/scipy/sparse/_compressed.py:854\u001b[0m, in \u001b[0;36m_cs_matrix._minor_index_fancy\u001b[0;34m(self, idx)\u001b[0m\n\u001b[1;32m    852\u001b[0m col_order \u001b[38;5;241m=\u001b[39m np\u001b[38;5;241m.\u001b[39margsort(idx)\u001b[38;5;241m.\u001b[39mastype(idx_dtype, copy\u001b[38;5;241m=\u001b[39m\u001b[38;5;28;01mFalse\u001b[39;00m)\n\u001b[1;32m    853\u001b[0m nnz \u001b[38;5;241m=\u001b[39m res_indptr[\u001b[38;5;241m-\u001b[39m\u001b[38;5;241m1\u001b[39m]\n\u001b[0;32m--> 854\u001b[0m res_indices \u001b[38;5;241m=\u001b[39m \u001b[43mnp\u001b[49m\u001b[38;5;241;43m.\u001b[39;49m\u001b[43mempty\u001b[49m\u001b[43m(\u001b[49m\u001b[43mnnz\u001b[49m\u001b[43m,\u001b[49m\u001b[43m \u001b[49m\u001b[43mdtype\u001b[49m\u001b[38;5;241;43m=\u001b[39;49m\u001b[43midx_dtype\u001b[49m\u001b[43m)\u001b[49m\n\u001b[1;32m    855\u001b[0m res_data \u001b[38;5;241m=\u001b[39m np\u001b[38;5;241m.\u001b[39mempty(nnz, dtype\u001b[38;5;241m=\u001b[39m\u001b[38;5;28mself\u001b[39m\u001b[38;5;241m.\u001b[39mdtype)\n\u001b[1;32m    856\u001b[0m csr_column_index2(col_order, col_offsets, \u001b[38;5;28mlen\u001b[39m(\u001b[38;5;28mself\u001b[39m\u001b[38;5;241m.\u001b[39mindices),\n\u001b[1;32m    857\u001b[0m                   indices, \u001b[38;5;28mself\u001b[39m\u001b[38;5;241m.\u001b[39mdata, res_indices, res_data)\n",
      "\u001b[0;31mMemoryError\u001b[0m: Unable to allocate 60.0 GiB for an array with shape (8051880520,) and data type int64"
     ]
    }
   ],
   "source": [
    "expressed_genes = rna_single_guides.X.getnnz(axis=0) > 0  # Genes expressed in at least one cell"
   ]
  },
  {
   "cell_type": "code",
   "execution_count": null,
   "metadata": {},
   "outputs": [],
   "source": [
    "rna_single_guides = rna[rna.obs['sgRNA'].notna(), :]  # Cells with sgRNAs"
   ]
  },
  {
   "cell_type": "markdown",
   "metadata": {},
   "source": [
    "## Determining which KOs are TF KOs"
   ]
  },
  {
   "cell_type": "markdown",
   "metadata": {},
   "source": [
    "Extract the set of all gene knockouts from `crispr.var` and save as a .txt file."
   ]
  },
  {
   "cell_type": "code",
   "execution_count": 5,
   "metadata": {},
   "outputs": [],
   "source": [
    "# crispr = mdata[\"crispr\"]\n",
    "# crispr_sgrnas = crispr.var.index.tolist()\n",
    "# crispr_genes = {crispr_sgrnas[i][:-2] for i in range(len(crispr_sgrnas))}\n",
    "# crispr_genes = sorted(list(crispr_genes))\n",
    "# print(crispr_genes[:10])\n",
    "# with open(\"gene_knockouts.txt\", \"w\") as f:\n",
    "#     for gene in crispr_genes:\n",
    "#         f.write(gene + \"\\n\")"
   ]
  },
  {
   "cell_type": "markdown",
   "metadata": {},
   "source": [
    "Read the KO .txt file in."
   ]
  },
  {
   "cell_type": "code",
   "execution_count": 6,
   "metadata": {},
   "outputs": [],
   "source": [
    "# with open(\"gene_knockouts.txt\") as f:\n",
    "#     gene_kos = f.read().split()\n",
    "# print(gene_kos[:10])\n",
    "# print(len(gene_kos))"
   ]
  },
  {
   "cell_type": "markdown",
   "metadata": {},
   "source": [
    "### Comparing Perturb-seq KOs to human TFs from Lambert et al 2018 study"
   ]
  },
  {
   "cell_type": "markdown",
   "metadata": {},
   "source": [
    "Lambert et al (2018) identified 1639 human transcription factors; this list of TFs is publicly available as a spreadsheet of each studied gene and whether or not it is a TF. \n",
    "\n",
    "Read in the spreadsheet and view the first few rows and columns:"
   ]
  },
  {
   "cell_type": "code",
   "execution_count": 7,
   "metadata": {},
   "outputs": [],
   "source": [
    "# lambert_csv = pd.read_csv(\"Lambert_2018_TFs.csv\")\n",
    "# print(lambert_csv.iloc[:10, :4])"
   ]
  },
  {
   "cell_type": "markdown",
   "metadata": {},
   "source": [
    "Filter TFs from full list"
   ]
  },
  {
   "cell_type": "code",
   "execution_count": 8,
   "metadata": {},
   "outputs": [],
   "source": [
    "# lambert_tfs = lambert_csv[lambert_csv.iloc[:,3] == \"Yes\"].iloc[:,1].tolist()\n",
    "# print(lambert_tfs[:10])\n",
    "# print(len(lambert_tfs))"
   ]
  },
  {
   "cell_type": "markdown",
   "metadata": {},
   "source": [
    "Find the intersection of the set of 11702 Perturb-seq KOs and the set of 1639 transcription factors"
   ]
  },
  {
   "cell_type": "code",
   "execution_count": 9,
   "metadata": {},
   "outputs": [],
   "source": [
    "# tfs = set(gene_kos) & set(lambert_tfs)\n",
    "# tfs = list(tfs)\n",
    "# tfs.sort()\n",
    "# print(tfs[:10])\n",
    "# print(len(tfs))"
   ]
  },
  {
   "cell_type": "markdown",
   "metadata": {},
   "source": [
    "Some TFs in the Lambert set are missing from the gene KO set. To verify that this is indeed the case, use the Ensembl ID of each missing TF to find alternate gene names (synonyms), and search the gene KO set for these synonyms."
   ]
  },
  {
   "cell_type": "code",
   "execution_count": 10,
   "metadata": {},
   "outputs": [],
   "source": [
    "# # Get missing TFs\n",
    "# missing_tfs = set(lambert_tfs) - set(tfs)\n",
    "# print(f\"Lambert TFs not present in Perturb-seq KOs: {missing_tfs}\")\n",
    "# # Get Ensembl ID for each missing TF\n",
    "# missing_tf_ensembl = lambert_csv[lambert_csv.iloc[:, 1].isin(missing_tfs)].iloc[:, 0].tolist()\n",
    "# print(f\"Ensembl IDs for Lambert TFs not in Perturb-seq KOs: {missing_tf_ensembl}\")\n",
    "\n",
    "# # Generate gene synonyms for each missing TF\n",
    "# def get_ensembl_synonyms(ensembl_id):\n",
    "#     # Use Ensembl REST API xrefs/id to search up gene synonyms for a given Ensembl ID\n",
    "#     url = \"https://rest.ensembl.org/xrefs/id/\" + ensembl_id + \"?content-type=application/json\"\n",
    "#     response = requests.get(url)\n",
    "#     if response.status_code == 200:\n",
    "#         data = response.json()\n",
    "#         synonyms = list()\n",
    "#         for xref in data:\n",
    "#             if xref.get('synonyms'):\n",
    "#                 synonyms.extend(xref['synonyms'])\n",
    "#         return synonyms\n",
    "#     else:\n",
    "#         return f\"Error fetching data for {ensembl_id}: {response.status_code}\"\n",
    "# synonym_list = []\n",
    "# for id in missing_tf_ensembl:\n",
    "#     alt_names = list(set(get_ensembl_synonyms(id)))\n",
    "#     synonym_list.append(alt_names)\n",
    "# print(f\"Gene synonyms for Lambert TFs not in Perturb-seq KOs: {synonym_list}\")\n",
    "\n",
    "# # Search gene KO set for these synonyms\n",
    "# alt_name_tfs = list()\n",
    "# for gene_synonyms in synonym_list:\n",
    "#     for synonym in gene_synonyms:\n",
    "#         if synonym in gene_kos:\n",
    "#             alt_name_tfs.append(synonym)\n",
    "# print(f\"TF gene synonyms present in Perturb-seq KOs: {alt_name_tfs}\")"
   ]
  },
  {
   "cell_type": "markdown",
   "metadata": {},
   "source": [
    "None of the synonyms were found in the Perturb-seq gene KO set; thus, the final set of TFs in common between the gene KO set and the Lambert TF set is 1610 TFs. Save the final set of TFs as a .txt file."
   ]
  },
  {
   "cell_type": "code",
   "execution_count": 11,
   "metadata": {},
   "outputs": [],
   "source": [
    "# with open(\"tfs_1610.txt\", \"w\") as f:\n",
    "#     for tf in tfs:\n",
    "#         f.write(tf + \"\\n\")"
   ]
  }
 ],
 "metadata": {
  "kernelspec": {
   "display_name": "rsc_env",
   "language": "python",
   "name": "python3"
  },
  "language_info": {
   "codemirror_mode": {
    "name": "ipython",
    "version": 3
   },
   "file_extension": ".py",
   "mimetype": "text/x-python",
   "name": "python",
   "nbconvert_exporter": "python",
   "pygments_lexer": "ipython3",
   "version": "3.12.9"
  }
 },
 "nbformat": 4,
 "nbformat_minor": 2
}
